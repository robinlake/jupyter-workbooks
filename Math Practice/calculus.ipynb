{
 "cells": [
  {
   "cell_type": "code",
   "execution_count": 2,
   "id": "c536dee3-1346-4db1-9464-431d72664580",
   "metadata": {},
   "outputs": [],
   "source": [
    "import sympy as sp\n",
    "import functools\n",
    "import math"
   ]
  },
  {
   "cell_type": "code",
   "execution_count": 4,
   "id": "98a18a18-2af9-41aa-a816-bd3f92785d0d",
   "metadata": {},
   "outputs": [],
   "source": [
    "x, y, z = sp.symbols(\"x y z\")"
   ]
  },
  {
   "cell_type": "markdown",
   "id": "736bf1d7-c381-43f2-8b0c-b5b8edf84477",
   "metadata": {},
   "source": [
    "## Derivatives\n",
    "\n",
    "Sum rule: $\\frac{d}{dx}(f(x) + g(x)) = f^\\prime(x) + g^\\prime(x)$\\\n",
    "Product rule: $\\frac{d}{dx} f(x)g(x) = f(x)g^\\prime(x) + f^\\prime(x)g(x)$\\\n",
    "Chain rule: $\\frac{d}{dx}f(x)\\circ g(x) = (f^\\prime(x)\\circ g(x))\\cdot g^\\prime(x)$\\\n",
    "Power rule: $\\frac{d}{dx}x^n = nx^{n-1}$\n",
    "Quotient rule: $\\frac{d}{dx} \\frac{f(x)}{g} = \\frac{f^\\prime(x) g(x) - g^\\prime(x) f(x)}{g(x)^2}$\\\n",
    "Reciprocal rule: $\\frac{d}{dx} \\frac{1}{f(x)} = -\\frac{f^\\prime(x)}{f(x)^2}$"
   ]
  },
  {
   "cell_type": "markdown",
   "id": "c2e56671-3c77-42fa-b282-deec3a921d65",
   "metadata": {},
   "source": [
    "### SymPy"
   ]
  },
  {
   "cell_type": "code",
   "execution_count": 11,
   "id": "8719b118-cb1e-4625-b1e2-3c7bb555bef1",
   "metadata": {},
   "outputs": [
    {
     "data": {
      "text/latex": [
       "$\\displaystyle x^{2}$"
      ],
      "text/plain": [
       "x**2"
      ]
     },
     "execution_count": 11,
     "metadata": {},
     "output_type": "execute_result"
    }
   ],
   "source": [
    "# derivative\n",
    "squared = x**2\n",
    "squared\n",
    "derivative = sp.diff(squared)\n",
    "derivative"
   ]
  },
  {
   "cell_type": "markdown",
   "id": "1bbe41d0-77d5-48cf-8bdb-f2a2c2c7b99c",
   "metadata": {},
   "source": [
    "## Integrals"
   ]
  },
  {
   "cell_type": "code",
   "execution_count": null,
   "id": "eb7dee2c-6bb4-4857-8274-64c4a1b94bd2",
   "metadata": {},
   "outputs": [],
   "source": []
  }
 ],
 "metadata": {
  "kernelspec": {
   "display_name": "Python 3 (ipykernel)",
   "language": "python",
   "name": "python3"
  },
  "language_info": {
   "codemirror_mode": {
    "name": "ipython",
    "version": 3
   },
   "file_extension": ".py",
   "mimetype": "text/x-python",
   "name": "python",
   "nbconvert_exporter": "python",
   "pygments_lexer": "ipython3",
   "version": "3.10.6"
  }
 },
 "nbformat": 4,
 "nbformat_minor": 5
}
