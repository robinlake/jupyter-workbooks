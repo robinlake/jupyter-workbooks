{
 "cells": [
  {
   "cell_type": "markdown",
   "id": "32c69180",
   "metadata": {
    "canvas": {
     "comments": [],
     "componentType": "CodeCell",
     "copiedOriginId": null,
     "diskcache": false,
     "headerColor": "none",
     "id": "fa1f9f01-1d9c-47a2-bc6b-362558a8d202",
     "isComponent": false,
     "name": "",
     "parents": []
    },
    "tags": []
   },
   "source": [
    "### Following tutorial:\n",
    "https://www.youtube.com/playlist?list=PLSE7WKf_qqo1T5VV1nqXTj2iNiSpFk72T"
   ]
  },
  {
   "cell_type": "code",
   "execution_count": 2,
   "id": "e1a5644d",
   "metadata": {
    "canvas": {
     "comments": [],
     "componentType": "CodeCell",
     "copiedOriginId": null,
     "diskcache": false,
     "headerColor": "none",
     "id": "bdd59783-3b0e-471d-990c-4fa905dcfccf",
     "isComponent": false,
     "name": "",
     "parents": []
    }
   },
   "outputs": [],
   "source": [
    "import sympy as sp"
   ]
  },
  {
   "cell_type": "code",
   "execution_count": 5,
   "id": "7591db2d",
   "metadata": {
    "canvas": {
     "comments": [],
     "componentType": "CodeCell",
     "copiedOriginId": null,
     "diskcache": false,
     "headerColor": "none",
     "id": "4cf2b81d-8c9a-4393-a96b-aeefe2bf5837",
     "isComponent": false,
     "name": "",
     "parents": []
    }
   },
   "outputs": [
    {
     "data": {
      "text/latex": [
       "$\\displaystyle \\sqrt{2}$"
      ],
      "text/plain": [
       "sqrt(2)"
      ]
     },
     "execution_count": 5,
     "metadata": {},
     "output_type": "execute_result"
    }
   ],
   "source": [
    "sp.sqrt(2)"
   ]
  },
  {
   "cell_type": "code",
   "execution_count": 6,
   "id": "cdcb8309",
   "metadata": {
    "canvas": {
     "comments": [],
     "componentType": "CodeCell",
     "copiedOriginId": null,
     "diskcache": false,
     "headerColor": "none",
     "id": "851ec16b-bcee-4d98-a7ed-ae34bd30967e",
     "isComponent": false,
     "name": "",
     "parents": []
    }
   },
   "outputs": [
    {
     "data": {
      "text/latex": [
       "$\\displaystyle 2$"
      ],
      "text/plain": [
       "2"
      ]
     },
     "execution_count": 6,
     "metadata": {},
     "output_type": "execute_result"
    }
   ],
   "source": [
    "sp.sqrt(2) ** 2"
   ]
  },
  {
   "cell_type": "code",
   "execution_count": 9,
   "id": "177cc630",
   "metadata": {
    "canvas": {
     "comments": [],
     "componentType": "CodeCell",
     "copiedOriginId": null,
     "diskcache": false,
     "headerColor": "none",
     "id": "1087c597-6712-4685-aa75-8e6916a3fa3a",
     "isComponent": false,
     "name": "",
     "parents": []
    }
   },
   "outputs": [
    {
     "data": {
      "text/latex": [
       "$\\displaystyle x$"
      ],
      "text/plain": [
       "x"
      ]
     },
     "execution_count": 9,
     "metadata": {},
     "output_type": "execute_result"
    }
   ],
   "source": [
    "# Make a symbol\n",
    "x = sp.Symbol(\"x\")\n",
    "x"
   ]
  },
  {
   "cell_type": "code",
   "execution_count": 11,
   "id": "9ea9d40c",
   "metadata": {
    "canvas": {
     "comments": [],
     "componentType": "CodeCell",
     "copiedOriginId": null,
     "diskcache": false,
     "headerColor": "none",
     "id": "f0db4596-baaf-4bd0-a982-ba76353242eb",
     "isComponent": false,
     "name": "",
     "parents": []
    }
   },
   "outputs": [
    {
     "data": {
      "text/latex": [
       "$\\displaystyle 2 x + 5$"
      ],
      "text/plain": [
       "2*x + 5"
      ]
     },
     "execution_count": 11,
     "metadata": {},
     "output_type": "execute_result"
    }
   ],
   "source": [
    "# A simple expression\n",
    "2*x + 5"
   ]
  },
  {
   "cell_type": "code",
   "execution_count": 12,
   "id": "4f070ae5",
   "metadata": {
    "canvas": {
     "comments": [],
     "componentType": "CodeCell",
     "copiedOriginId": null,
     "diskcache": false,
     "headerColor": "none",
     "id": "f6eb8330-8d68-41ac-81c4-a95b15df3ded",
     "isComponent": false,
     "name": "",
     "parents": []
    }
   },
   "outputs": [
    {
     "data": {
      "text/latex": [
       "$\\displaystyle z$"
      ],
      "text/plain": [
       "z"
      ]
     },
     "execution_count": 12,
     "metadata": {},
     "output_type": "execute_result"
    }
   ],
   "source": [
    "# The variable name and symbol name do not need to conicide\n",
    "y = sp.Symbol(\"z\")\n",
    "y"
   ]
  },
  {
   "cell_type": "markdown",
   "id": "85741eee",
   "metadata": {
    "canvas": {
     "comments": [],
     "componentType": "CodeCell",
     "copiedOriginId": null,
     "diskcache": false,
     "headerColor": "none",
     "id": "dcee9901-003a-4343-a620-3fcf7a061cce",
     "isComponent": false,
     "name": "",
     "parents": []
    }
   },
   "source": [
    "### Simplification"
   ]
  },
  {
   "cell_type": "code",
   "execution_count": 13,
   "id": "954157bf",
   "metadata": {
    "canvas": {
     "comments": [],
     "componentType": "CodeCell",
     "copiedOriginId": null,
     "diskcache": false,
     "headerColor": "none",
     "id": "9537d6c3-ce9d-4cf9-9dfb-b2e17efb4da3",
     "isComponent": false,
     "name": "",
     "parents": []
    }
   },
   "outputs": [
    {
     "data": {
      "text/latex": [
       "$\\displaystyle 3 x - 5$"
      ],
      "text/plain": [
       "3*x - 5"
      ]
     },
     "execution_count": 13,
     "metadata": {},
     "output_type": "execute_result"
    }
   ],
   "source": [
    "# Sometimes SymPy expressions are automatically simplified\n",
    "2*x + x - 5"
   ]
  },
  {
   "cell_type": "code",
   "execution_count": 14,
   "id": "f32df37d",
   "metadata": {
    "canvas": {
     "comments": [],
     "componentType": "CodeCell",
     "copiedOriginId": null,
     "diskcache": false,
     "headerColor": "none",
     "id": "09697048-f8b8-46b2-9604-26bf497a1312",
     "isComponent": false,
     "name": "",
     "parents": []
    }
   },
   "outputs": [
    {
     "data": {
      "text/latex": [
       "$\\displaystyle \\sin^{2}{\\left(x \\right)} + \\cos^{2}{\\left(x \\right)}$"
      ],
      "text/plain": [
       "sin(x)**2 + cos(x)**2"
      ]
     },
     "execution_count": 14,
     "metadata": {},
     "output_type": "execute_result"
    }
   ],
   "source": [
    "# Sine and cosine\n",
    "sp.sin(x)**2 + sp.cos(x)**2"
   ]
  },
  {
   "cell_type": "code",
   "execution_count": 15,
   "id": "972c687c",
   "metadata": {
    "canvas": {
     "comments": [],
     "componentType": "CodeCell",
     "copiedOriginId": null,
     "diskcache": false,
     "headerColor": "none",
     "id": "a24b18f8-0fb5-4dd8-b615-844a6edc4c69",
     "isComponent": false,
     "name": "",
     "parents": []
    }
   },
   "outputs": [
    {
     "data": {
      "text/latex": [
       "$\\displaystyle \\frac{x}{3}$"
      ],
      "text/plain": [
       "x/3"
      ]
     },
     "execution_count": 15,
     "metadata": {},
     "output_type": "execute_result"
    }
   ],
   "source": [
    "# Division\n",
    "2*x / 6"
   ]
  },
  {
   "cell_type": "code",
   "execution_count": 16,
   "id": "556f053a",
   "metadata": {
    "canvas": {
     "comments": [],
     "componentType": "CodeCell",
     "copiedOriginId": null,
     "diskcache": false,
     "headerColor": "none",
     "id": "dd17abc4-f180-481e-b2e7-85e9a77282c1",
     "isComponent": false,
     "name": "",
     "parents": []
    }
   },
   "outputs": [
    {
     "data": {
      "text/latex": [
       "$\\displaystyle 1$"
      ],
      "text/plain": [
       "1"
      ]
     },
     "execution_count": 16,
     "metadata": {},
     "output_type": "execute_result"
    }
   ],
   "source": [
    "# Cancellation in division\n",
    "x/x"
   ]
  },
  {
   "cell_type": "code",
   "execution_count": 18,
   "id": "c4002763",
   "metadata": {
    "canvas": {
     "comments": [],
     "componentType": "CodeCell",
     "copiedOriginId": null,
     "diskcache": false,
     "headerColor": "none",
     "id": "b5739560-b412-4466-9813-7fc15715b0bf",
     "isComponent": false,
     "name": "",
     "parents": []
    }
   },
   "outputs": [
    {
     "data": {
      "text/latex": [
       "$\\displaystyle x \\left(x + 2\\right)$"
      ],
      "text/plain": [
       "x*(x + 2)"
      ]
     },
     "execution_count": 18,
     "metadata": {},
     "output_type": "execute_result"
    }
   ],
   "source": [
    "# When is the multiplication not carried out?\n",
    "# SymPy will not expand out parentheses without you explicitly asking for it\n",
    "expr = x*(x+2)\n",
    "expr"
   ]
  },
  {
   "cell_type": "markdown",
   "id": "4658292e",
   "metadata": {
    "canvas": {
     "comments": [],
     "componentType": "CodeCell",
     "copiedOriginId": null,
     "diskcache": false,
     "headerColor": "none",
     "id": "941aa50d-b694-4f9b-a273-7dfa4ceb0a8b",
     "isComponent": false,
     "name": "",
     "parents": []
    }
   },
   "source": [
    "### Expand expression\n",
    "To expand an expression, use the expand method"
   ]
  },
  {
   "cell_type": "code",
   "execution_count": 19,
   "id": "83af031d",
   "metadata": {
    "canvas": {
     "comments": [],
     "componentType": "CodeCell",
     "copiedOriginId": null,
     "diskcache": false,
     "headerColor": "none",
     "id": "81778f0e-afb6-4d18-b185-dd2f21ff9802",
     "isComponent": false,
     "name": "",
     "parents": []
    }
   },
   "outputs": [
    {
     "data": {
      "text/latex": [
       "$\\displaystyle x^{2} + 2 x$"
      ],
      "text/plain": [
       "x**2 + 2*x"
      ]
     },
     "execution_count": 19,
     "metadata": {},
     "output_type": "execute_result"
    }
   ],
   "source": [
    "# Expanding the expression\n",
    "expr.expand()"
   ]
  },
  {
   "cell_type": "code",
   "execution_count": 20,
   "id": "e5c7ea59",
   "metadata": {
    "canvas": {
     "comments": [],
     "componentType": "CodeCell",
     "copiedOriginId": null,
     "diskcache": false,
     "headerColor": "none",
     "id": "1f20a427-333d-49ed-94df-6caba1a77e83",
     "isComponent": false,
     "name": "",
     "parents": []
    }
   },
   "outputs": [
    {
     "data": {
      "text/latex": [
       "$\\displaystyle x \\left(x + 2\\right)$"
      ],
      "text/plain": [
       "x*(x + 2)"
      ]
     },
     "execution_count": 20,
     "metadata": {},
     "output_type": "execute_result"
    }
   ],
   "source": [
    "# The expression itself does not change\n",
    "expr"
   ]
  },
  {
   "cell_type": "code",
   "execution_count": 21,
   "id": "9c18f34e",
   "metadata": {
    "canvas": {
     "comments": [],
     "componentType": "CodeCell",
     "copiedOriginId": null,
     "diskcache": false,
     "headerColor": "none",
     "id": "bb7434dd-1818-46c0-b6f6-4ebc3da4d049",
     "isComponent": false,
     "name": "",
     "parents": []
    }
   },
   "outputs": [
    {
     "data": {
      "text/latex": [
       "$\\displaystyle x^{2} + 2 x$"
      ],
      "text/plain": [
       "x**2 + 2*x"
      ]
     },
     "execution_count": 21,
     "metadata": {},
     "output_type": "execute_result"
    }
   ],
   "source": [
    "# Can also use expand as a function\n",
    "sp.expand(expr)"
   ]
  },
  {
   "cell_type": "code",
   "execution_count": 22,
   "id": "59cc93d5",
   "metadata": {
    "canvas": {
     "comments": [],
     "componentType": "CodeCell",
     "copiedOriginId": null,
     "diskcache": false,
     "headerColor": "none",
     "id": "eb848c5c-699b-4504-8a3d-ca8f2f7f11e9",
     "isComponent": false,
     "name": "",
     "parents": []
    }
   },
   "outputs": [
    {
     "data": {
      "text/plain": [
       "(s, t)"
      ]
     },
     "execution_count": 22,
     "metadata": {},
     "output_type": "execute_result"
    }
   ],
   "source": [
    "# Can define multiple symbols at once\n",
    "sp.symbols(\"s t\")"
   ]
  },
  {
   "cell_type": "code",
   "execution_count": 23,
   "id": "20558bbf",
   "metadata": {
    "canvas": {
     "comments": [],
     "componentType": "CodeCell",
     "copiedOriginId": null,
     "diskcache": false,
     "headerColor": "none",
     "id": "4a0ee4fa-085a-46d9-8d78-33522a8d7fea",
     "isComponent": false,
     "name": "",
     "parents": []
    }
   },
   "outputs": [
    {
     "data": {
      "text/plain": [
       "tuple"
      ]
     },
     "execution_count": 23,
     "metadata": {},
     "output_type": "execute_result"
    }
   ],
   "source": [
    " # Can check the type\n",
    "type(sp.symbols(\"s t\"))"
   ]
  },
  {
   "cell_type": "code",
   "execution_count": 24,
   "id": "e8b7422e",
   "metadata": {
    "canvas": {
     "comments": [],
     "componentType": "CodeCell",
     "copiedOriginId": null,
     "diskcache": false,
     "headerColor": "none",
     "id": "69408d8b-77d3-4114-85a4-22816d0d61b1",
     "isComponent": false,
     "name": "",
     "parents": []
    }
   },
   "outputs": [],
   "source": [
    "# Can use tuple unpacking to collect the symbols\n",
    "s, t = sp.symbols(\"s, t\")"
   ]
  },
  {
   "cell_type": "code",
   "execution_count": 25,
   "id": "df81ba3b",
   "metadata": {
    "canvas": {
     "comments": [],
     "componentType": "CodeCell",
     "copiedOriginId": null,
     "diskcache": false,
     "headerColor": "none",
     "id": "9f4d7964-d2fd-43d7-acf0-db84023b0e8d",
     "isComponent": false,
     "name": "",
     "parents": []
    }
   },
   "outputs": [
    {
     "data": {
      "text/latex": [
       "$\\displaystyle t \\left(s + 2\\right) \\left(t - 3\\right)$"
      ],
      "text/plain": [
       "t*(s + 2)*(t - 3)"
      ]
     },
     "execution_count": 25,
     "metadata": {},
     "output_type": "execute_result"
    }
   ],
   "source": [
    "poly = t*(s+2)*(t-3)\n",
    "poly"
   ]
  },
  {
   "cell_type": "code",
   "execution_count": 26,
   "id": "afe9d777",
   "metadata": {
    "canvas": {
     "comments": [],
     "componentType": "CodeCell",
     "copiedOriginId": null,
     "diskcache": false,
     "headerColor": "none",
     "id": "dc34739b-50ad-4af0-a5aa-c73e1d2caa5b",
     "isComponent": false,
     "name": "",
     "parents": []
    }
   },
   "outputs": [
    {
     "data": {
      "text/latex": [
       "$\\displaystyle s t^{2} - 3 s t + 2 t^{2} - 6 t$"
      ],
      "text/plain": [
       "s*t**2 - 3*s*t + 2*t**2 - 6*t"
      ]
     },
     "execution_count": 26,
     "metadata": {},
     "output_type": "execute_result"
    }
   ],
   "source": [
    "# Expanding the curve\n",
    "poly.expand()"
   ]
  },
  {
   "cell_type": "markdown",
   "id": "cef7b5cf",
   "metadata": {
    "canvas": {
     "comments": [],
     "componentType": "CodeCell",
     "copiedOriginId": null,
     "diskcache": false,
     "headerColor": "none",
     "id": "6f8354a8-0964-424c-9527-572435f90bfb",
     "isComponent": false,
     "name": "",
     "parents": []
    }
   },
   "source": [
    "### Factor Expressions\n",
    "To factor an expression, we will use the factor method"
   ]
  },
  {
   "cell_type": "code",
   "execution_count": 27,
   "id": "c3795cee",
   "metadata": {
    "canvas": {
     "comments": [],
     "componentType": "CodeCell",
     "copiedOriginId": null,
     "diskcache": false,
     "headerColor": "none",
     "id": "aa45db3d-2af7-410a-86a3-0d84d887e1cd",
     "isComponent": false,
     "name": "",
     "parents": []
    }
   },
   "outputs": [
    {
     "data": {
      "text/latex": [
       "$\\displaystyle x^{2} + 2 x - 15$"
      ],
      "text/plain": [
       "x**2 + 2*x - 15"
      ]
     },
     "execution_count": 27,
     "metadata": {},
     "output_type": "execute_result"
    }
   ],
   "source": [
    "expr = x**2 + 2*x - 15\n",
    "expr"
   ]
  },
  {
   "cell_type": "code",
   "execution_count": 28,
   "id": "586919f9",
   "metadata": {
    "canvas": {
     "comments": [],
     "componentType": "CodeCell",
     "copiedOriginId": null,
     "diskcache": false,
     "headerColor": "none",
     "id": "d53bde8c-c6ce-4369-99dd-e88ffc1db2f7",
     "isComponent": false,
     "name": "",
     "parents": []
    }
   },
   "outputs": [
    {
     "data": {
      "text/latex": [
       "$\\displaystyle \\left(x - 3\\right) \\left(x + 5\\right)$"
      ],
      "text/plain": [
       "(x - 3)*(x + 5)"
      ]
     },
     "execution_count": 28,
     "metadata": {},
     "output_type": "execute_result"
    }
   ],
   "source": [
    "# Factoring the polynomial\n",
    "# Will not work for quintic or higher functions\n",
    "expr.factor()"
   ]
  },
  {
   "cell_type": "code",
   "execution_count": 29,
   "id": "26f4455a",
   "metadata": {
    "canvas": {
     "comments": [],
     "componentType": "CodeCell",
     "copiedOriginId": null,
     "diskcache": false,
     "headerColor": "none",
     "id": "e31f8a4f-6355-4a52-bae6-116bbe1784a0",
     "isComponent": false,
     "name": "",
     "parents": []
    }
   },
   "outputs": [],
   "source": [
    "# Can make many symbols as follows\n",
    "x_v = sp.symbols(\"x0:3\")"
   ]
  },
  {
   "cell_type": "code",
   "execution_count": 30,
   "id": "862865f2",
   "metadata": {
    "canvas": {
     "comments": [],
     "componentType": "CodeCell",
     "copiedOriginId": null,
     "diskcache": false,
     "headerColor": "none",
     "id": "bea22ca9-844d-4867-975a-edbc11533bdd",
     "isComponent": false,
     "name": "",
     "parents": []
    }
   },
   "outputs": [
    {
     "data": {
      "text/plain": [
       "(x0, x1, x2)"
      ]
     },
     "execution_count": 30,
     "metadata": {},
     "output_type": "execute_result"
    }
   ],
   "source": [
    "# This is a tuple of symbols\n",
    "x_v"
   ]
  },
  {
   "cell_type": "code",
   "execution_count": 31,
   "id": "277f0328",
   "metadata": {
    "canvas": {
     "comments": [],
     "componentType": "CodeCell",
     "copiedOriginId": null,
     "diskcache": false,
     "headerColor": "none",
     "id": "d53a00d0-800e-463b-8621-ee645a50ad32",
     "isComponent": false,
     "name": "",
     "parents": []
    }
   },
   "outputs": [
    {
     "data": {
      "text/latex": [
       "$\\displaystyle x_{0}^{2} x_{1} x_{2} + x_{0} x_{1} x_{2}$"
      ],
      "text/plain": [
       "x0**2*x1*x2 + x0*x1*x2"
      ]
     },
     "execution_count": 31,
     "metadata": {},
     "output_type": "execute_result"
    }
   ],
   "source": [
    "ex = x_v[0]**2 * x_v[1] *x_v[2] + x_v[0] * x_v[1] * x_v[2]\n",
    "ex"
   ]
  },
  {
   "cell_type": "code",
   "execution_count": 33,
   "id": "38632f06",
   "metadata": {
    "canvas": {
     "comments": [],
     "componentType": "CodeCell",
     "copiedOriginId": null,
     "diskcache": false,
     "headerColor": "none",
     "id": "d99d3402-b8db-4385-b272-2300bd167b57",
     "isComponent": false,
     "name": "",
     "parents": []
    }
   },
   "outputs": [
    {
     "data": {
      "text/latex": [
       "$\\displaystyle x_{0} x_{1} x_{2} \\left(x_{0} + 1\\right)$"
      ],
      "text/plain": [
       "x0*x1*x2*(x0 + 1)"
      ]
     },
     "execution_count": 33,
     "metadata": {},
     "output_type": "execute_result"
    }
   ],
   "source": [
    "# Factoring the expression\n",
    "sp.factor(ex)"
   ]
  },
  {
   "cell_type": "markdown",
   "id": "5e709eea",
   "metadata": {
    "canvas": {
     "comments": [],
     "componentType": "CodeCell",
     "copiedOriginId": null,
     "diskcache": false,
     "headerColor": "none",
     "id": "3832d68d-9365-4527-a503-26e464479a8b",
     "isComponent": false,
     "name": "",
     "parents": []
    }
   },
   "source": [
    "## Why Data Types in SymPy Matter\n",
    "[video](https://www.youtube.com/watch?v=SQl-XGFOpFU&list=PLSE7WKf_qqo1T5VV1nqXTj2iNiSpFk72T&index=3)"
   ]
  },
  {
   "cell_type": "code",
   "execution_count": 34,
   "id": "99ece8bd",
   "metadata": {
    "canvas": {
     "comments": [],
     "componentType": "CodeCell",
     "copiedOriginId": null,
     "diskcache": false,
     "headerColor": "none",
     "id": "aa8e9fde-8153-4e65-b325-1e0ad8b55e6c",
     "isComponent": false,
     "name": "",
     "parents": []
    }
   },
   "outputs": [],
   "source": [
    "# Defining a symbol x\n",
    "x = sp.Symbol('x')"
   ]
  },
  {
   "cell_type": "code",
   "execution_count": 36,
   "id": "3f223bb7",
   "metadata": {
    "canvas": {
     "comments": [],
     "componentType": "CodeCell",
     "copiedOriginId": null,
     "diskcache": false,
     "headerColor": "none",
     "id": "b9ccd069-9276-4bb7-b065-212c8dcc7f31",
     "isComponent": false,
     "name": "",
     "parents": []
    }
   },
   "outputs": [
    {
     "data": {
      "text/latex": [
       "$\\displaystyle x^{0.333333333333333}$"
      ],
      "text/plain": [
       "x**0.333333333333333"
      ]
     },
     "execution_count": 36,
     "metadata": {},
     "output_type": "execute_result"
    }
   ],
   "source": [
    "expr = x**(1/3)\n",
    "expr"
   ]
  },
  {
   "cell_type": "markdown",
   "id": "99540bbc",
   "metadata": {
    "canvas": {
     "comments": [],
     "componentType": "CodeCell",
     "copiedOriginId": null,
     "diskcache": false,
     "headerColor": "none",
     "id": "4afdbe37-8761-4c95-81bd-b7adbe0cfa99",
     "isComponent": false,
     "name": "",
     "parents": []
    }
   },
   "source": [
    "- Firstly, the expression 1/3 is evaluated to be the floating-point number 0.3333...\n",
    "- Secondly, the SymPy symbol x is raised to the power 0.3333... to form $x^{0.3333\\ldots}$\n",
    "\n",
    "Involving numerics into our symbolic mathematics makes it difficult to recognize terms:"
   ]
  },
  {
   "cell_type": "code",
   "execution_count": 37,
   "id": "2ac98025",
   "metadata": {
    "canvas": {
     "comments": [],
     "componentType": "CodeCell",
     "copiedOriginId": null,
     "diskcache": false,
     "headerColor": "none",
     "id": "554f6ec3-d4e4-4107-9362-2d4ff3389809",
     "isComponent": false,
     "name": "",
     "parents": []
    }
   },
   "outputs": [
    {
     "data": {
      "text/latex": [
       "$\\displaystyle x^{0.0666666666666667}$"
      ],
      "text/plain": [
       "x**0.0666666666666667"
      ]
     },
     "execution_count": 37,
     "metadata": {},
     "output_type": "execute_result"
    }
   ],
   "source": [
    "# This should be exactly x^(1/15)\n",
    "expr ** (1/5)"
   ]
  },
  {
   "cell_type": "markdown",
   "id": "577ce5fd",
   "metadata": {
    "canvas": {
     "comments": [],
     "componentType": "CodeCell",
     "copiedOriginId": null,
     "diskcache": false,
     "headerColor": "none",
     "id": "8b79dc5c-9a0a-4385-90aa-2dbc68a4c7d6",
     "isComponent": false,
     "name": "",
     "parents": []
    }
   },
   "source": [
    "To avoid this, we will introduce the SymPy data types `sp.Integer` and `sp.Rational`\n",
    "\n",
    "### SymPy's Integer Type"
   ]
  },
  {
   "cell_type": "code",
   "execution_count": 39,
   "id": "d188ab69",
   "metadata": {
    "canvas": {
     "comments": [],
     "componentType": "CodeCell",
     "copiedOriginId": null,
     "diskcache": false,
     "headerColor": "none",
     "id": "df9718d2-cc34-4216-b2fc-214d92771c3c",
     "isComponent": false,
     "name": "",
     "parents": []
    }
   },
   "outputs": [
    {
     "data": {
      "text/latex": [
       "$\\displaystyle \\sqrt[3]{x}$"
      ],
      "text/plain": [
       "x**(1/3)"
      ]
     },
     "execution_count": 39,
     "metadata": {},
     "output_type": "execute_result"
    }
   ],
   "source": [
    "# SymPy's integer type\n",
    "expr = x ** (sp.Integer(1) / sp.Integer(3))\n",
    "expr"
   ]
  },
  {
   "cell_type": "code",
   "execution_count": 40,
   "id": "9379dd9d",
   "metadata": {
    "canvas": {
     "comments": [],
     "componentType": "CodeCell",
     "copiedOriginId": null,
     "diskcache": false,
     "headerColor": "none",
     "id": "c4531237-8deb-407b-8187-e31551665450",
     "isComponent": false,
     "name": "",
     "parents": []
    }
   },
   "outputs": [
    {
     "data": {
      "text/latex": [
       "$\\displaystyle \\sqrt[15]{x}$"
      ],
      "text/plain": [
       "x**(1/15)"
      ]
     },
     "execution_count": 40,
     "metadata": {},
     "output_type": "execute_result"
    }
   ],
   "source": [
    "# This should be exactly x^(1/15)\n",
    "expr ** (sp.Integer(1) / sp.Integer(5))"
   ]
  },
  {
   "cell_type": "code",
   "execution_count": 42,
   "id": "3f528d5c",
   "metadata": {
    "canvas": {
     "comments": [],
     "componentType": "CodeCell",
     "copiedOriginId": null,
     "diskcache": false,
     "headerColor": "none",
     "id": "fcc772d2-8d16-4613-a4e6-be5700dbcdcf",
     "isComponent": false,
     "name": "",
     "parents": []
    }
   },
   "outputs": [
    {
     "data": {
      "text/latex": [
       "$\\displaystyle \\sqrt[15]{x}$"
      ],
      "text/plain": [
       "x**(1/15)"
      ]
     },
     "execution_count": 42,
     "metadata": {},
     "output_type": "execute_result"
    }
   ],
   "source": [
    "# Even more simple\n",
    "# If there's an operation between a SymPy object and a python object, \n",
    "# the result will always be converted into a SymPy object\n",
    "expr ** (sp.Integer(1) / 5)"
   ]
  },
  {
   "cell_type": "code",
   "execution_count": 43,
   "id": "3971c249",
   "metadata": {
    "canvas": {
     "comments": [],
     "componentType": "CodeCell",
     "copiedOriginId": null,
     "diskcache": false,
     "headerColor": "none",
     "id": "78ad9394-f0e5-4f63-bf6d-e9eacc90eaea",
     "isComponent": false,
     "name": "",
     "parents": []
    }
   },
   "outputs": [
    {
     "data": {
      "text/plain": [
       "sympy.core.numbers.Rational"
      ]
     },
     "execution_count": 43,
     "metadata": {},
     "output_type": "execute_result"
    }
   ],
   "source": [
    "# This automatically becomes a SymPy rational object\n",
    "type(sp.Integer(1) / 5)"
   ]
  },
  {
   "cell_type": "markdown",
   "id": "9bf44123",
   "metadata": {
    "canvas": {
     "comments": [],
     "componentType": "CodeCell",
     "copiedOriginId": null,
     "diskcache": false,
     "headerColor": "none",
     "id": "c9f11d8a-018b-4d86-af98-5e22fab5da6c",
     "isComponent": false,
     "name": "",
     "parents": []
    }
   },
   "source": [
    "### SymPy's Rational Type\n",
    "\n",
    "For specifying rational numbers we can also directly use the `sp.Rational` constructor:"
   ]
  },
  {
   "cell_type": "code",
   "execution_count": 45,
   "id": "7cf1d901",
   "metadata": {
    "canvas": {
     "comments": [],
     "componentType": "CodeCell",
     "copiedOriginId": null,
     "diskcache": false,
     "headerColor": "none",
     "id": "ec61044d-a254-4df0-8ee9-4f944736fae6",
     "isComponent": false,
     "name": "",
     "parents": []
    }
   },
   "outputs": [
    {
     "data": {
      "text/latex": [
       "$\\displaystyle \\frac{1}{3}$"
      ],
      "text/plain": [
       "1/3"
      ]
     },
     "execution_count": 45,
     "metadata": {},
     "output_type": "execute_result"
    }
   ],
   "source": [
    "# SymPy's rational object\n",
    "rational = sp.Rational(1,3)\n",
    "rational"
   ]
  },
  {
   "cell_type": "markdown",
   "id": "5ba50627",
   "metadata": {
    "canvas": {
     "comments": [],
     "componentType": "CodeCell",
     "copiedOriginId": null,
     "diskcache": false,
     "headerColor": "none",
     "id": "4a3c85ab-5cdd-4bae-ab4e-d7fc77561521",
     "isComponent": false,
     "name": "",
     "parents": []
    }
   },
   "source": [
    "Hence we could also have written the following:"
   ]
  },
  {
   "cell_type": "code",
   "execution_count": 47,
   "id": "579d664a",
   "metadata": {
    "canvas": {
     "comments": [],
     "componentType": "CodeCell",
     "copiedOriginId": null,
     "diskcache": false,
     "headerColor": "none",
     "id": "7ad766dd-16c2-4b4d-8c5a-c901e6b826b6",
     "isComponent": false,
     "name": "",
     "parents": []
    }
   },
   "outputs": [
    {
     "data": {
      "text/latex": [
       "$\\displaystyle \\sqrt[15]{x}$"
      ],
      "text/plain": [
       "x**(1/15)"
      ]
     },
     "execution_count": 47,
     "metadata": {},
     "output_type": "execute_result"
    }
   ],
   "source": [
    "expr = (x ** sp.Rational(1,3)) ** sp.Rational(1,5)\n",
    "expr"
   ]
  },
  {
   "cell_type": "markdown",
   "id": "e3327c72",
   "metadata": {
    "canvas": {
     "comments": [],
     "componentType": "CodeCell",
     "copiedOriginId": null,
     "diskcache": false,
     "headerColor": "none",
     "id": "5f5fcb7e-4c69-4114-9e53-2f9eea2162fb",
     "isComponent": false,
     "name": "",
     "parents": []
    }
   },
   "source": [
    "### Important Constants\n",
    "\n",
    "Certain constants in mathematics are used over and over again. These are very convenient to have easily accessible in SymPy:"
   ]
  },
  {
   "cell_type": "code",
   "execution_count": 49,
   "id": "72acaa24",
   "metadata": {
    "canvas": {
     "comments": [],
     "componentType": "CodeCell",
     "copiedOriginId": null,
     "diskcache": false,
     "headerColor": "none",
     "id": "8fef04f9-8296-442d-9beb-f4eb1f500396",
     "isComponent": false,
     "name": "",
     "parents": []
    }
   },
   "outputs": [
    {
     "data": {
      "text/latex": [
       "$\\displaystyle 3 \\pi$"
      ],
      "text/plain": [
       "3*pi"
      ]
     },
     "execution_count": 49,
     "metadata": {},
     "output_type": "execute_result"
    }
   ],
   "source": [
    "# The constant pi\n",
    "3*sp.pi"
   ]
  },
  {
   "cell_type": "code",
   "execution_count": 51,
   "id": "cc74d1a3",
   "metadata": {
    "canvas": {
     "comments": [],
     "componentType": "CodeCell",
     "copiedOriginId": null,
     "diskcache": false,
     "headerColor": "none",
     "id": "ba4053b7-a533-4c46-9476-f2f00610df33",
     "isComponent": false,
     "name": "",
     "parents": []
    }
   },
   "outputs": [
    {
     "data": {
      "text/latex": [
       "$\\displaystyle e + \\pi$"
      ],
      "text/plain": [
       "E + pi"
      ]
     },
     "execution_count": 51,
     "metadata": {},
     "output_type": "execute_result"
    }
   ],
   "source": [
    "# The constant e\n",
    "sp.E + sp.pi"
   ]
  },
  {
   "cell_type": "code",
   "execution_count": 52,
   "id": "75a8920a",
   "metadata": {
    "canvas": {
     "comments": [],
     "componentType": "CodeCell",
     "copiedOriginId": null,
     "diskcache": false,
     "headerColor": "none",
     "id": "f20c2266-6e75-48e2-b509-38de0af81fde",
     "isComponent": false,
     "name": "",
     "parents": []
    }
   },
   "outputs": [
    {
     "data": {
      "text/latex": [
       "$\\displaystyle \\infty$"
      ],
      "text/plain": [
       "oo"
      ]
     },
     "execution_count": 52,
     "metadata": {},
     "output_type": "execute_result"
    }
   ],
   "source": [
    "# Infinity\n",
    "sp.oo"
   ]
  },
  {
   "cell_type": "markdown",
   "id": "4acd74b6",
   "metadata": {
    "canvas": {
     "comments": [],
     "componentType": "CodeCell",
     "copiedOriginId": null,
     "diskcache": false,
     "headerColor": "none",
     "id": "445d26f5-fbd5-4f5d-9e60-484e9e6a9d47",
     "isComponent": false,
     "name": "",
     "parents": []
    }
   },
   "source": [
    "The infinity constant works the way you think it does:"
   ]
  },
  {
   "cell_type": "code",
   "execution_count": 53,
   "id": "14f90438",
   "metadata": {
    "canvas": {
     "comments": [],
     "componentType": "CodeCell",
     "copiedOriginId": null,
     "diskcache": false,
     "headerColor": "none",
     "id": "cac35ab1-55ea-4c1b-a73a-edb6009341a1",
     "isComponent": false,
     "name": "",
     "parents": []
    }
   },
   "outputs": [
    {
     "data": {
      "text/latex": [
       "$\\displaystyle \\text{NaN}$"
      ],
      "text/plain": [
       "nan"
      ]
     },
     "execution_count": 53,
     "metadata": {},
     "output_type": "execute_result"
    }
   ],
   "source": [
    "sp.oo - sp.oo"
   ]
  },
  {
   "cell_type": "code",
   "execution_count": 54,
   "id": "06c905c4",
   "metadata": {
    "canvas": {
     "comments": [],
     "componentType": "CodeCell",
     "copiedOriginId": null,
     "diskcache": false,
     "headerColor": "none",
     "id": "93f04c2b-439e-4ae9-9f41-3bfabf7e567e",
     "isComponent": false,
     "name": "",
     "parents": []
    }
   },
   "outputs": [
    {
     "data": {
      "text/latex": [
       "$\\displaystyle i$"
      ],
      "text/plain": [
       "I"
      ]
     },
     "execution_count": 54,
     "metadata": {},
     "output_type": "execute_result"
    }
   ],
   "source": [
    "# The imaginary unit\n",
    "sp.I"
   ]
  },
  {
   "cell_type": "code",
   "execution_count": 55,
   "id": "765cb028",
   "metadata": {
    "canvas": {
     "comments": [],
     "componentType": "CodeCell",
     "copiedOriginId": null,
     "diskcache": false,
     "headerColor": "none",
     "id": "d43da44a-cc30-4d53-bcbe-d5dc55a39f37",
     "isComponent": false,
     "name": "",
     "parents": []
    }
   },
   "outputs": [
    {
     "data": {
      "text/latex": [
       "$\\displaystyle -1$"
      ],
      "text/plain": [
       "-1"
      ]
     },
     "execution_count": 55,
     "metadata": {},
     "output_type": "execute_result"
    }
   ],
   "source": [
    "# Complex arithmetic is implemented\n",
    "sp.I ** 2"
   ]
  },
  {
   "cell_type": "markdown",
   "id": "7057f4fb",
   "metadata": {
    "canvas": {
     "comments": [],
     "componentType": "CodeCell",
     "copiedOriginId": null,
     "diskcache": false,
     "headerColor": "none",
     "id": "e2570047-36e7-4899-8430-a3dec99b9450",
     "isComponent": false,
     "name": "",
     "parents": []
    }
   },
   "source": [
    "### Common Functions\n",
    "\n",
    "SymPy has loads of cool functions implemented. Let me go over a few of the most common ones:"
   ]
  },
  {
   "cell_type": "code",
   "execution_count": 56,
   "id": "f8f2e241",
   "metadata": {
    "canvas": {
     "comments": [],
     "componentType": "CodeCell",
     "copiedOriginId": null,
     "diskcache": false,
     "headerColor": "none",
     "id": "fbd36e13-cc38-4702-8df5-09751495a00e",
     "isComponent": false,
     "name": "",
     "parents": []
    }
   },
   "outputs": [
    {
     "data": {
      "text/latex": [
       "$\\displaystyle e^{x}$"
      ],
      "text/plain": [
       "exp(x)"
      ]
     },
     "execution_count": 56,
     "metadata": {},
     "output_type": "execute_result"
    }
   ],
   "source": [
    "# Exponential function\n",
    "sp.exp(x)"
   ]
  },
  {
   "cell_type": "code",
   "execution_count": 57,
   "id": "0ad8bef4",
   "metadata": {
    "canvas": {
     "comments": [],
     "componentType": "CodeCell",
     "copiedOriginId": null,
     "diskcache": false,
     "headerColor": "none",
     "id": "f3180f41-d727-491f-908f-04493911adf6",
     "isComponent": false,
     "name": "",
     "parents": []
    }
   },
   "outputs": [
    {
     "data": {
      "text/latex": [
       "$\\displaystyle -1$"
      ],
      "text/plain": [
       "-1"
      ]
     },
     "execution_count": 57,
     "metadata": {},
     "output_type": "execute_result"
    }
   ],
   "source": [
    "# Eulers identity\n",
    "sp.exp(sp.pi * sp.I)"
   ]
  },
  {
   "cell_type": "code",
   "execution_count": 58,
   "id": "108eab68",
   "metadata": {
    "canvas": {
     "comments": [],
     "componentType": "CodeCell",
     "copiedOriginId": null,
     "diskcache": false,
     "headerColor": "none",
     "id": "7bc49c2f-2adf-48b1-a394-e27989cab0d5",
     "isComponent": false,
     "name": "",
     "parents": []
    }
   },
   "outputs": [
    {
     "data": {
      "text/latex": [
       "$\\displaystyle \\log{\\left(x \\right)}$"
      ],
      "text/plain": [
       "log(x)"
      ]
     },
     "execution_count": 58,
     "metadata": {},
     "output_type": "execute_result"
    }
   ],
   "source": [
    "# Logarithm function\n",
    "sp.log(x)"
   ]
  },
  {
   "cell_type": "code",
   "execution_count": 59,
   "id": "f0160626",
   "metadata": {
    "canvas": {
     "comments": [],
     "componentType": "CodeCell",
     "copiedOriginId": null,
     "diskcache": false,
     "headerColor": "none",
     "id": "1b2cb7d9-8ef7-4eda-afb2-34166f5a246b",
     "isComponent": false,
     "name": "",
     "parents": []
    }
   },
   "outputs": [
    {
     "data": {
      "text/latex": [
       "$\\displaystyle x$"
      ],
      "text/plain": [
       "x"
      ]
     },
     "execution_count": 59,
     "metadata": {},
     "output_type": "execute_result"
    }
   ],
   "source": [
    "# Checking that it is in fact the natural logarithm\n",
    "sp.exp(sp.log(x))"
   ]
  },
  {
   "cell_type": "code",
   "execution_count": 60,
   "id": "cab7fffd",
   "metadata": {
    "canvas": {
     "comments": [],
     "componentType": "CodeCell",
     "copiedOriginId": null,
     "diskcache": false,
     "headerColor": "none",
     "id": "dd967121-29bb-47f1-bd59-babe445a800a",
     "isComponent": false,
     "name": "",
     "parents": []
    }
   },
   "outputs": [
    {
     "data": {
      "text/latex": [
       "$\\displaystyle \\sin{\\left(x \\right)} + \\cos{\\left(x \\right)} + \\tan{\\left(x \\right)}$"
      ],
      "text/plain": [
       "sin(x) + cos(x) + tan(x)"
      ]
     },
     "execution_count": 60,
     "metadata": {},
     "output_type": "execute_result"
    }
   ],
   "source": [
    "# trigonometric functions\n",
    "sp.sin(x) + sp.cos(x) + sp.tan(x)"
   ]
  },
  {
   "cell_type": "code",
   "execution_count": 61,
   "id": "2e04f83d",
   "metadata": {
    "canvas": {
     "comments": [],
     "componentType": "CodeCell",
     "copiedOriginId": null,
     "diskcache": false,
     "headerColor": "none",
     "id": "213f7c54-066b-4e02-a105-785c53a0760e",
     "isComponent": false,
     "name": "",
     "parents": []
    }
   },
   "outputs": [
    {
     "data": {
      "text/latex": [
       "$\\displaystyle x^{2} + e^{\\cos{\\left(x \\right)}} + \\sin{\\left(\\pi x \\right)}$"
      ],
      "text/plain": [
       "x**2 + exp(cos(x)) + sin(pi*x)"
      ]
     },
     "execution_count": 61,
     "metadata": {},
     "output_type": "execute_result"
    }
   ],
   "source": [
    "expr = x ** 2 + sp.sin(sp.pi * x) + sp.exp(sp.cos(x))\n",
    "expr"
   ]
  },
  {
   "cell_type": "markdown",
   "id": "2f5fb613",
   "metadata": {
    "canvas": {
     "comments": [],
     "componentType": "CodeCell",
     "copiedOriginId": null,
     "diskcache": false,
     "headerColor": "none",
     "id": "ff01c90e-dc3a-4d89-9c06-3d8a85c4194e",
     "isComponent": false,
     "name": "",
     "parents": []
    }
   },
   "source": [
    "## Solving Equations\n",
    "\n",
    "In [this](https://www.youtube.com/watch?v=QJCp1YMDdZ0&list=PLSE7WKf_qqo1T5VV1nqXTj2iNiSpFk72T&index=4) lecture, we are going to learn how to solve equations in SymPy.\n",
    "\n",
    "**Functions and attributes in this lecture:**\n",
    "- `sp.Eq()` - Defines a SymPy equation\n",
    "- `sp.solveset()` - Solves equations.\n",
    "- `sp.linsolve()` - Solves linear equations."
   ]
  },
  {
   "cell_type": "code",
   "execution_count": 27,
   "id": "90549933",
   "metadata": {
    "canvas": {
     "comments": [],
     "componentType": "CodeCell",
     "copiedOriginId": null,
     "diskcache": false,
     "headerColor": "none",
     "id": "c6dfcaa2-8bc9-441f-bd53-f484db733318",
     "isComponent": false,
     "name": "",
     "parents": []
    }
   },
   "outputs": [],
   "source": [
    "# Defining symbols x, y, and z\n",
    "x, y, z = sp.symbols(\"x, y, z\")"
   ]
  },
  {
   "cell_type": "markdown",
   "id": "30d84907",
   "metadata": {
    "canvas": {
     "comments": [],
     "componentType": "CodeCell",
     "copiedOriginId": null,
     "diskcache": false,
     "headerColor": "none",
     "id": "143bbf43-7a35-4619-b0dc-4d5552b2436b",
     "isComponent": false,
     "name": "",
     "parents": []
    }
   },
   "source": [
    "## Defining Equations\n",
    "\n",
    "In mathematics we often write $x^2 = 5$ to define equations. However, in Python the symbol `=` is reserved to be a variable assignment. Double equals `==` is reserved for Boolean comparison.\n",
    "\n",
    "To define an equation in SymPy we do the following:"
   ]
  },
  {
   "cell_type": "code",
   "execution_count": 28,
   "id": "c6848669",
   "metadata": {
    "canvas": {
     "comments": [],
     "componentType": "CodeCell",
     "copiedOriginId": null,
     "diskcache": false,
     "headerColor": "none",
     "id": "f9be27db-23bf-47d9-8728-8e93e36f5d13",
     "isComponent": false,
     "name": "",
     "parents": []
    }
   },
   "outputs": [
    {
     "data": {
      "text/latex": [
       "$\\displaystyle x^{2} = 5$"
      ],
      "text/plain": [
       "Eq(x**2, 5)"
      ]
     },
     "execution_count": 28,
     "metadata": {},
     "output_type": "execute_result"
    }
   ],
   "source": [
    "# Defines an equation\n",
    "eq = sp.Eq(x**2, 5)\n",
    "eq"
   ]
  },
  {
   "cell_type": "code",
   "execution_count": 29,
   "id": "9f2c57ee-3eb1-4f47-84b2-cc29bf120559",
   "metadata": {
    "canvas": {
     "comments": [],
     "componentType": "CodeCell",
     "copiedOriginId": null,
     "diskcache": false,
     "headerColor": "none",
     "id": "fe42ed2a-08f2-47f4-9132-19ef5ecc70be",
     "isComponent": false,
     "name": "",
     "parents": []
    }
   },
   "outputs": [
    {
     "data": {
      "text/plain": [
       "sympy.core.relational.Equality"
      ]
     },
     "execution_count": 29,
     "metadata": {},
     "output_type": "execute_result"
    }
   ],
   "source": [
    "# Checking the type ofthe equation\n",
    "type(eq)"
   ]
  },
  {
   "cell_type": "markdown",
   "id": "f0a0b070-35f0-474b-88f1-387a93b91d7c",
   "metadata": {
    "canvas": {
     "comments": [],
     "componentType": "CodeCell",
     "copiedOriginId": null,
     "diskcache": false,
     "headerColor": "none",
     "id": "cd218004-9607-4aa6-a457-87673d3c09ab",
     "isComponent": false,
     "name": "",
     "parents": []
    }
   },
   "source": [
    "In SymPy we can solve equations with the `solveset()` function:"
   ]
  },
  {
   "cell_type": "code",
   "execution_count": 30,
   "id": "5b97657a-709e-44e0-ad24-0ca9e64c305c",
   "metadata": {
    "canvas": {
     "comments": [],
     "componentType": "CodeCell",
     "copiedOriginId": null,
     "diskcache": false,
     "headerColor": "none",
     "id": "5a61ae8c-6d87-462e-a6bd-8067dc43dac3",
     "isComponent": false,
     "name": "",
     "parents": []
    }
   },
   "outputs": [
    {
     "data": {
      "text/latex": [
       "$\\displaystyle \\left\\{- \\sqrt{5}, \\sqrt{5}\\right\\}$"
      ],
      "text/plain": [
       "{-sqrt(5), sqrt(5)}"
      ]
     },
     "execution_count": 30,
     "metadata": {},
     "output_type": "execute_result"
    }
   ],
   "source": [
    "# Use the solveset method\n",
    "sp.solveset(eq)"
   ]
  },
  {
   "cell_type": "code",
   "execution_count": 31,
   "id": "5f3d5a4b-3923-4547-a061-66ba26679ead",
   "metadata": {
    "canvas": {
     "comments": [],
     "componentType": "CodeCell",
     "copiedOriginId": null,
     "diskcache": false,
     "headerColor": "none",
     "id": "d09de0de-8a5a-414f-921c-308178c6faf2",
     "isComponent": false,
     "name": "",
     "parents": []
    }
   },
   "outputs": [
    {
     "data": {
      "text/plain": [
       "sympy.sets.sets.FiniteSet"
      ]
     },
     "execution_count": 31,
     "metadata": {},
     "output_type": "execute_result"
    }
   ],
   "source": [
    "# Checking the type of solveset\n",
    "type(sp.solveset(eq))"
   ]
  },
  {
   "cell_type": "code",
   "execution_count": 32,
   "id": "80714088-4187-4c58-93dc-3659fefb0592",
   "metadata": {
    "canvas": {
     "comments": [],
     "componentType": "CodeCell",
     "copiedOriginId": null,
     "diskcache": false,
     "headerColor": "none",
     "id": "50e729e8-5cdd-470e-a36f-4470dacb6dae",
     "isComponent": false,
     "name": "",
     "parents": []
    }
   },
   "outputs": [
    {
     "data": {
      "text/latex": [
       "$\\displaystyle \\sqrt{5}$"
      ],
      "text/plain": [
       "sqrt(5)"
      ]
     },
     "execution_count": 32,
     "metadata": {},
     "output_type": "execute_result"
    }
   ],
   "source": [
    "# Extracting the first solution\n",
    "ans = list(sp.solveset(eq,x))\n",
    "#ans\n",
    "ans[0]"
   ]
  },
  {
   "cell_type": "markdown",
   "id": "69b0e9a8-a852-4b8d-a000-9bd4b52a915e",
   "metadata": {
    "canvas": {
     "comments": [],
     "componentType": "CodeCell",
     "copiedOriginId": null,
     "diskcache": false,
     "headerColor": "none",
     "id": "5c855d13-7085-47a0-babf-78bc3042c88b",
     "isComponent": false,
     "name": "",
     "parents": []
    }
   },
   "source": [
    "Alternatively, rewrite $x^2 = 5$ as $x^2 - 5 = 0$ and write:"
   ]
  },
  {
   "cell_type": "code",
   "execution_count": 33,
   "id": "0e5648b3-5641-438d-b46a-4b5eb1fdc2ab",
   "metadata": {
    "canvas": {
     "comments": [],
     "componentType": "CodeCell",
     "copiedOriginId": null,
     "diskcache": false,
     "headerColor": "none",
     "id": "bc126e14-a7c0-4f8b-aa4e-4957d612a0e2",
     "isComponent": false,
     "name": "",
     "parents": []
    }
   },
   "outputs": [
    {
     "data": {
      "text/latex": [
       "$\\displaystyle \\left\\{- \\sqrt{5}, \\sqrt{5}\\right\\}$"
      ],
      "text/plain": [
       "{-sqrt(5), sqrt(5)}"
      ]
     },
     "execution_count": 33,
     "metadata": {},
     "output_type": "execute_result"
    }
   ],
   "source": [
    "# The same question reformulated\n",
    "sp.solveset(x**2-5, x)"
   ]
  },
  {
   "cell_type": "markdown",
   "id": "00ffe4e7-a5f6-44b7-ac41-9347d4f70a35",
   "metadata": {
    "canvas": {
     "comments": [],
     "componentType": "CodeCell",
     "copiedOriginId": null,
     "diskcache": false,
     "headerColor": "none",
     "id": "1f0f076d-8854-4bd7-a70b-2d6adfa52cec",
     "isComponent": false,
     "name": "",
     "parents": []
    }
   },
   "source": [
    "### Second Example"
   ]
  },
  {
   "cell_type": "code",
   "execution_count": 34,
   "id": "c8716513-fa29-4d2d-bb8b-52cdf25e1a98",
   "metadata": {
    "canvas": {
     "comments": [],
     "componentType": "CodeCell",
     "copiedOriginId": null,
     "diskcache": false,
     "headerColor": "none",
     "id": "138d062d-7efd-40bc-88d4-7c57588c6309",
     "isComponent": false,
     "name": "",
     "parents": []
    }
   },
   "outputs": [
    {
     "data": {
      "text/latex": [
       "$\\displaystyle - \\sin{\\left(x \\right)} + \\cos{\\left(x \\right)} = 0$"
      ],
      "text/plain": [
       "Eq(-sin(x) + cos(x), 0)"
      ]
     },
     "execution_count": 34,
     "metadata": {},
     "output_type": "execute_result"
    }
   ],
   "source": [
    "# Defining the equation\n",
    "eq2 = sp.Eq(sp.cos(x)-sp.sin(x), 0)\n",
    "eq2"
   ]
  },
  {
   "cell_type": "code",
   "execution_count": 35,
   "id": "640043c8-0ee3-4faa-9228-2dcb4f16b273",
   "metadata": {
    "canvas": {
     "comments": [],
     "componentType": "CodeCell",
     "copiedOriginId": null,
     "diskcache": false,
     "headerColor": "none",
     "id": "8d853581-b703-491f-af72-5475ee402475",
     "isComponent": false,
     "name": "",
     "parents": []
    }
   },
   "outputs": [
    {
     "data": {
      "text/latex": [
       "$\\displaystyle \\left\\{2 n \\pi + \\frac{5 \\pi}{4}\\; \\middle|\\; n \\in \\mathbb{Z}\\right\\} \\cup \\left\\{2 n \\pi + \\frac{\\pi}{4}\\; \\middle|\\; n \\in \\mathbb{Z}\\right\\}$"
      ],
      "text/plain": [
       "Union(ImageSet(Lambda(_n, 2*_n*pi + 5*pi/4), Integers), ImageSet(Lambda(_n, 2*_n*pi + pi/4), Integers))"
      ]
     },
     "execution_count": 35,
     "metadata": {},
     "output_type": "execute_result"
    }
   ],
   "source": [
    "# Solving the equation\n",
    "sp.solveset(eq2)"
   ]
  },
  {
   "cell_type": "code",
   "execution_count": 36,
   "id": "72ee7fd0-181c-46bd-9303-ec8ab3655b1f",
   "metadata": {
    "canvas": {
     "comments": [],
     "componentType": "CodeCell",
     "copiedOriginId": null,
     "diskcache": false,
     "headerColor": "none",
     "id": "2c9a7a11-1837-40e8-8249-be399b86e570",
     "isComponent": false,
     "name": "",
     "parents": []
    }
   },
   "outputs": [
    {
     "data": {
      "text/plain": [
       "sympy.sets.sets.Union"
      ]
     },
     "execution_count": 36,
     "metadata": {},
     "output_type": "execute_result"
    }
   ],
   "source": [
    "# Checking out the type of the equation\n",
    "type(sp.solveset(eq2))"
   ]
  },
  {
   "cell_type": "markdown",
   "id": "3daef09c-3477-46aa-a700-d18a998210b2",
   "metadata": {
    "canvas": {
     "comments": [],
     "componentType": "CodeCell",
     "copiedOriginId": null,
     "diskcache": false,
     "headerColor": "none",
     "id": "d32b1b76-26ea-4032-af0b-742d2b8df2be",
     "isComponent": false,
     "name": "",
     "parents": []
    }
   },
   "source": [
    "### Third Example\n",
    "\n",
    "We know that some equations are only possible to solve numerically. Hence SymPy can't solve them."
   ]
  },
  {
   "cell_type": "code",
   "execution_count": 37,
   "id": "a7f0320e-b50e-4ae2-90e9-d1c4e22eeb36",
   "metadata": {
    "canvas": {
     "comments": [],
     "componentType": "CodeCell",
     "copiedOriginId": null,
     "diskcache": false,
     "headerColor": "none",
     "id": "1ed74dcc-09cb-4a64-967a-e64c9b4109f9",
     "isComponent": false,
     "name": "",
     "parents": []
    }
   },
   "outputs": [
    {
     "data": {
      "text/latex": [
       "$\\displaystyle \\cos{\\left(x \\right)} = x$"
      ],
      "text/plain": [
       "Eq(cos(x), x)"
      ]
     },
     "execution_count": 37,
     "metadata": {},
     "output_type": "execute_result"
    }
   ],
   "source": [
    "# Defining a non-solvable equatoin\n",
    "eq3 = sp.Eq(sp.cos(x), x)\n",
    "eq3"
   ]
  },
  {
   "cell_type": "code",
   "execution_count": 38,
   "id": "e7c4bc58-3281-4c7d-a62e-f78bcf99b09d",
   "metadata": {
    "canvas": {
     "comments": [],
     "componentType": "CodeCell",
     "copiedOriginId": null,
     "diskcache": false,
     "headerColor": "none",
     "id": "ece31522-0518-4a60-878b-7a6d302ce085",
     "isComponent": false,
     "name": "",
     "parents": []
    }
   },
   "outputs": [
    {
     "data": {
      "text/latex": [
       "$\\displaystyle \\left\\{x\\; \\middle|\\; x \\in \\mathbb{C} \\wedge - x + \\cos{\\left(x \\right)} = 0 \\right\\}$"
      ],
      "text/plain": [
       "ConditionSet(x, Eq(-x + cos(x), 0), Complexes)"
      ]
     },
     "execution_count": 38,
     "metadata": {},
     "output_type": "execute_result"
    }
   ],
   "source": [
    "# Trying to solve the equation\n",
    "sp.solveset(eq3)"
   ]
  },
  {
   "cell_type": "code",
   "execution_count": 39,
   "id": "b6f279c3-4550-4e23-bd64-335fa8ca36f0",
   "metadata": {
    "canvas": {
     "comments": [],
     "componentType": "CodeCell",
     "copiedOriginId": null,
     "diskcache": false,
     "headerColor": "none",
     "id": "c5f26a18-5bbd-42fa-affb-a87f91f2a238",
     "isComponent": false,
     "name": "",
     "parents": []
    }
   },
   "outputs": [
    {
     "data": {
      "text/plain": [
       "sympy.sets.conditionset.ConditionSet"
      ]
     },
     "execution_count": 39,
     "metadata": {},
     "output_type": "execute_result"
    }
   ],
   "source": [
    "# Checking the type of the equation\n",
    "type(sp.solveset(eq3))"
   ]
  },
  {
   "cell_type": "markdown",
   "id": "108ea47d-3813-4a2d-b25e-46e627cfcc2b",
   "metadata": {
    "canvas": {
     "comments": [],
     "componentType": "CodeCell",
     "copiedOriginId": null,
     "diskcache": false,
     "headerColor": "none",
     "id": "7675adc2-9158-43a6-a3ed-dd92d754af2b",
     "isComponent": false,
     "name": "",
     "parents": []
    }
   },
   "source": [
    "Need to find the solution numerically!"
   ]
  },
  {
   "cell_type": "markdown",
   "id": "5f8bc834-8bc0-402d-8f33-a6a4594321ed",
   "metadata": {
    "canvas": {
     "comments": [],
     "componentType": "CodeCell",
     "copiedOriginId": null,
     "diskcache": false,
     "headerColor": "none",
     "id": "22e00a1c-5706-43e4-b509-1fbf4301fdca",
     "isComponent": false,
     "name": "",
     "parents": []
    }
   },
   "source": [
    "## Solving Systems of Linear Equatoins\n",
    "\n",
    "In SymPy we can also solve systems of linear equations with the linsolve() function:"
   ]
  },
  {
   "cell_type": "code",
   "execution_count": 40,
   "id": "c54f252b-8b38-4489-8aca-1078f82d118e",
   "metadata": {
    "canvas": {
     "comments": [],
     "componentType": "CodeCell",
     "copiedOriginId": null,
     "diskcache": false,
     "headerColor": "none",
     "id": "9c4030f9-de7d-4205-b2f3-62cebcca3e3b",
     "isComponent": false,
     "name": "",
     "parents": []
    }
   },
   "outputs": [
    {
     "data": {
      "text/latex": [
       "$\\displaystyle x = 3 y + z$"
      ],
      "text/plain": [
       "Eq(x, 3*y + z)"
      ]
     },
     "execution_count": 40,
     "metadata": {},
     "output_type": "execute_result"
    }
   ],
   "source": [
    "# Defining the first equation\n",
    "eq_lin1 = sp.Eq(x, 3*y + z)\n",
    "eq_lin1"
   ]
  },
  {
   "cell_type": "code",
   "execution_count": 41,
   "id": "9cd3ebf5-4617-45f2-8ef5-e8f1c6993db5",
   "metadata": {
    "canvas": {
     "comments": [],
     "componentType": "CodeCell",
     "copiedOriginId": null,
     "diskcache": false,
     "headerColor": "none",
     "id": "5093c86c-6534-4f07-bc40-fa845a0eeb92",
     "isComponent": false,
     "name": "",
     "parents": []
    }
   },
   "outputs": [
    {
     "data": {
      "text/latex": [
       "$\\displaystyle 5 x - 3 z = y$"
      ],
      "text/plain": [
       "Eq(5*x - 3*z, y)"
      ]
     },
     "execution_count": 41,
     "metadata": {},
     "output_type": "execute_result"
    }
   ],
   "source": [
    "# Defining the second equation\n",
    "eq_lin2 = sp.Eq(5*x - 3*z, y)\n",
    "eq_lin2"
   ]
  },
  {
   "cell_type": "code",
   "execution_count": 43,
   "id": "e815c8f4-2762-4006-919b-fcb6846a6aba",
   "metadata": {
    "canvas": {
     "comments": [],
     "componentType": "CodeCell",
     "copiedOriginId": null,
     "diskcache": false,
     "headerColor": "none",
     "id": "92d25cf7-b542-4ea3-ac74-f42764b5585c",
     "isComponent": false,
     "name": "",
     "parents": []
    }
   },
   "outputs": [
    {
     "data": {
      "text/latex": [
       "$\\displaystyle \\left\\{\\left( \\frac{4 z}{7}, \\  - \\frac{z}{7}, \\  z\\right)\\right\\}$"
      ],
      "text/plain": [
       "{(4*z/7, -z/7, z)}"
      ]
     },
     "execution_count": 43,
     "metadata": {},
     "output_type": "execute_result"
    }
   ],
   "source": [
    "# Solving the system of linear equations\n",
    "sp.linsolve([eq_lin1, eq_lin2], x, y, z)"
   ]
  },
  {
   "cell_type": "markdown",
   "id": "37481ed3-a4a5-4506-9a8b-c02a5bfe2102",
   "metadata": {
    "canvas": {
     "comments": [],
     "componentType": "CodeCell",
     "copiedOriginId": null,
     "diskcache": false,
     "headerColor": "none",
     "id": "46c89ff7-bd31-4363-a738-11e88fba51de",
     "isComponent": false,
     "name": "",
     "parents": []
    }
   },
   "source": [
    "# Simplifying Expressions\n",
    "\n",
    "In [this](https://www.youtube.com/watch?v=MsP9uEcgLmY&list=PLSE7WKf_qqo1T5VV1nqXTj2iNiSpFk72T&index=5) lecture, we are going to look at simplifying expressions in SymPy. There are several ways of doing this, and we will look at some of the most common ones.\n",
    "\n",
    "**Functions and attributes in this lecture:**\n",
    "- `sp.factor()` - Factors expressions\n",
    "- `sp.expand()` - Expands expressions\n",
    "- `sp.cancel()` - Puts rational functions in standard canonical form\n",
    "- `sp.apart()` - Performs a partial fraction decomposition for a function\n",
    "- `sp.simplify()` - A general simplification function"
   ]
  },
  {
   "cell_type": "code",
   "execution_count": 45,
   "id": "69e14eee-752f-455f-872b-c4dd0bf66ae5",
   "metadata": {
    "canvas": {
     "comments": [],
     "componentType": "CodeCell",
     "copiedOriginId": null,
     "diskcache": false,
     "headerColor": "none",
     "id": "60bf98fb-d774-4374-8e11-d1ce7c083fb3",
     "isComponent": false,
     "name": "",
     "parents": []
    }
   },
   "outputs": [],
   "source": [
    "# Imports\n",
    "import sympy as sp\n",
    "# Define the symbols x and y\n",
    "x, y = sp.symbols('x y')"
   ]
  },
  {
   "cell_type": "markdown",
   "id": "227ad5f3-5dc9-4149-8abd-e7e2cbf9cb27",
   "metadata": {
    "canvas": {
     "comments": [],
     "componentType": "CodeCell",
     "copiedOriginId": null,
     "diskcache": false,
     "headerColor": "none",
     "id": "8fd0067a-3bd3-4eb9-9113-3a68a61499d7",
     "isComponent": false,
     "name": "",
     "parents": []
    }
   },
   "source": [
    "## Factor and Expand\n",
    "\n",
    "### Repetition"
   ]
  },
  {
   "cell_type": "code",
   "execution_count": 50,
   "id": "0d324007-91e0-4642-bb84-bb0ecdc54244",
   "metadata": {
    "canvas": {
     "comments": [],
     "componentType": "CodeCell",
     "copiedOriginId": null,
     "diskcache": false,
     "headerColor": "none",
     "id": "a0f3c78d-07bb-457a-9de8-c075dc5aa33c",
     "isComponent": false,
     "name": "",
     "parents": []
    }
   },
   "outputs": [
    {
     "data": {
      "text/latex": [
       "$\\displaystyle x^{2} + 5 x + 6$"
      ],
      "text/plain": [
       "x**2 + 5*x + 6"
      ]
     },
     "execution_count": 50,
     "metadata": {},
     "output_type": "execute_result"
    }
   ],
   "source": [
    "# Creates a polynomial\n",
    "poly = x**2 + 5*x + 6\n",
    "poly"
   ]
  },
  {
   "cell_type": "code",
   "execution_count": 52,
   "id": "7c020244-2546-4fa2-a897-3508cfc0ebb3",
   "metadata": {
    "canvas": {
     "comments": [],
     "componentType": "CodeCell",
     "copiedOriginId": null,
     "diskcache": false,
     "headerColor": "none",
     "id": "7fc52b00-e014-4d00-b0b5-fd9a1ad108aa",
     "isComponent": false,
     "name": "",
     "parents": []
    }
   },
   "outputs": [
    {
     "data": {
      "text/latex": [
       "$\\displaystyle \\left(x + 2\\right) \\left(x + 3\\right)$"
      ],
      "text/plain": [
       "(x + 2)*(x + 3)"
      ]
     },
     "execution_count": 52,
     "metadata": {},
     "output_type": "execute_result"
    }
   ],
   "source": [
    "# Can factor polynomials\n",
    "poly = poly.factor()\n",
    "poly"
   ]
  },
  {
   "cell_type": "code",
   "execution_count": 53,
   "id": "ade3a925-352b-4826-93d1-10c74b57030e",
   "metadata": {
    "canvas": {
     "comments": [],
     "componentType": "CodeCell",
     "copiedOriginId": null,
     "diskcache": false,
     "headerColor": "none",
     "id": "2941db94-1cf0-4ad5-bf9d-8348a317eab5",
     "isComponent": false,
     "name": "",
     "parents": []
    }
   },
   "outputs": [
    {
     "data": {
      "text/latex": [
       "$\\displaystyle x^{2} + 5 x + 6$"
      ],
      "text/plain": [
       "x**2 + 5*x + 6"
      ]
     },
     "execution_count": 53,
     "metadata": {},
     "output_type": "execute_result"
    }
   ],
   "source": [
    "# Can expand them again\n",
    "poly.expand()"
   ]
  },
  {
   "cell_type": "markdown",
   "id": "22c885cb-3e5a-448b-b924-eafc0ec03cc4",
   "metadata": {
    "canvas": {
     "comments": [],
     "componentType": "CodeCell",
     "copiedOriginId": null,
     "diskcache": false,
     "headerColor": "none",
     "id": "ec939166-fe7c-4ce0-ac4c-ffa5ee40ff42",
     "isComponent": false,
     "name": "",
     "parents": []
    }
   },
   "source": [
    "### Expanding Other Expressions\n",
    "\n",
    "We can use the `expand()` method on other expressions than polynomials"
   ]
  },
  {
   "cell_type": "code",
   "execution_count": 54,
   "id": "798a8b51-147f-4445-ab83-6aeb5a7d7adb",
   "metadata": {
    "canvas": {
     "comments": [],
     "componentType": "CodeCell",
     "copiedOriginId": null,
     "diskcache": false,
     "headerColor": "none",
     "id": "5c317e5a-c429-46e4-ae21-72fb41718c2e",
     "isComponent": false,
     "name": "",
     "parents": []
    }
   },
   "outputs": [
    {
     "data": {
      "text/latex": [
       "$\\displaystyle e^{x} e^{y}$"
      ],
      "text/plain": [
       "exp(x)*exp(y)"
      ]
     },
     "execution_count": 54,
     "metadata": {},
     "output_type": "execute_result"
    }
   ],
   "source": [
    "# Expand exponential terms\n",
    "sp.exp(x + y).expand()"
   ]
  },
  {
   "cell_type": "code",
   "execution_count": 55,
   "id": "04de42a5-26eb-4828-9ecd-a61393079afe",
   "metadata": {
    "canvas": {
     "comments": [],
     "componentType": "CodeCell",
     "copiedOriginId": null,
     "diskcache": false,
     "headerColor": "none",
     "id": "9efaf53e-803d-4043-8e36-15f2a46c39fc",
     "isComponent": false,
     "name": "",
     "parents": []
    }
   },
   "outputs": [
    {
     "data": {
      "text/latex": [
       "$\\displaystyle \\left(\\sin{\\left(y \\right)} + \\cos{\\left(x \\right)}\\right)^{2} - \\cos^{2}{\\left(x \\right)}$"
      ],
      "text/plain": [
       "(sin(y) + cos(x))**2 - cos(x)**2"
      ]
     },
     "execution_count": 55,
     "metadata": {},
     "output_type": "execute_result"
    }
   ],
   "source": [
    "# Trigonometric expression\n",
    "trig = (sp.cos(x) + sp.sin(y))**2 - sp.cos(x)**2\n",
    "trig"
   ]
  },
  {
   "cell_type": "code",
   "execution_count": 56,
   "id": "83f56835-1f18-40d1-b3bc-bf153c77ba90",
   "metadata": {
    "canvas": {
     "comments": [],
     "componentType": "CodeCell",
     "copiedOriginId": null,
     "diskcache": false,
     "headerColor": "none",
     "id": "553af670-6645-4ac6-8fad-f131743e38cc",
     "isComponent": false,
     "name": "",
     "parents": []
    }
   },
   "outputs": [
    {
     "data": {
      "text/latex": [
       "$\\displaystyle \\sin^{2}{\\left(y \\right)} + 2 \\sin{\\left(y \\right)} \\cos{\\left(x \\right)}$"
      ],
      "text/plain": [
       "sin(y)**2 + 2*sin(y)*cos(x)"
      ]
     },
     "execution_count": 56,
     "metadata": {},
     "output_type": "execute_result"
    }
   ],
   "source": [
    "# Expand to simplify terms\n",
    "trig.expand()"
   ]
  },
  {
   "cell_type": "markdown",
   "id": "0fc0a2b6-6712-43b3-987a-b65a26698251",
   "metadata": {
    "canvas": {
     "comments": [],
     "componentType": "CodeCell",
     "copiedOriginId": null,
     "diskcache": false,
     "headerColor": "none",
     "id": "b6d68485-21e8-489a-879e-def468a0b633",
     "isComponent": false,
     "name": "",
     "parents": []
    }
   },
   "source": [
    "### Avoiding certain simplifications\n",
    "\n",
    "Sometimes, we only wish to simplify certain parts of an expression. This can be done with optional arguments in the `expand()` method"
   ]
  },
  {
   "cell_type": "code",
   "execution_count": 57,
   "id": "9ac79ab0-10f1-4c29-b0da-3d42fac32cbf",
   "metadata": {
    "canvas": {
     "comments": [],
     "componentType": "CodeCell",
     "copiedOriginId": null,
     "diskcache": false,
     "headerColor": "none",
     "id": "8dcb6742-4ee4-4d18-b464-258d113685fa",
     "isComponent": false,
     "name": "",
     "parents": []
    }
   },
   "outputs": [
    {
     "data": {
      "text/latex": [
       "$\\displaystyle \\left(\\sin{\\left(y \\right)} + \\cos{\\left(x \\right)}\\right)^{2} + e^{x + y} - \\cos^{2}{\\left(x \\right)}$"
      ],
      "text/plain": [
       "(sin(y) + cos(x))**2 + exp(x + y) - cos(x)**2"
      ]
     },
     "execution_count": 57,
     "metadata": {},
     "output_type": "execute_result"
    }
   ],
   "source": [
    "# Trigonometric and exponential expression\n",
    "trig_and_exp = sp.exp(x + y) + (sp.cos(x) + sp.sin(y))**2 - sp.cos(x)**2\n",
    "trig_and_exp"
   ]
  },
  {
   "cell_type": "code",
   "execution_count": 58,
   "id": "f15e4f96-91c6-45f5-ac44-4152653e501b",
   "metadata": {
    "canvas": {
     "comments": [],
     "componentType": "CodeCell",
     "copiedOriginId": null,
     "diskcache": false,
     "headerColor": "none",
     "id": "861846f0-13dd-4b92-ae20-c70a11e99f9a",
     "isComponent": false,
     "name": "",
     "parents": []
    }
   },
   "outputs": [
    {
     "data": {
      "text/latex": [
       "$\\displaystyle e^{x} e^{y} + \\sin^{2}{\\left(y \\right)} + 2 \\sin{\\left(y \\right)} \\cos{\\left(x \\right)}$"
      ],
      "text/plain": [
       "exp(x)*exp(y) + sin(y)**2 + 2*sin(y)*cos(x)"
      ]
     },
     "execution_count": 58,
     "metadata": {},
     "output_type": "execute_result"
    }
   ],
   "source": [
    "# Expanding everything\n",
    "trig_and_exp.expand()"
   ]
  },
  {
   "cell_type": "markdown",
   "id": "64e47114-19e4-4f5c-82d6-34148afa313b",
   "metadata": {
    "canvas": {
     "comments": [],
     "componentType": "CodeCell",
     "copiedOriginId": null,
     "diskcache": false,
     "headerColor": "none",
     "id": "8f538f2a-2b5a-4046-a76c-4332d3e941b5",
     "isComponent": false,
     "name": "",
     "parents": []
    }
   },
   "source": [
    "If we only want to factor trigonometric terms, then we can write:"
   ]
  },
  {
   "cell_type": "code",
   "execution_count": 59,
   "id": "5d6781a7-b738-4217-b06b-21e27b59cb2d",
   "metadata": {
    "canvas": {
     "comments": [],
     "componentType": "CodeCell",
     "copiedOriginId": null,
     "diskcache": false,
     "headerColor": "none",
     "id": "8eda17c4-5091-4f4b-a0e2-3eec4858aa3c",
     "isComponent": false,
     "name": "",
     "parents": []
    }
   },
   "outputs": [
    {
     "data": {
      "text/latex": [
       "$\\displaystyle e^{x + y} + \\sin^{2}{\\left(y \\right)} + 2 \\sin{\\left(y \\right)} \\cos{\\left(x \\right)}$"
      ],
      "text/plain": [
       "exp(x + y) + sin(y)**2 + 2*sin(y)*cos(x)"
      ]
     },
     "execution_count": 59,
     "metadata": {},
     "output_type": "execute_result"
    }
   ],
   "source": [
    "# Expanding only trigonometric functions\n",
    "trig_and_exp.expand(power_exp=False)"
   ]
  },
  {
   "cell_type": "markdown",
   "id": "4288e72a-131c-4d2f-b1cd-463efbeb1caa",
   "metadata": {
    "canvas": {
     "comments": [],
     "componentType": "CodeCell",
     "copiedOriginId": null,
     "diskcache": false,
     "headerColor": "none",
     "id": "949610de-1ebf-41f5-9509-75991dc44f32",
     "isComponent": false,
     "name": "",
     "parents": []
    }
   },
   "source": [
    "[Options for the expand method](https://docs.sympy.org/latest/modules/core.html?highlight=expand#sympy.core.expr.Expr.expand)"
   ]
  },
  {
   "cell_type": "markdown",
   "id": "dbdee656-aecd-4f95-8f32-cddea9bcbb2b",
   "metadata": {
    "canvas": {
     "comments": [],
     "componentType": "CodeCell",
     "copiedOriginId": null,
     "diskcache": false,
     "headerColor": "none",
     "id": "36a17443-8ced-4d71-8c50-e69c68acb842",
     "isComponent": false,
     "name": "",
     "parents": []
    }
   },
   "source": [
    "## Cancel and Apart\n",
    "\n",
    "The methods `cancel()` and `apart()` are both for simplifying **rational functions** - fractions with polynomials in the numerator and denominator.\n",
    "\n",
    "### The Cancel Method\n",
    "\n",
    "The cancel method will take any rational function on the form $\\frac{p(x)}{q(x)}$ and factor it so that the polynomials $p(x)$ and $q(x)$ have no common factors"
   ]
  },
  {
   "cell_type": "code",
   "execution_count": 60,
   "id": "68fb419c-cb87-41cf-b8c1-142b26a41deb",
   "metadata": {
    "canvas": {
     "comments": [],
     "componentType": "CodeCell",
     "copiedOriginId": null,
     "diskcache": false,
     "headerColor": "none",
     "id": "42fc7ddd-0f89-466d-b62b-0cebe4fb05e7",
     "isComponent": false,
     "name": "",
     "parents": []
    }
   },
   "outputs": [
    {
     "data": {
      "text/latex": [
       "$\\displaystyle \\frac{x^{3} + 10 x^{2} + 31 x + 30}{x^{2} + 12 x + 35}$"
      ],
      "text/plain": [
       "(x**3 + 10*x**2 + 31*x + 30)/(x**2 + 12*x + 35)"
      ]
     },
     "execution_count": 60,
     "metadata": {},
     "output_type": "execute_result"
    }
   ],
   "source": [
    "# Defining the polynomials\n",
    "p = x**3 + 10 * x**2 + 31 * x + 30\n",
    "q = x**2 + 12 * x + 35\n",
    "fraction = p / q\n",
    "fraction"
   ]
  },
  {
   "cell_type": "code",
   "execution_count": 63,
   "id": "7ec3556e-d790-4b40-963d-29a385864e4c",
   "metadata": {
    "canvas": {
     "comments": [],
     "componentType": "CodeCell",
     "copiedOriginId": null,
     "diskcache": false,
     "headerColor": "none",
     "id": "91ab58b0-5b33-4d05-9291-4cff5d819b40",
     "isComponent": false,
     "name": "",
     "parents": []
    }
   },
   "outputs": [
    {
     "data": {
      "text/latex": [
       "$\\displaystyle \\frac{x^{2} + 5 x + 6}{x + 7}$"
      ],
      "text/plain": [
       "(x**2 + 5*x + 6)/(x + 7)"
      ]
     },
     "execution_count": 63,
     "metadata": {},
     "output_type": "execute_result"
    }
   ],
   "source": [
    "# Factors the fraction into the canonical form\n",
    "fraction.cancel()\n",
    "# sp.cancel(fraction)"
   ]
  },
  {
   "cell_type": "markdown",
   "id": "c20acf46-4ba0-4750-9a13-dcd8856f5158",
   "metadata": {
    "canvas": {
     "comments": [],
     "componentType": "CodeCell",
     "copiedOriginId": null,
     "diskcache": false,
     "headerColor": "none",
     "id": "32f6f49d-6802-40da-a48f-ad59a3d024e0",
     "isComponent": false,
     "name": "",
     "parents": []
    }
   },
   "source": [
    "### Apart Method\n",
    "\n",
    "The `apart()` method will perform the **partial fraction decomposition** on a rational function. This is useful when integrating a function"
   ]
  },
  {
   "cell_type": "code",
   "execution_count": 65,
   "id": "9aa306c4-164e-4180-beee-a8ebbc31c0ec",
   "metadata": {
    "canvas": {
     "comments": [],
     "componentType": "CodeCell",
     "copiedOriginId": null,
     "diskcache": false,
     "headerColor": "none",
     "id": "fe5c74a2-7708-4cd1-91aa-9ce7a9a9e7c6",
     "isComponent": false,
     "name": "",
     "parents": []
    }
   },
   "outputs": [
    {
     "data": {
      "text/latex": [
       "$\\displaystyle \\frac{x^{3} + 10 x^{2} + 31 x + 30}{x^{2} + 12 x + 35}$"
      ],
      "text/plain": [
       "(x**3 + 10*x**2 + 31*x + 30)/(x**2 + 12*x + 35)"
      ]
     },
     "execution_count": 65,
     "metadata": {},
     "output_type": "execute_result"
    }
   ],
   "source": [
    "# Defining the polynomials\n",
    "p = x**3 + 10 * x**2 + 31 * x + 30\n",
    "q = x**2 + 12 * x + 35\n",
    "fraction = p / q\n",
    "fraction"
   ]
  },
  {
   "cell_type": "code",
   "execution_count": 66,
   "id": "ed2f08f2-e8e4-4040-9dc9-d83ed24c42d9",
   "metadata": {
    "canvas": {
     "comments": [],
     "componentType": "CodeCell",
     "copiedOriginId": null,
     "diskcache": false,
     "headerColor": "none",
     "id": "10f189c1-93d4-44a1-88a5-3e5ccb70fd1b",
     "isComponent": false,
     "name": "",
     "parents": []
    }
   },
   "outputs": [
    {
     "data": {
      "text/latex": [
       "$\\displaystyle x - 2 + \\frac{20}{x + 7}$"
      ],
      "text/plain": [
       "x - 2 + 20/(x + 7)"
      ]
     },
     "execution_count": 66,
     "metadata": {},
     "output_type": "execute_result"
    }
   ],
   "source": [
    "# Does a partial fraction decomposition of the rational fraction\n",
    "fraction.apart()"
   ]
  },
  {
   "cell_type": "markdown",
   "id": "1805379e-b649-4d86-a06c-f3a0bee8dbde",
   "metadata": {
    "canvas": {
     "comments": [],
     "componentType": "CodeCell",
     "copiedOriginId": null,
     "diskcache": false,
     "headerColor": "none",
     "id": "46f32e39-2d7a-49ef-afe1-26e1de8dacde",
     "isComponent": false,
     "name": "",
     "parents": []
    }
   },
   "source": [
    "### The General Simplify\n",
    "\n",
    "The `simplify()` method is the general purpose simplification method in SymPy. It is the most versatile, but also the slowest and most unspecific."
   ]
  },
  {
   "cell_type": "code",
   "execution_count": 67,
   "id": "17b54e50-88ae-4ea3-bc17-b23698b09979",
   "metadata": {
    "canvas": {
     "comments": [],
     "componentType": "CodeCell",
     "copiedOriginId": null,
     "diskcache": false,
     "headerColor": "none",
     "id": "2ac5c699-13c3-42c8-b001-f94fe4d4412e",
     "isComponent": false,
     "name": "",
     "parents": []
    }
   },
   "outputs": [
    {
     "data": {
      "text/latex": [
       "$\\displaystyle \\left(\\sin{\\left(x \\right)} + \\cos{\\left(x \\right)}\\right)^{2} - e^{x} + e^{x + y} - \\cos{\\left(x \\right)}$"
      ],
      "text/plain": [
       "(sin(x) + cos(x))**2 - exp(x) + exp(x + y) - cos(x)"
      ]
     },
     "execution_count": 67,
     "metadata": {},
     "output_type": "execute_result"
    }
   ],
   "source": [
    "# Define a massive expression\n",
    "expr = sp.exp(x+y) + (sp.cos(x) + sp.sin(x))**2 - sp.cos(x) - sp.exp(x)\n",
    "expr"
   ]
  },
  {
   "cell_type": "code",
   "execution_count": 68,
   "id": "9f87fd5a-8ac2-4925-9cc9-21cf3bb484f5",
   "metadata": {
    "canvas": {
     "comments": [],
     "componentType": "CodeCell",
     "copiedOriginId": null,
     "diskcache": false,
     "headerColor": "none",
     "id": "dfeed4aa-aa9b-4d0b-9681-33871543b357",
     "isComponent": false,
     "name": "",
     "parents": []
    }
   },
   "outputs": [
    {
     "data": {
      "text/latex": [
       "$\\displaystyle - e^{x} + e^{x + y} + \\sin{\\left(2 x \\right)} - \\cos{\\left(x \\right)} + 1$"
      ],
      "text/plain": [
       "-exp(x) + exp(x + y) + sin(2*x) - cos(x) + 1"
      ]
     },
     "execution_count": 68,
     "metadata": {},
     "output_type": "execute_result"
    }
   ],
   "source": [
    "# General simplification\n",
    "expr.simplify()"
   ]
  },
  {
   "cell_type": "markdown",
   "id": "020572c6-83b1-453a-b407-64795358b665",
   "metadata": {
    "canvas": {
     "comments": [],
     "componentType": "CodeCell",
     "copiedOriginId": null,
     "diskcache": false,
     "headerColor": "none",
     "id": "98328b36-7bd7-4563-a063-dd07e50d62a5",
     "isComponent": false,
     "name": "",
     "parents": []
    }
   },
   "source": [
    "If you just want a quick simplification, then try `simplify()`. If you need more fine tuning, then use a more specialized method"
   ]
  },
  {
   "cell_type": "markdown",
   "id": "3eb9cae7-f19e-4819-992c-d523551160b9",
   "metadata": {
    "canvas": {
     "comments": [],
     "componentType": "CodeCell",
     "copiedOriginId": null,
     "diskcache": false,
     "headerColor": "none",
     "id": "6d5c6314-7bf9-41db-bfd6-1a3851776900",
     "isComponent": false,
     "name": "",
     "parents": []
    }
   },
   "source": [
    "# Evaluating Expressions\n",
    "In [this](https://www.youtube.com/watch?v=i3EoTDYb3WY&list=PLSE7WKf_qqo1T5VV1nqXTj2iNiSpFk72T&index=6) lecture, we are going to learn how to evaluate expressions. We will also take a quick look at specifying that symbols are real, positive, or integers.\n",
    "\n",
    "** Functions and attributes in this lecture:**\n",
    "- `.subs()` - Substitute into an expression\n",
    "- `sp.N()` - Makes a symbolic number numeric"
   ]
  },
  {
   "cell_type": "code",
   "execution_count": null,
   "id": "749364a7-343a-44d9-9e3e-225f978fb48d",
   "metadata": {
    "canvas": {
     "comments": [],
     "componentType": "CodeCell",
     "copiedOriginId": null,
     "diskcache": false,
     "headerColor": "none",
     "id": "c6f837c8-0185-48eb-a3d2-732de9fa6cc2",
     "isComponent": false,
     "name": "",
     "parents": []
    }
   },
   "outputs": [],
   "source": []
  }
 ],
 "metadata": {
  "canvas": {
   "colorPalette": [
    "inherit",
    "inherit",
    "inherit",
    "inherit",
    "inherit",
    "inherit",
    "inherit",
    "inherit",
    "inherit",
    "inherit"
   ],
   "parameters": []
  },
  "kernelspec": {
   "display_name": "Python 3 (ipykernel)",
   "language": "python",
   "name": "python3"
  },
  "language_info": {
   "codemirror_mode": {
    "name": "ipython",
    "version": 3
   },
   "file_extension": ".py",
   "mimetype": "text/x-python",
   "name": "python",
   "nbconvert_exporter": "python",
   "pygments_lexer": "ipython3",
   "version": "3.10.6"
  }
 },
 "nbformat": 4,
 "nbformat_minor": 5
}
