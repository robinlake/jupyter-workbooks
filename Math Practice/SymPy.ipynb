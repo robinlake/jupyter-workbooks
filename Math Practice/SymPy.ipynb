{
 "cells": [
  {
   "cell_type": "markdown",
   "id": "32c69180",
   "metadata": {
    "canvas": {
     "comments": [],
     "componentType": "CodeCell",
     "copiedOriginId": null,
     "diskcache": false,
     "headerColor": "none",
     "id": "fa1f9f01-1d9c-47a2-bc6b-362558a8d202",
     "isComponent": false,
     "name": "",
     "parents": []
    },
    "tags": []
   },
   "source": [
    "### Following tutorial:\n",
    "https://www.youtube.com/playlist?list=PLSE7WKf_qqo1T5VV1nqXTj2iNiSpFk72T"
   ]
  },
  {
   "cell_type": "code",
   "execution_count": 26,
   "id": "e1a5644d",
   "metadata": {
    "canvas": {
     "comments": [],
     "componentType": "CodeCell",
     "copiedOriginId": null,
     "diskcache": false,
     "headerColor": "none",
     "id": "bdd59783-3b0e-471d-990c-4fa905dcfccf",
     "isComponent": false,
     "name": "",
     "parents": []
    }
   },
   "outputs": [],
   "source": [
    "import sympy as sp"
   ]
  },
  {
   "cell_type": "code",
   "execution_count": 27,
   "id": "7591db2d",
   "metadata": {
    "canvas": {
     "comments": [],
     "componentType": "CodeCell",
     "copiedOriginId": null,
     "diskcache": false,
     "headerColor": "none",
     "id": "4cf2b81d-8c9a-4393-a96b-aeefe2bf5837",
     "isComponent": false,
     "name": "",
     "parents": []
    }
   },
   "outputs": [
    {
     "data": {
      "text/latex": [
       "$\\displaystyle \\sqrt{2}$"
      ],
      "text/plain": [
       "sqrt(2)"
      ]
     },
     "execution_count": 27,
     "metadata": {},
     "output_type": "execute_result"
    }
   ],
   "source": [
    "sp.sqrt(2)"
   ]
  },
  {
   "cell_type": "code",
   "execution_count": 28,
   "id": "cdcb8309",
   "metadata": {
    "canvas": {
     "comments": [],
     "componentType": "CodeCell",
     "copiedOriginId": null,
     "diskcache": false,
     "headerColor": "none",
     "id": "851ec16b-bcee-4d98-a7ed-ae34bd30967e",
     "isComponent": false,
     "name": "",
     "parents": []
    }
   },
   "outputs": [
    {
     "data": {
      "text/latex": [
       "$\\displaystyle 2$"
      ],
      "text/plain": [
       "2"
      ]
     },
     "execution_count": 28,
     "metadata": {},
     "output_type": "execute_result"
    }
   ],
   "source": [
    "sp.sqrt(2) ** 2"
   ]
  },
  {
   "cell_type": "code",
   "execution_count": 29,
   "id": "177cc630",
   "metadata": {
    "canvas": {
     "comments": [],
     "componentType": "CodeCell",
     "copiedOriginId": null,
     "diskcache": false,
     "headerColor": "none",
     "id": "1087c597-6712-4685-aa75-8e6916a3fa3a",
     "isComponent": false,
     "name": "",
     "parents": []
    }
   },
   "outputs": [
    {
     "data": {
      "text/latex": [
       "$\\displaystyle x$"
      ],
      "text/plain": [
       "x"
      ]
     },
     "execution_count": 29,
     "metadata": {},
     "output_type": "execute_result"
    }
   ],
   "source": [
    "# Make a symbol\n",
    "x = sp.Symbol(\"x\")\n",
    "x"
   ]
  },
  {
   "cell_type": "code",
   "execution_count": 30,
   "id": "9ea9d40c",
   "metadata": {
    "canvas": {
     "comments": [],
     "componentType": "CodeCell",
     "copiedOriginId": null,
     "diskcache": false,
     "headerColor": "none",
     "id": "f0db4596-baaf-4bd0-a982-ba76353242eb",
     "isComponent": false,
     "name": "",
     "parents": []
    }
   },
   "outputs": [
    {
     "data": {
      "text/latex": [
       "$\\displaystyle 2 x + 5$"
      ],
      "text/plain": [
       "2*x + 5"
      ]
     },
     "execution_count": 30,
     "metadata": {},
     "output_type": "execute_result"
    }
   ],
   "source": [
    "# A simple expression\n",
    "2*x + 5"
   ]
  },
  {
   "cell_type": "code",
   "execution_count": 12,
   "id": "4f070ae5",
   "metadata": {
    "canvas": {
     "comments": [],
     "componentType": "CodeCell",
     "copiedOriginId": null,
     "diskcache": false,
     "headerColor": "none",
     "id": "f6eb8330-8d68-41ac-81c4-a95b15df3ded",
     "isComponent": false,
     "name": "",
     "parents": []
    }
   },
   "outputs": [
    {
     "data": {
      "text/latex": [
       "$\\displaystyle z$"
      ],
      "text/plain": [
       "z"
      ]
     },
     "execution_count": 12,
     "metadata": {},
     "output_type": "execute_result"
    }
   ],
   "source": [
    "# The variable name and symbol name do not need to conicide\n",
    "y = sp.Symbol(\"z\")\n",
    "y"
   ]
  },
  {
   "cell_type": "markdown",
   "id": "85741eee",
   "metadata": {
    "canvas": {
     "comments": [],
     "componentType": "CodeCell",
     "copiedOriginId": null,
     "diskcache": false,
     "headerColor": "none",
     "id": "dcee9901-003a-4343-a620-3fcf7a061cce",
     "isComponent": false,
     "name": "",
     "parents": []
    }
   },
   "source": [
    "### Simplification"
   ]
  },
  {
   "cell_type": "code",
   "execution_count": 13,
   "id": "954157bf",
   "metadata": {
    "canvas": {
     "comments": [],
     "componentType": "CodeCell",
     "copiedOriginId": null,
     "diskcache": false,
     "headerColor": "none",
     "id": "9537d6c3-ce9d-4cf9-9dfb-b2e17efb4da3",
     "isComponent": false,
     "name": "",
     "parents": []
    }
   },
   "outputs": [
    {
     "data": {
      "text/latex": [
       "$\\displaystyle 3 x - 5$"
      ],
      "text/plain": [
       "3*x - 5"
      ]
     },
     "execution_count": 13,
     "metadata": {},
     "output_type": "execute_result"
    }
   ],
   "source": [
    "# Sometimes SymPy expressions are automatically simplified\n",
    "2*x + x - 5"
   ]
  },
  {
   "cell_type": "code",
   "execution_count": 14,
   "id": "f32df37d",
   "metadata": {
    "canvas": {
     "comments": [],
     "componentType": "CodeCell",
     "copiedOriginId": null,
     "diskcache": false,
     "headerColor": "none",
     "id": "09697048-f8b8-46b2-9604-26bf497a1312",
     "isComponent": false,
     "name": "",
     "parents": []
    }
   },
   "outputs": [
    {
     "data": {
      "text/latex": [
       "$\\displaystyle \\sin^{2}{\\left(x \\right)} + \\cos^{2}{\\left(x \\right)}$"
      ],
      "text/plain": [
       "sin(x)**2 + cos(x)**2"
      ]
     },
     "execution_count": 14,
     "metadata": {},
     "output_type": "execute_result"
    }
   ],
   "source": [
    "# Sine and cosine\n",
    "sp.sin(x)**2 + sp.cos(x)**2"
   ]
  },
  {
   "cell_type": "code",
   "execution_count": 15,
   "id": "972c687c",
   "metadata": {
    "canvas": {
     "comments": [],
     "componentType": "CodeCell",
     "copiedOriginId": null,
     "diskcache": false,
     "headerColor": "none",
     "id": "a24b18f8-0fb5-4dd8-b615-844a6edc4c69",
     "isComponent": false,
     "name": "",
     "parents": []
    }
   },
   "outputs": [
    {
     "data": {
      "text/latex": [
       "$\\displaystyle \\frac{x}{3}$"
      ],
      "text/plain": [
       "x/3"
      ]
     },
     "execution_count": 15,
     "metadata": {},
     "output_type": "execute_result"
    }
   ],
   "source": [
    "# Division\n",
    "2*x / 6"
   ]
  },
  {
   "cell_type": "code",
   "execution_count": 16,
   "id": "556f053a",
   "metadata": {
    "canvas": {
     "comments": [],
     "componentType": "CodeCell",
     "copiedOriginId": null,
     "diskcache": false,
     "headerColor": "none",
     "id": "dd17abc4-f180-481e-b2e7-85e9a77282c1",
     "isComponent": false,
     "name": "",
     "parents": []
    }
   },
   "outputs": [
    {
     "data": {
      "text/latex": [
       "$\\displaystyle 1$"
      ],
      "text/plain": [
       "1"
      ]
     },
     "execution_count": 16,
     "metadata": {},
     "output_type": "execute_result"
    }
   ],
   "source": [
    "# Cancellation in division\n",
    "x/x"
   ]
  },
  {
   "cell_type": "code",
   "execution_count": 18,
   "id": "c4002763",
   "metadata": {
    "canvas": {
     "comments": [],
     "componentType": "CodeCell",
     "copiedOriginId": null,
     "diskcache": false,
     "headerColor": "none",
     "id": "b5739560-b412-4466-9813-7fc15715b0bf",
     "isComponent": false,
     "name": "",
     "parents": []
    }
   },
   "outputs": [
    {
     "data": {
      "text/latex": [
       "$\\displaystyle x \\left(x + 2\\right)$"
      ],
      "text/plain": [
       "x*(x + 2)"
      ]
     },
     "execution_count": 18,
     "metadata": {},
     "output_type": "execute_result"
    }
   ],
   "source": [
    "# When is the multiplication not carried out?\n",
    "# SymPy will not expand out parentheses without you explicitly asking for it\n",
    "expr = x*(x+2)\n",
    "expr"
   ]
  },
  {
   "cell_type": "markdown",
   "id": "4658292e",
   "metadata": {
    "canvas": {
     "comments": [],
     "componentType": "CodeCell",
     "copiedOriginId": null,
     "diskcache": false,
     "headerColor": "none",
     "id": "941aa50d-b694-4f9b-a273-7dfa4ceb0a8b",
     "isComponent": false,
     "name": "",
     "parents": []
    }
   },
   "source": [
    "### Expand expression\n",
    "To expand an expression, use the expand method"
   ]
  },
  {
   "cell_type": "code",
   "execution_count": 19,
   "id": "83af031d",
   "metadata": {
    "canvas": {
     "comments": [],
     "componentType": "CodeCell",
     "copiedOriginId": null,
     "diskcache": false,
     "headerColor": "none",
     "id": "81778f0e-afb6-4d18-b185-dd2f21ff9802",
     "isComponent": false,
     "name": "",
     "parents": []
    }
   },
   "outputs": [
    {
     "data": {
      "text/latex": [
       "$\\displaystyle x^{2} + 2 x$"
      ],
      "text/plain": [
       "x**2 + 2*x"
      ]
     },
     "execution_count": 19,
     "metadata": {},
     "output_type": "execute_result"
    }
   ],
   "source": [
    "# Expanding the expression\n",
    "expr.expand()"
   ]
  },
  {
   "cell_type": "code",
   "execution_count": 20,
   "id": "e5c7ea59",
   "metadata": {
    "canvas": {
     "comments": [],
     "componentType": "CodeCell",
     "copiedOriginId": null,
     "diskcache": false,
     "headerColor": "none",
     "id": "1f20a427-333d-49ed-94df-6caba1a77e83",
     "isComponent": false,
     "name": "",
     "parents": []
    }
   },
   "outputs": [
    {
     "data": {
      "text/latex": [
       "$\\displaystyle x \\left(x + 2\\right)$"
      ],
      "text/plain": [
       "x*(x + 2)"
      ]
     },
     "execution_count": 20,
     "metadata": {},
     "output_type": "execute_result"
    }
   ],
   "source": [
    "# The expression itself does not change\n",
    "expr"
   ]
  },
  {
   "cell_type": "code",
   "execution_count": 21,
   "id": "9c18f34e",
   "metadata": {
    "canvas": {
     "comments": [],
     "componentType": "CodeCell",
     "copiedOriginId": null,
     "diskcache": false,
     "headerColor": "none",
     "id": "bb7434dd-1818-46c0-b6f6-4ebc3da4d049",
     "isComponent": false,
     "name": "",
     "parents": []
    }
   },
   "outputs": [
    {
     "data": {
      "text/latex": [
       "$\\displaystyle x^{2} + 2 x$"
      ],
      "text/plain": [
       "x**2 + 2*x"
      ]
     },
     "execution_count": 21,
     "metadata": {},
     "output_type": "execute_result"
    }
   ],
   "source": [
    "# Can also use expand as a function\n",
    "sp.expand(expr)"
   ]
  },
  {
   "cell_type": "code",
   "execution_count": 22,
   "id": "59cc93d5",
   "metadata": {
    "canvas": {
     "comments": [],
     "componentType": "CodeCell",
     "copiedOriginId": null,
     "diskcache": false,
     "headerColor": "none",
     "id": "eb848c5c-699b-4504-8a3d-ca8f2f7f11e9",
     "isComponent": false,
     "name": "",
     "parents": []
    }
   },
   "outputs": [
    {
     "data": {
      "text/plain": [
       "(s, t)"
      ]
     },
     "execution_count": 22,
     "metadata": {},
     "output_type": "execute_result"
    }
   ],
   "source": [
    "# Can define multiple symbols at once\n",
    "sp.symbols(\"s t\")"
   ]
  },
  {
   "cell_type": "code",
   "execution_count": 23,
   "id": "20558bbf",
   "metadata": {
    "canvas": {
     "comments": [],
     "componentType": "CodeCell",
     "copiedOriginId": null,
     "diskcache": false,
     "headerColor": "none",
     "id": "4a0ee4fa-085a-46d9-8d78-33522a8d7fea",
     "isComponent": false,
     "name": "",
     "parents": []
    }
   },
   "outputs": [
    {
     "data": {
      "text/plain": [
       "tuple"
      ]
     },
     "execution_count": 23,
     "metadata": {},
     "output_type": "execute_result"
    }
   ],
   "source": [
    " # Can check the type\n",
    "type(sp.symbols(\"s t\"))"
   ]
  },
  {
   "cell_type": "code",
   "execution_count": 24,
   "id": "e8b7422e",
   "metadata": {
    "canvas": {
     "comments": [],
     "componentType": "CodeCell",
     "copiedOriginId": null,
     "diskcache": false,
     "headerColor": "none",
     "id": "69408d8b-77d3-4114-85a4-22816d0d61b1",
     "isComponent": false,
     "name": "",
     "parents": []
    }
   },
   "outputs": [],
   "source": [
    "# Can use tuple unpacking to collect the symbols\n",
    "s, t = sp.symbols(\"s, t\")"
   ]
  },
  {
   "cell_type": "code",
   "execution_count": 25,
   "id": "df81ba3b",
   "metadata": {
    "canvas": {
     "comments": [],
     "componentType": "CodeCell",
     "copiedOriginId": null,
     "diskcache": false,
     "headerColor": "none",
     "id": "9f4d7964-d2fd-43d7-acf0-db84023b0e8d",
     "isComponent": false,
     "name": "",
     "parents": []
    }
   },
   "outputs": [
    {
     "data": {
      "text/latex": [
       "$\\displaystyle t \\left(s + 2\\right) \\left(t - 3\\right)$"
      ],
      "text/plain": [
       "t*(s + 2)*(t - 3)"
      ]
     },
     "execution_count": 25,
     "metadata": {},
     "output_type": "execute_result"
    }
   ],
   "source": [
    "poly = t*(s+2)*(t-3)\n",
    "poly"
   ]
  },
  {
   "cell_type": "code",
   "execution_count": 26,
   "id": "afe9d777",
   "metadata": {
    "canvas": {
     "comments": [],
     "componentType": "CodeCell",
     "copiedOriginId": null,
     "diskcache": false,
     "headerColor": "none",
     "id": "dc34739b-50ad-4af0-a5aa-c73e1d2caa5b",
     "isComponent": false,
     "name": "",
     "parents": []
    }
   },
   "outputs": [
    {
     "data": {
      "text/latex": [
       "$\\displaystyle s t^{2} - 3 s t + 2 t^{2} - 6 t$"
      ],
      "text/plain": [
       "s*t**2 - 3*s*t + 2*t**2 - 6*t"
      ]
     },
     "execution_count": 26,
     "metadata": {},
     "output_type": "execute_result"
    }
   ],
   "source": [
    "# Expanding the curve\n",
    "poly.expand()"
   ]
  },
  {
   "cell_type": "markdown",
   "id": "cef7b5cf",
   "metadata": {
    "canvas": {
     "comments": [],
     "componentType": "CodeCell",
     "copiedOriginId": null,
     "diskcache": false,
     "headerColor": "none",
     "id": "6f8354a8-0964-424c-9527-572435f90bfb",
     "isComponent": false,
     "name": "",
     "parents": []
    }
   },
   "source": [
    "### Factor Expressions\n",
    "To factor an expression, we will use the factor method"
   ]
  },
  {
   "cell_type": "code",
   "execution_count": 27,
   "id": "c3795cee",
   "metadata": {
    "canvas": {
     "comments": [],
     "componentType": "CodeCell",
     "copiedOriginId": null,
     "diskcache": false,
     "headerColor": "none",
     "id": "aa45db3d-2af7-410a-86a3-0d84d887e1cd",
     "isComponent": false,
     "name": "",
     "parents": []
    }
   },
   "outputs": [
    {
     "data": {
      "text/latex": [
       "$\\displaystyle x^{2} + 2 x - 15$"
      ],
      "text/plain": [
       "x**2 + 2*x - 15"
      ]
     },
     "execution_count": 27,
     "metadata": {},
     "output_type": "execute_result"
    }
   ],
   "source": [
    "expr = x**2 + 2*x - 15\n",
    "expr"
   ]
  },
  {
   "cell_type": "code",
   "execution_count": 28,
   "id": "586919f9",
   "metadata": {
    "canvas": {
     "comments": [],
     "componentType": "CodeCell",
     "copiedOriginId": null,
     "diskcache": false,
     "headerColor": "none",
     "id": "d53bde8c-c6ce-4369-99dd-e88ffc1db2f7",
     "isComponent": false,
     "name": "",
     "parents": []
    }
   },
   "outputs": [
    {
     "data": {
      "text/latex": [
       "$\\displaystyle \\left(x - 3\\right) \\left(x + 5\\right)$"
      ],
      "text/plain": [
       "(x - 3)*(x + 5)"
      ]
     },
     "execution_count": 28,
     "metadata": {},
     "output_type": "execute_result"
    }
   ],
   "source": [
    "# Factoring the polynomial\n",
    "# Will not work for quintic or higher functions\n",
    "expr.factor()"
   ]
  },
  {
   "cell_type": "code",
   "execution_count": 29,
   "id": "26f4455a",
   "metadata": {
    "canvas": {
     "comments": [],
     "componentType": "CodeCell",
     "copiedOriginId": null,
     "diskcache": false,
     "headerColor": "none",
     "id": "e31f8a4f-6355-4a52-bae6-116bbe1784a0",
     "isComponent": false,
     "name": "",
     "parents": []
    }
   },
   "outputs": [],
   "source": [
    "# Can make many symbols as follows\n",
    "x_v = sp.symbols(\"x0:3\")"
   ]
  },
  {
   "cell_type": "code",
   "execution_count": 30,
   "id": "862865f2",
   "metadata": {
    "canvas": {
     "comments": [],
     "componentType": "CodeCell",
     "copiedOriginId": null,
     "diskcache": false,
     "headerColor": "none",
     "id": "bea22ca9-844d-4867-975a-edbc11533bdd",
     "isComponent": false,
     "name": "",
     "parents": []
    }
   },
   "outputs": [
    {
     "data": {
      "text/plain": [
       "(x0, x1, x2)"
      ]
     },
     "execution_count": 30,
     "metadata": {},
     "output_type": "execute_result"
    }
   ],
   "source": [
    "# This is a tuple of symbols\n",
    "x_v"
   ]
  },
  {
   "cell_type": "code",
   "execution_count": 31,
   "id": "277f0328",
   "metadata": {
    "canvas": {
     "comments": [],
     "componentType": "CodeCell",
     "copiedOriginId": null,
     "diskcache": false,
     "headerColor": "none",
     "id": "d53a00d0-800e-463b-8621-ee645a50ad32",
     "isComponent": false,
     "name": "",
     "parents": []
    }
   },
   "outputs": [
    {
     "data": {
      "text/latex": [
       "$\\displaystyle x_{0}^{2} x_{1} x_{2} + x_{0} x_{1} x_{2}$"
      ],
      "text/plain": [
       "x0**2*x1*x2 + x0*x1*x2"
      ]
     },
     "execution_count": 31,
     "metadata": {},
     "output_type": "execute_result"
    }
   ],
   "source": [
    "ex = x_v[0]**2 * x_v[1] *x_v[2] + x_v[0] * x_v[1] * x_v[2]\n",
    "ex"
   ]
  },
  {
   "cell_type": "code",
   "execution_count": 33,
   "id": "38632f06",
   "metadata": {
    "canvas": {
     "comments": [],
     "componentType": "CodeCell",
     "copiedOriginId": null,
     "diskcache": false,
     "headerColor": "none",
     "id": "d99d3402-b8db-4385-b272-2300bd167b57",
     "isComponent": false,
     "name": "",
     "parents": []
    }
   },
   "outputs": [
    {
     "data": {
      "text/latex": [
       "$\\displaystyle x_{0} x_{1} x_{2} \\left(x_{0} + 1\\right)$"
      ],
      "text/plain": [
       "x0*x1*x2*(x0 + 1)"
      ]
     },
     "execution_count": 33,
     "metadata": {},
     "output_type": "execute_result"
    }
   ],
   "source": [
    "# Factoring the expression\n",
    "sp.factor(ex)"
   ]
  },
  {
   "cell_type": "markdown",
   "id": "5e709eea",
   "metadata": {
    "canvas": {
     "comments": [],
     "componentType": "CodeCell",
     "copiedOriginId": null,
     "diskcache": false,
     "headerColor": "none",
     "id": "3832d68d-9365-4527-a503-26e464479a8b",
     "isComponent": false,
     "name": "",
     "parents": []
    }
   },
   "source": [
    "## Why Data Types in SymPy Matter\n",
    "[video](https://www.youtube.com/watch?v=SQl-XGFOpFU&list=PLSE7WKf_qqo1T5VV1nqXTj2iNiSpFk72T&index=3)"
   ]
  },
  {
   "cell_type": "code",
   "execution_count": 34,
   "id": "99ece8bd",
   "metadata": {
    "canvas": {
     "comments": [],
     "componentType": "CodeCell",
     "copiedOriginId": null,
     "diskcache": false,
     "headerColor": "none",
     "id": "aa8e9fde-8153-4e65-b325-1e0ad8b55e6c",
     "isComponent": false,
     "name": "",
     "parents": []
    }
   },
   "outputs": [],
   "source": [
    "# Defining a symbol x\n",
    "x = sp.Symbol('x')"
   ]
  },
  {
   "cell_type": "code",
   "execution_count": 36,
   "id": "3f223bb7",
   "metadata": {
    "canvas": {
     "comments": [],
     "componentType": "CodeCell",
     "copiedOriginId": null,
     "diskcache": false,
     "headerColor": "none",
     "id": "b9ccd069-9276-4bb7-b065-212c8dcc7f31",
     "isComponent": false,
     "name": "",
     "parents": []
    }
   },
   "outputs": [
    {
     "data": {
      "text/latex": [
       "$\\displaystyle x^{0.333333333333333}$"
      ],
      "text/plain": [
       "x**0.333333333333333"
      ]
     },
     "execution_count": 36,
     "metadata": {},
     "output_type": "execute_result"
    }
   ],
   "source": [
    "expr = x**(1/3)\n",
    "expr"
   ]
  },
  {
   "cell_type": "markdown",
   "id": "99540bbc",
   "metadata": {
    "canvas": {
     "comments": [],
     "componentType": "CodeCell",
     "copiedOriginId": null,
     "diskcache": false,
     "headerColor": "none",
     "id": "4afdbe37-8761-4c95-81bd-b7adbe0cfa99",
     "isComponent": false,
     "name": "",
     "parents": []
    }
   },
   "source": [
    "- Firstly, the expression 1/3 is evaluated to be the floating-point number 0.3333...\n",
    "- Secondly, the SymPy symbol x is raised to the power 0.3333... to form $x^{0.3333\\ldots}$\n",
    "\n",
    "Involving numerics into our symbolic mathematics makes it difficult to recognize terms:"
   ]
  },
  {
   "cell_type": "code",
   "execution_count": 37,
   "id": "2ac98025",
   "metadata": {
    "canvas": {
     "comments": [],
     "componentType": "CodeCell",
     "copiedOriginId": null,
     "diskcache": false,
     "headerColor": "none",
     "id": "554f6ec3-d4e4-4107-9362-2d4ff3389809",
     "isComponent": false,
     "name": "",
     "parents": []
    }
   },
   "outputs": [
    {
     "data": {
      "text/latex": [
       "$\\displaystyle x^{0.0666666666666667}$"
      ],
      "text/plain": [
       "x**0.0666666666666667"
      ]
     },
     "execution_count": 37,
     "metadata": {},
     "output_type": "execute_result"
    }
   ],
   "source": [
    "# This should be exactly x^(1/15)\n",
    "expr ** (1/5)"
   ]
  },
  {
   "cell_type": "markdown",
   "id": "577ce5fd",
   "metadata": {
    "canvas": {
     "comments": [],
     "componentType": "CodeCell",
     "copiedOriginId": null,
     "diskcache": false,
     "headerColor": "none",
     "id": "8b79dc5c-9a0a-4385-90aa-2dbc68a4c7d6",
     "isComponent": false,
     "name": "",
     "parents": []
    }
   },
   "source": [
    "To avoid this, we will introduce the SymPy data types `sp.Integer` and `sp.Rational`\n",
    "\n",
    "### SymPy's Integer Type"
   ]
  },
  {
   "cell_type": "code",
   "execution_count": 39,
   "id": "d188ab69",
   "metadata": {
    "canvas": {
     "comments": [],
     "componentType": "CodeCell",
     "copiedOriginId": null,
     "diskcache": false,
     "headerColor": "none",
     "id": "df9718d2-cc34-4216-b2fc-214d92771c3c",
     "isComponent": false,
     "name": "",
     "parents": []
    }
   },
   "outputs": [
    {
     "data": {
      "text/latex": [
       "$\\displaystyle \\sqrt[3]{x}$"
      ],
      "text/plain": [
       "x**(1/3)"
      ]
     },
     "execution_count": 39,
     "metadata": {},
     "output_type": "execute_result"
    }
   ],
   "source": [
    "# SymPy's integer type\n",
    "expr = x ** (sp.Integer(1) / sp.Integer(3))\n",
    "expr"
   ]
  },
  {
   "cell_type": "code",
   "execution_count": 40,
   "id": "9379dd9d",
   "metadata": {
    "canvas": {
     "comments": [],
     "componentType": "CodeCell",
     "copiedOriginId": null,
     "diskcache": false,
     "headerColor": "none",
     "id": "c4531237-8deb-407b-8187-e31551665450",
     "isComponent": false,
     "name": "",
     "parents": []
    }
   },
   "outputs": [
    {
     "data": {
      "text/latex": [
       "$\\displaystyle \\sqrt[15]{x}$"
      ],
      "text/plain": [
       "x**(1/15)"
      ]
     },
     "execution_count": 40,
     "metadata": {},
     "output_type": "execute_result"
    }
   ],
   "source": [
    "# This should be exactly x^(1/15)\n",
    "expr ** (sp.Integer(1) / sp.Integer(5))"
   ]
  },
  {
   "cell_type": "code",
   "execution_count": 42,
   "id": "3f528d5c",
   "metadata": {
    "canvas": {
     "comments": [],
     "componentType": "CodeCell",
     "copiedOriginId": null,
     "diskcache": false,
     "headerColor": "none",
     "id": "fcc772d2-8d16-4613-a4e6-be5700dbcdcf",
     "isComponent": false,
     "name": "",
     "parents": []
    }
   },
   "outputs": [
    {
     "data": {
      "text/latex": [
       "$\\displaystyle \\sqrt[15]{x}$"
      ],
      "text/plain": [
       "x**(1/15)"
      ]
     },
     "execution_count": 42,
     "metadata": {},
     "output_type": "execute_result"
    }
   ],
   "source": [
    "# Even more simple\n",
    "# If there's an operation between a SymPy object and a python object, \n",
    "# the result will always be converted into a SymPy object\n",
    "expr ** (sp.Integer(1) / 5)"
   ]
  },
  {
   "cell_type": "code",
   "execution_count": 43,
   "id": "3971c249",
   "metadata": {
    "canvas": {
     "comments": [],
     "componentType": "CodeCell",
     "copiedOriginId": null,
     "diskcache": false,
     "headerColor": "none",
     "id": "78ad9394-f0e5-4f63-bf6d-e9eacc90eaea",
     "isComponent": false,
     "name": "",
     "parents": []
    }
   },
   "outputs": [
    {
     "data": {
      "text/plain": [
       "sympy.core.numbers.Rational"
      ]
     },
     "execution_count": 43,
     "metadata": {},
     "output_type": "execute_result"
    }
   ],
   "source": [
    "# This automatically becomes a SymPy rational object\n",
    "type(sp.Integer(1) / 5)"
   ]
  },
  {
   "cell_type": "markdown",
   "id": "9bf44123",
   "metadata": {
    "canvas": {
     "comments": [],
     "componentType": "CodeCell",
     "copiedOriginId": null,
     "diskcache": false,
     "headerColor": "none",
     "id": "c9f11d8a-018b-4d86-af98-5e22fab5da6c",
     "isComponent": false,
     "name": "",
     "parents": []
    }
   },
   "source": [
    "### SymPy's Rational Type\n",
    "\n",
    "For specifying rational numbers we can also directly use the `sp.Rational` constructor:"
   ]
  },
  {
   "cell_type": "code",
   "execution_count": 45,
   "id": "7cf1d901",
   "metadata": {
    "canvas": {
     "comments": [],
     "componentType": "CodeCell",
     "copiedOriginId": null,
     "diskcache": false,
     "headerColor": "none",
     "id": "ec61044d-a254-4df0-8ee9-4f944736fae6",
     "isComponent": false,
     "name": "",
     "parents": []
    }
   },
   "outputs": [
    {
     "data": {
      "text/latex": [
       "$\\displaystyle \\frac{1}{3}$"
      ],
      "text/plain": [
       "1/3"
      ]
     },
     "execution_count": 45,
     "metadata": {},
     "output_type": "execute_result"
    }
   ],
   "source": [
    "# SymPy's rational object\n",
    "rational = sp.Rational(1,3)\n",
    "rational"
   ]
  },
  {
   "cell_type": "markdown",
   "id": "5ba50627",
   "metadata": {
    "canvas": {
     "comments": [],
     "componentType": "CodeCell",
     "copiedOriginId": null,
     "diskcache": false,
     "headerColor": "none",
     "id": "4a3c85ab-5cdd-4bae-ab4e-d7fc77561521",
     "isComponent": false,
     "name": "",
     "parents": []
    }
   },
   "source": [
    "Hence we could also have written the following:"
   ]
  },
  {
   "cell_type": "code",
   "execution_count": 47,
   "id": "579d664a",
   "metadata": {
    "canvas": {
     "comments": [],
     "componentType": "CodeCell",
     "copiedOriginId": null,
     "diskcache": false,
     "headerColor": "none",
     "id": "7ad766dd-16c2-4b4d-8c5a-c901e6b826b6",
     "isComponent": false,
     "name": "",
     "parents": []
    }
   },
   "outputs": [
    {
     "data": {
      "text/latex": [
       "$\\displaystyle \\sqrt[15]{x}$"
      ],
      "text/plain": [
       "x**(1/15)"
      ]
     },
     "execution_count": 47,
     "metadata": {},
     "output_type": "execute_result"
    }
   ],
   "source": [
    "expr = (x ** sp.Rational(1,3)) ** sp.Rational(1,5)\n",
    "expr"
   ]
  },
  {
   "cell_type": "markdown",
   "id": "e3327c72",
   "metadata": {
    "canvas": {
     "comments": [],
     "componentType": "CodeCell",
     "copiedOriginId": null,
     "diskcache": false,
     "headerColor": "none",
     "id": "5f5fcb7e-4c69-4114-9e53-2f9eea2162fb",
     "isComponent": false,
     "name": "",
     "parents": []
    }
   },
   "source": [
    "### Important Constants\n",
    "\n",
    "Certain constants in mathematics are used over and over again. These are very convenient to have easily accessible in SymPy:"
   ]
  },
  {
   "cell_type": "code",
   "execution_count": 31,
   "id": "72acaa24",
   "metadata": {
    "canvas": {
     "comments": [],
     "componentType": "CodeCell",
     "copiedOriginId": null,
     "diskcache": false,
     "headerColor": "none",
     "id": "8fef04f9-8296-442d-9beb-f4eb1f500396",
     "isComponent": false,
     "name": "",
     "parents": []
    }
   },
   "outputs": [
    {
     "data": {
      "text/latex": [
       "$\\displaystyle 3 \\pi$"
      ],
      "text/plain": [
       "3*pi"
      ]
     },
     "execution_count": 31,
     "metadata": {},
     "output_type": "execute_result"
    }
   ],
   "source": [
    "# The constant pi\n",
    "3*sp.pi"
   ]
  },
  {
   "cell_type": "code",
   "execution_count": 32,
   "id": "cc74d1a3",
   "metadata": {
    "canvas": {
     "comments": [],
     "componentType": "CodeCell",
     "copiedOriginId": null,
     "diskcache": false,
     "headerColor": "none",
     "id": "ba4053b7-a533-4c46-9476-f2f00610df33",
     "isComponent": false,
     "name": "",
     "parents": []
    }
   },
   "outputs": [
    {
     "data": {
      "text/latex": [
       "$\\displaystyle e + \\pi$"
      ],
      "text/plain": [
       "E + pi"
      ]
     },
     "execution_count": 32,
     "metadata": {},
     "output_type": "execute_result"
    }
   ],
   "source": [
    "# The constant e\n",
    "sp.E + sp.pi"
   ]
  },
  {
   "cell_type": "code",
   "execution_count": 52,
   "id": "75a8920a",
   "metadata": {
    "canvas": {
     "comments": [],
     "componentType": "CodeCell",
     "copiedOriginId": null,
     "diskcache": false,
     "headerColor": "none",
     "id": "f20c2266-6e75-48e2-b509-38de0af81fde",
     "isComponent": false,
     "name": "",
     "parents": []
    }
   },
   "outputs": [
    {
     "data": {
      "text/latex": [
       "$\\displaystyle \\infty$"
      ],
      "text/plain": [
       "oo"
      ]
     },
     "execution_count": 52,
     "metadata": {},
     "output_type": "execute_result"
    }
   ],
   "source": [
    "# Infinity\n",
    "sp.oo"
   ]
  },
  {
   "cell_type": "markdown",
   "id": "4acd74b6",
   "metadata": {
    "canvas": {
     "comments": [],
     "componentType": "CodeCell",
     "copiedOriginId": null,
     "diskcache": false,
     "headerColor": "none",
     "id": "445d26f5-fbd5-4f5d-9e60-484e9e6a9d47",
     "isComponent": false,
     "name": "",
     "parents": []
    }
   },
   "source": [
    "The infinity constant works the way you think it does:"
   ]
  },
  {
   "cell_type": "code",
   "execution_count": 53,
   "id": "14f90438",
   "metadata": {
    "canvas": {
     "comments": [],
     "componentType": "CodeCell",
     "copiedOriginId": null,
     "diskcache": false,
     "headerColor": "none",
     "id": "cac35ab1-55ea-4c1b-a73a-edb6009341a1",
     "isComponent": false,
     "name": "",
     "parents": []
    }
   },
   "outputs": [
    {
     "data": {
      "text/latex": [
       "$\\displaystyle \\text{NaN}$"
      ],
      "text/plain": [
       "nan"
      ]
     },
     "execution_count": 53,
     "metadata": {},
     "output_type": "execute_result"
    }
   ],
   "source": [
    "sp.oo - sp.oo"
   ]
  },
  {
   "cell_type": "code",
   "execution_count": 54,
   "id": "06c905c4",
   "metadata": {
    "canvas": {
     "comments": [],
     "componentType": "CodeCell",
     "copiedOriginId": null,
     "diskcache": false,
     "headerColor": "none",
     "id": "93f04c2b-439e-4ae9-9f41-3bfabf7e567e",
     "isComponent": false,
     "name": "",
     "parents": []
    }
   },
   "outputs": [
    {
     "data": {
      "text/latex": [
       "$\\displaystyle i$"
      ],
      "text/plain": [
       "I"
      ]
     },
     "execution_count": 54,
     "metadata": {},
     "output_type": "execute_result"
    }
   ],
   "source": [
    "# The imaginary unit\n",
    "sp.I"
   ]
  },
  {
   "cell_type": "code",
   "execution_count": 55,
   "id": "765cb028",
   "metadata": {
    "canvas": {
     "comments": [],
     "componentType": "CodeCell",
     "copiedOriginId": null,
     "diskcache": false,
     "headerColor": "none",
     "id": "d43da44a-cc30-4d53-bcbe-d5dc55a39f37",
     "isComponent": false,
     "name": "",
     "parents": []
    }
   },
   "outputs": [
    {
     "data": {
      "text/latex": [
       "$\\displaystyle -1$"
      ],
      "text/plain": [
       "-1"
      ]
     },
     "execution_count": 55,
     "metadata": {},
     "output_type": "execute_result"
    }
   ],
   "source": [
    "# Complex arithmetic is implemented\n",
    "sp.I ** 2"
   ]
  },
  {
   "cell_type": "markdown",
   "id": "7057f4fb",
   "metadata": {
    "canvas": {
     "comments": [],
     "componentType": "CodeCell",
     "copiedOriginId": null,
     "diskcache": false,
     "headerColor": "none",
     "id": "e2570047-36e7-4899-8430-a3dec99b9450",
     "isComponent": false,
     "name": "",
     "parents": []
    }
   },
   "source": [
    "### Common Functions\n",
    "\n",
    "SymPy has loads of cool functions implemented. Let me go over a few of the most common ones:"
   ]
  },
  {
   "cell_type": "code",
   "execution_count": 56,
   "id": "f8f2e241",
   "metadata": {
    "canvas": {
     "comments": [],
     "componentType": "CodeCell",
     "copiedOriginId": null,
     "diskcache": false,
     "headerColor": "none",
     "id": "fbd36e13-cc38-4702-8df5-09751495a00e",
     "isComponent": false,
     "name": "",
     "parents": []
    }
   },
   "outputs": [
    {
     "data": {
      "text/latex": [
       "$\\displaystyle e^{x}$"
      ],
      "text/plain": [
       "exp(x)"
      ]
     },
     "execution_count": 56,
     "metadata": {},
     "output_type": "execute_result"
    }
   ],
   "source": [
    "# Exponential function\n",
    "sp.exp(x)"
   ]
  },
  {
   "cell_type": "code",
   "execution_count": 57,
   "id": "0ad8bef4",
   "metadata": {
    "canvas": {
     "comments": [],
     "componentType": "CodeCell",
     "copiedOriginId": null,
     "diskcache": false,
     "headerColor": "none",
     "id": "f3180f41-d727-491f-908f-04493911adf6",
     "isComponent": false,
     "name": "",
     "parents": []
    }
   },
   "outputs": [
    {
     "data": {
      "text/latex": [
       "$\\displaystyle -1$"
      ],
      "text/plain": [
       "-1"
      ]
     },
     "execution_count": 57,
     "metadata": {},
     "output_type": "execute_result"
    }
   ],
   "source": [
    "# Eulers identity\n",
    "sp.exp(sp.pi * sp.I)"
   ]
  },
  {
   "cell_type": "code",
   "execution_count": 58,
   "id": "108eab68",
   "metadata": {
    "canvas": {
     "comments": [],
     "componentType": "CodeCell",
     "copiedOriginId": null,
     "diskcache": false,
     "headerColor": "none",
     "id": "7bc49c2f-2adf-48b1-a394-e27989cab0d5",
     "isComponent": false,
     "name": "",
     "parents": []
    }
   },
   "outputs": [
    {
     "data": {
      "text/latex": [
       "$\\displaystyle \\log{\\left(x \\right)}$"
      ],
      "text/plain": [
       "log(x)"
      ]
     },
     "execution_count": 58,
     "metadata": {},
     "output_type": "execute_result"
    }
   ],
   "source": [
    "# Logarithm function\n",
    "sp.log(x)"
   ]
  },
  {
   "cell_type": "code",
   "execution_count": 59,
   "id": "f0160626",
   "metadata": {
    "canvas": {
     "comments": [],
     "componentType": "CodeCell",
     "copiedOriginId": null,
     "diskcache": false,
     "headerColor": "none",
     "id": "1b2cb7d9-8ef7-4eda-afb2-34166f5a246b",
     "isComponent": false,
     "name": "",
     "parents": []
    }
   },
   "outputs": [
    {
     "data": {
      "text/latex": [
       "$\\displaystyle x$"
      ],
      "text/plain": [
       "x"
      ]
     },
     "execution_count": 59,
     "metadata": {},
     "output_type": "execute_result"
    }
   ],
   "source": [
    "# Checking that it is in fact the natural logarithm\n",
    "sp.exp(sp.log(x))"
   ]
  },
  {
   "cell_type": "code",
   "execution_count": 60,
   "id": "cab7fffd",
   "metadata": {
    "canvas": {
     "comments": [],
     "componentType": "CodeCell",
     "copiedOriginId": null,
     "diskcache": false,
     "headerColor": "none",
     "id": "dd967121-29bb-47f1-bd59-babe445a800a",
     "isComponent": false,
     "name": "",
     "parents": []
    }
   },
   "outputs": [
    {
     "data": {
      "text/latex": [
       "$\\displaystyle \\sin{\\left(x \\right)} + \\cos{\\left(x \\right)} + \\tan{\\left(x \\right)}$"
      ],
      "text/plain": [
       "sin(x) + cos(x) + tan(x)"
      ]
     },
     "execution_count": 60,
     "metadata": {},
     "output_type": "execute_result"
    }
   ],
   "source": [
    "# trigonometric functions\n",
    "sp.sin(x) + sp.cos(x) + sp.tan(x)"
   ]
  },
  {
   "cell_type": "code",
   "execution_count": 61,
   "id": "2e04f83d",
   "metadata": {
    "canvas": {
     "comments": [],
     "componentType": "CodeCell",
     "copiedOriginId": null,
     "diskcache": false,
     "headerColor": "none",
     "id": "213f7c54-066b-4e02-a105-785c53a0760e",
     "isComponent": false,
     "name": "",
     "parents": []
    }
   },
   "outputs": [
    {
     "data": {
      "text/latex": [
       "$\\displaystyle x^{2} + e^{\\cos{\\left(x \\right)}} + \\sin{\\left(\\pi x \\right)}$"
      ],
      "text/plain": [
       "x**2 + exp(cos(x)) + sin(pi*x)"
      ]
     },
     "execution_count": 61,
     "metadata": {},
     "output_type": "execute_result"
    }
   ],
   "source": [
    "expr = x ** 2 + sp.sin(sp.pi * x) + sp.exp(sp.cos(x))\n",
    "expr"
   ]
  },
  {
   "cell_type": "markdown",
   "id": "2f5fb613",
   "metadata": {
    "canvas": {
     "comments": [],
     "componentType": "CodeCell",
     "copiedOriginId": null,
     "diskcache": false,
     "headerColor": "none",
     "id": "ff01c90e-dc3a-4d89-9c06-3d8a85c4194e",
     "isComponent": false,
     "name": "",
     "parents": []
    }
   },
   "source": [
    "## Solving Equations\n",
    "\n",
    "In [this](https://www.youtube.com/watch?v=QJCp1YMDdZ0&list=PLSE7WKf_qqo1T5VV1nqXTj2iNiSpFk72T&index=4) lecture, we are going to learn how to solve equations in SymPy.\n",
    "\n",
    "**Functions and attributes in this lecture:**\n",
    "- `sp.Eq()` - Defines a SymPy equation\n",
    "- `sp.solveset()` - Solves equations.\n",
    "- `sp.linsolve()` - Solves linear equations."
   ]
  },
  {
   "cell_type": "code",
   "execution_count": 27,
   "id": "90549933",
   "metadata": {
    "canvas": {
     "comments": [],
     "componentType": "CodeCell",
     "copiedOriginId": null,
     "diskcache": false,
     "headerColor": "none",
     "id": "c6dfcaa2-8bc9-441f-bd53-f484db733318",
     "isComponent": false,
     "name": "",
     "parents": []
    }
   },
   "outputs": [],
   "source": [
    "# Defining symbols x, y, and z\n",
    "x, y, z = sp.symbols(\"x, y, z\")"
   ]
  },
  {
   "cell_type": "markdown",
   "id": "30d84907",
   "metadata": {
    "canvas": {
     "comments": [],
     "componentType": "CodeCell",
     "copiedOriginId": null,
     "diskcache": false,
     "headerColor": "none",
     "id": "143bbf43-7a35-4619-b0dc-4d5552b2436b",
     "isComponent": false,
     "name": "",
     "parents": []
    }
   },
   "source": [
    "## Defining Equations\n",
    "\n",
    "In mathematics we often write $x^2 = 5$ to define equations. However, in Python the symbol `=` is reserved to be a variable assignment. Double equals `==` is reserved for Boolean comparison.\n",
    "\n",
    "To define an equation in SymPy we do the following:"
   ]
  },
  {
   "cell_type": "code",
   "execution_count": 28,
   "id": "c6848669",
   "metadata": {
    "canvas": {
     "comments": [],
     "componentType": "CodeCell",
     "copiedOriginId": null,
     "diskcache": false,
     "headerColor": "none",
     "id": "f9be27db-23bf-47d9-8728-8e93e36f5d13",
     "isComponent": false,
     "name": "",
     "parents": []
    }
   },
   "outputs": [
    {
     "data": {
      "text/latex": [
       "$\\displaystyle x^{2} = 5$"
      ],
      "text/plain": [
       "Eq(x**2, 5)"
      ]
     },
     "execution_count": 28,
     "metadata": {},
     "output_type": "execute_result"
    }
   ],
   "source": [
    "# Defines an equation\n",
    "eq = sp.Eq(x**2, 5)\n",
    "eq"
   ]
  },
  {
   "cell_type": "code",
   "execution_count": 29,
   "id": "9f2c57ee-3eb1-4f47-84b2-cc29bf120559",
   "metadata": {
    "canvas": {
     "comments": [],
     "componentType": "CodeCell",
     "copiedOriginId": null,
     "diskcache": false,
     "headerColor": "none",
     "id": "fe42ed2a-08f2-47f4-9132-19ef5ecc70be",
     "isComponent": false,
     "name": "",
     "parents": []
    }
   },
   "outputs": [
    {
     "data": {
      "text/plain": [
       "sympy.core.relational.Equality"
      ]
     },
     "execution_count": 29,
     "metadata": {},
     "output_type": "execute_result"
    }
   ],
   "source": [
    "# Checking the type ofthe equation\n",
    "type(eq)"
   ]
  },
  {
   "cell_type": "markdown",
   "id": "f0a0b070-35f0-474b-88f1-387a93b91d7c",
   "metadata": {
    "canvas": {
     "comments": [],
     "componentType": "CodeCell",
     "copiedOriginId": null,
     "diskcache": false,
     "headerColor": "none",
     "id": "cd218004-9607-4aa6-a457-87673d3c09ab",
     "isComponent": false,
     "name": "",
     "parents": []
    }
   },
   "source": [
    "In SymPy we can solve equations with the `solveset()` function:"
   ]
  },
  {
   "cell_type": "code",
   "execution_count": 30,
   "id": "5b97657a-709e-44e0-ad24-0ca9e64c305c",
   "metadata": {
    "canvas": {
     "comments": [],
     "componentType": "CodeCell",
     "copiedOriginId": null,
     "diskcache": false,
     "headerColor": "none",
     "id": "5a61ae8c-6d87-462e-a6bd-8067dc43dac3",
     "isComponent": false,
     "name": "",
     "parents": []
    }
   },
   "outputs": [
    {
     "data": {
      "text/latex": [
       "$\\displaystyle \\left\\{- \\sqrt{5}, \\sqrt{5}\\right\\}$"
      ],
      "text/plain": [
       "{-sqrt(5), sqrt(5)}"
      ]
     },
     "execution_count": 30,
     "metadata": {},
     "output_type": "execute_result"
    }
   ],
   "source": [
    "# Use the solveset method\n",
    "sp.solveset(eq)"
   ]
  },
  {
   "cell_type": "code",
   "execution_count": 31,
   "id": "5f3d5a4b-3923-4547-a061-66ba26679ead",
   "metadata": {
    "canvas": {
     "comments": [],
     "componentType": "CodeCell",
     "copiedOriginId": null,
     "diskcache": false,
     "headerColor": "none",
     "id": "d09de0de-8a5a-414f-921c-308178c6faf2",
     "isComponent": false,
     "name": "",
     "parents": []
    }
   },
   "outputs": [
    {
     "data": {
      "text/plain": [
       "sympy.sets.sets.FiniteSet"
      ]
     },
     "execution_count": 31,
     "metadata": {},
     "output_type": "execute_result"
    }
   ],
   "source": [
    "# Checking the type of solveset\n",
    "type(sp.solveset(eq))"
   ]
  },
  {
   "cell_type": "code",
   "execution_count": 32,
   "id": "80714088-4187-4c58-93dc-3659fefb0592",
   "metadata": {
    "canvas": {
     "comments": [],
     "componentType": "CodeCell",
     "copiedOriginId": null,
     "diskcache": false,
     "headerColor": "none",
     "id": "50e729e8-5cdd-470e-a36f-4470dacb6dae",
     "isComponent": false,
     "name": "",
     "parents": []
    }
   },
   "outputs": [
    {
     "data": {
      "text/latex": [
       "$\\displaystyle \\sqrt{5}$"
      ],
      "text/plain": [
       "sqrt(5)"
      ]
     },
     "execution_count": 32,
     "metadata": {},
     "output_type": "execute_result"
    }
   ],
   "source": [
    "# Extracting the first solution\n",
    "ans = list(sp.solveset(eq,x))\n",
    "#ans\n",
    "ans[0]"
   ]
  },
  {
   "cell_type": "markdown",
   "id": "69b0e9a8-a852-4b8d-a000-9bd4b52a915e",
   "metadata": {
    "canvas": {
     "comments": [],
     "componentType": "CodeCell",
     "copiedOriginId": null,
     "diskcache": false,
     "headerColor": "none",
     "id": "5c855d13-7085-47a0-babf-78bc3042c88b",
     "isComponent": false,
     "name": "",
     "parents": []
    }
   },
   "source": [
    "Alternatively, rewrite $x^2 = 5$ as $x^2 - 5 = 0$ and write:"
   ]
  },
  {
   "cell_type": "code",
   "execution_count": 33,
   "id": "0e5648b3-5641-438d-b46a-4b5eb1fdc2ab",
   "metadata": {
    "canvas": {
     "comments": [],
     "componentType": "CodeCell",
     "copiedOriginId": null,
     "diskcache": false,
     "headerColor": "none",
     "id": "bc126e14-a7c0-4f8b-aa4e-4957d612a0e2",
     "isComponent": false,
     "name": "",
     "parents": []
    }
   },
   "outputs": [
    {
     "data": {
      "text/latex": [
       "$\\displaystyle \\left\\{- \\sqrt{5}, \\sqrt{5}\\right\\}$"
      ],
      "text/plain": [
       "{-sqrt(5), sqrt(5)}"
      ]
     },
     "execution_count": 33,
     "metadata": {},
     "output_type": "execute_result"
    }
   ],
   "source": [
    "# The same question reformulated\n",
    "sp.solveset(x**2-5, x)"
   ]
  },
  {
   "cell_type": "markdown",
   "id": "00ffe4e7-a5f6-44b7-ac41-9347d4f70a35",
   "metadata": {
    "canvas": {
     "comments": [],
     "componentType": "CodeCell",
     "copiedOriginId": null,
     "diskcache": false,
     "headerColor": "none",
     "id": "1f0f076d-8854-4bd7-a70b-2d6adfa52cec",
     "isComponent": false,
     "name": "",
     "parents": []
    }
   },
   "source": [
    "### Second Example"
   ]
  },
  {
   "cell_type": "code",
   "execution_count": 34,
   "id": "c8716513-fa29-4d2d-bb8b-52cdf25e1a98",
   "metadata": {
    "canvas": {
     "comments": [],
     "componentType": "CodeCell",
     "copiedOriginId": null,
     "diskcache": false,
     "headerColor": "none",
     "id": "138d062d-7efd-40bc-88d4-7c57588c6309",
     "isComponent": false,
     "name": "",
     "parents": []
    }
   },
   "outputs": [
    {
     "data": {
      "text/latex": [
       "$\\displaystyle - \\sin{\\left(x \\right)} + \\cos{\\left(x \\right)} = 0$"
      ],
      "text/plain": [
       "Eq(-sin(x) + cos(x), 0)"
      ]
     },
     "execution_count": 34,
     "metadata": {},
     "output_type": "execute_result"
    }
   ],
   "source": [
    "# Defining the equation\n",
    "eq2 = sp.Eq(sp.cos(x)-sp.sin(x), 0)\n",
    "eq2"
   ]
  },
  {
   "cell_type": "code",
   "execution_count": 35,
   "id": "640043c8-0ee3-4faa-9228-2dcb4f16b273",
   "metadata": {
    "canvas": {
     "comments": [],
     "componentType": "CodeCell",
     "copiedOriginId": null,
     "diskcache": false,
     "headerColor": "none",
     "id": "8d853581-b703-491f-af72-5475ee402475",
     "isComponent": false,
     "name": "",
     "parents": []
    }
   },
   "outputs": [
    {
     "data": {
      "text/latex": [
       "$\\displaystyle \\left\\{2 n \\pi + \\frac{5 \\pi}{4}\\; \\middle|\\; n \\in \\mathbb{Z}\\right\\} \\cup \\left\\{2 n \\pi + \\frac{\\pi}{4}\\; \\middle|\\; n \\in \\mathbb{Z}\\right\\}$"
      ],
      "text/plain": [
       "Union(ImageSet(Lambda(_n, 2*_n*pi + 5*pi/4), Integers), ImageSet(Lambda(_n, 2*_n*pi + pi/4), Integers))"
      ]
     },
     "execution_count": 35,
     "metadata": {},
     "output_type": "execute_result"
    }
   ],
   "source": [
    "# Solving the equation\n",
    "sp.solveset(eq2)"
   ]
  },
  {
   "cell_type": "code",
   "execution_count": 36,
   "id": "72ee7fd0-181c-46bd-9303-ec8ab3655b1f",
   "metadata": {
    "canvas": {
     "comments": [],
     "componentType": "CodeCell",
     "copiedOriginId": null,
     "diskcache": false,
     "headerColor": "none",
     "id": "2c9a7a11-1837-40e8-8249-be399b86e570",
     "isComponent": false,
     "name": "",
     "parents": []
    }
   },
   "outputs": [
    {
     "data": {
      "text/plain": [
       "sympy.sets.sets.Union"
      ]
     },
     "execution_count": 36,
     "metadata": {},
     "output_type": "execute_result"
    }
   ],
   "source": [
    "# Checking out the type of the equation\n",
    "type(sp.solveset(eq2))"
   ]
  },
  {
   "cell_type": "markdown",
   "id": "3daef09c-3477-46aa-a700-d18a998210b2",
   "metadata": {
    "canvas": {
     "comments": [],
     "componentType": "CodeCell",
     "copiedOriginId": null,
     "diskcache": false,
     "headerColor": "none",
     "id": "d32b1b76-26ea-4032-af0b-742d2b8df2be",
     "isComponent": false,
     "name": "",
     "parents": []
    }
   },
   "source": [
    "### Third Example\n",
    "\n",
    "We know that some equations are only possible to solve numerically. Hence SymPy can't solve them."
   ]
  },
  {
   "cell_type": "code",
   "execution_count": 37,
   "id": "a7f0320e-b50e-4ae2-90e9-d1c4e22eeb36",
   "metadata": {
    "canvas": {
     "comments": [],
     "componentType": "CodeCell",
     "copiedOriginId": null,
     "diskcache": false,
     "headerColor": "none",
     "id": "1ed74dcc-09cb-4a64-967a-e64c9b4109f9",
     "isComponent": false,
     "name": "",
     "parents": []
    }
   },
   "outputs": [
    {
     "data": {
      "text/latex": [
       "$\\displaystyle \\cos{\\left(x \\right)} = x$"
      ],
      "text/plain": [
       "Eq(cos(x), x)"
      ]
     },
     "execution_count": 37,
     "metadata": {},
     "output_type": "execute_result"
    }
   ],
   "source": [
    "# Defining a non-solvable equatoin\n",
    "eq3 = sp.Eq(sp.cos(x), x)\n",
    "eq3"
   ]
  },
  {
   "cell_type": "code",
   "execution_count": 38,
   "id": "e7c4bc58-3281-4c7d-a62e-f78bcf99b09d",
   "metadata": {
    "canvas": {
     "comments": [],
     "componentType": "CodeCell",
     "copiedOriginId": null,
     "diskcache": false,
     "headerColor": "none",
     "id": "ece31522-0518-4a60-878b-7a6d302ce085",
     "isComponent": false,
     "name": "",
     "parents": []
    }
   },
   "outputs": [
    {
     "data": {
      "text/latex": [
       "$\\displaystyle \\left\\{x\\; \\middle|\\; x \\in \\mathbb{C} \\wedge - x + \\cos{\\left(x \\right)} = 0 \\right\\}$"
      ],
      "text/plain": [
       "ConditionSet(x, Eq(-x + cos(x), 0), Complexes)"
      ]
     },
     "execution_count": 38,
     "metadata": {},
     "output_type": "execute_result"
    }
   ],
   "source": [
    "# Trying to solve the equation\n",
    "sp.solveset(eq3)"
   ]
  },
  {
   "cell_type": "code",
   "execution_count": 39,
   "id": "b6f279c3-4550-4e23-bd64-335fa8ca36f0",
   "metadata": {
    "canvas": {
     "comments": [],
     "componentType": "CodeCell",
     "copiedOriginId": null,
     "diskcache": false,
     "headerColor": "none",
     "id": "c5f26a18-5bbd-42fa-affb-a87f91f2a238",
     "isComponent": false,
     "name": "",
     "parents": []
    }
   },
   "outputs": [
    {
     "data": {
      "text/plain": [
       "sympy.sets.conditionset.ConditionSet"
      ]
     },
     "execution_count": 39,
     "metadata": {},
     "output_type": "execute_result"
    }
   ],
   "source": [
    "# Checking the type of the equation\n",
    "type(sp.solveset(eq3))"
   ]
  },
  {
   "cell_type": "markdown",
   "id": "108ea47d-3813-4a2d-b25e-46e627cfcc2b",
   "metadata": {
    "canvas": {
     "comments": [],
     "componentType": "CodeCell",
     "copiedOriginId": null,
     "diskcache": false,
     "headerColor": "none",
     "id": "7675adc2-9158-43a6-a3ed-dd92d754af2b",
     "isComponent": false,
     "name": "",
     "parents": []
    }
   },
   "source": [
    "Need to find the solution numerically!"
   ]
  },
  {
   "cell_type": "markdown",
   "id": "5f8bc834-8bc0-402d-8f33-a6a4594321ed",
   "metadata": {
    "canvas": {
     "comments": [],
     "componentType": "CodeCell",
     "copiedOriginId": null,
     "diskcache": false,
     "headerColor": "none",
     "id": "22e00a1c-5706-43e4-b509-1fbf4301fdca",
     "isComponent": false,
     "name": "",
     "parents": []
    }
   },
   "source": [
    "## Solving Systems of Linear Equatoins\n",
    "\n",
    "In SymPy we can also solve systems of linear equations with the linsolve() function:"
   ]
  },
  {
   "cell_type": "code",
   "execution_count": 40,
   "id": "c54f252b-8b38-4489-8aca-1078f82d118e",
   "metadata": {
    "canvas": {
     "comments": [],
     "componentType": "CodeCell",
     "copiedOriginId": null,
     "diskcache": false,
     "headerColor": "none",
     "id": "9c4030f9-de7d-4205-b2f3-62cebcca3e3b",
     "isComponent": false,
     "name": "",
     "parents": []
    }
   },
   "outputs": [
    {
     "data": {
      "text/latex": [
       "$\\displaystyle x = 3 y + z$"
      ],
      "text/plain": [
       "Eq(x, 3*y + z)"
      ]
     },
     "execution_count": 40,
     "metadata": {},
     "output_type": "execute_result"
    }
   ],
   "source": [
    "# Defining the first equation\n",
    "eq_lin1 = sp.Eq(x, 3*y + z)\n",
    "eq_lin1"
   ]
  },
  {
   "cell_type": "code",
   "execution_count": 41,
   "id": "9cd3ebf5-4617-45f2-8ef5-e8f1c6993db5",
   "metadata": {
    "canvas": {
     "comments": [],
     "componentType": "CodeCell",
     "copiedOriginId": null,
     "diskcache": false,
     "headerColor": "none",
     "id": "5093c86c-6534-4f07-bc40-fa845a0eeb92",
     "isComponent": false,
     "name": "",
     "parents": []
    }
   },
   "outputs": [
    {
     "data": {
      "text/latex": [
       "$\\displaystyle 5 x - 3 z = y$"
      ],
      "text/plain": [
       "Eq(5*x - 3*z, y)"
      ]
     },
     "execution_count": 41,
     "metadata": {},
     "output_type": "execute_result"
    }
   ],
   "source": [
    "# Defining the second equation\n",
    "eq_lin2 = sp.Eq(5*x - 3*z, y)\n",
    "eq_lin2"
   ]
  },
  {
   "cell_type": "code",
   "execution_count": 43,
   "id": "e815c8f4-2762-4006-919b-fcb6846a6aba",
   "metadata": {
    "canvas": {
     "comments": [],
     "componentType": "CodeCell",
     "copiedOriginId": null,
     "diskcache": false,
     "headerColor": "none",
     "id": "92d25cf7-b542-4ea3-ac74-f42764b5585c",
     "isComponent": false,
     "name": "",
     "parents": []
    }
   },
   "outputs": [
    {
     "data": {
      "text/latex": [
       "$\\displaystyle \\left\\{\\left( \\frac{4 z}{7}, \\  - \\frac{z}{7}, \\  z\\right)\\right\\}$"
      ],
      "text/plain": [
       "{(4*z/7, -z/7, z)}"
      ]
     },
     "execution_count": 43,
     "metadata": {},
     "output_type": "execute_result"
    }
   ],
   "source": [
    "# Solving the system of linear equations\n",
    "sp.linsolve([eq_lin1, eq_lin2], x, y, z)"
   ]
  },
  {
   "cell_type": "markdown",
   "id": "37481ed3-a4a5-4506-9a8b-c02a5bfe2102",
   "metadata": {
    "canvas": {
     "comments": [],
     "componentType": "CodeCell",
     "copiedOriginId": null,
     "diskcache": false,
     "headerColor": "none",
     "id": "46c89ff7-bd31-4363-a738-11e88fba51de",
     "isComponent": false,
     "name": "",
     "parents": []
    }
   },
   "source": [
    "# Simplifying Expressions\n",
    "\n",
    "In [this](https://www.youtube.com/watch?v=MsP9uEcgLmY&list=PLSE7WKf_qqo1T5VV1nqXTj2iNiSpFk72T&index=5) lecture, we are going to look at simplifying expressions in SymPy. There are several ways of doing this, and we will look at some of the most common ones.\n",
    "\n",
    "**Functions and attributes in this lecture:**\n",
    "- `sp.factor()` - Factors expressions\n",
    "- `sp.expand()` - Expands expressions\n",
    "- `sp.cancel()` - Puts rational functions in standard canonical form\n",
    "- `sp.apart()` - Performs a partial fraction decomposition for a function\n",
    "- `sp.simplify()` - A general simplification function"
   ]
  },
  {
   "cell_type": "code",
   "execution_count": 45,
   "id": "69e14eee-752f-455f-872b-c4dd0bf66ae5",
   "metadata": {
    "canvas": {
     "comments": [],
     "componentType": "CodeCell",
     "copiedOriginId": null,
     "diskcache": false,
     "headerColor": "none",
     "id": "60bf98fb-d774-4374-8e11-d1ce7c083fb3",
     "isComponent": false,
     "name": "",
     "parents": []
    }
   },
   "outputs": [],
   "source": [
    "# Imports\n",
    "import sympy as sp\n",
    "# Define the symbols x and y\n",
    "x, y = sp.symbols('x y')"
   ]
  },
  {
   "cell_type": "markdown",
   "id": "227ad5f3-5dc9-4149-8abd-e7e2cbf9cb27",
   "metadata": {
    "canvas": {
     "comments": [],
     "componentType": "CodeCell",
     "copiedOriginId": null,
     "diskcache": false,
     "headerColor": "none",
     "id": "8fd0067a-3bd3-4eb9-9113-3a68a61499d7",
     "isComponent": false,
     "name": "",
     "parents": []
    }
   },
   "source": [
    "## Factor and Expand\n",
    "\n",
    "### Repetition"
   ]
  },
  {
   "cell_type": "code",
   "execution_count": 50,
   "id": "0d324007-91e0-4642-bb84-bb0ecdc54244",
   "metadata": {
    "canvas": {
     "comments": [],
     "componentType": "CodeCell",
     "copiedOriginId": null,
     "diskcache": false,
     "headerColor": "none",
     "id": "a0f3c78d-07bb-457a-9de8-c075dc5aa33c",
     "isComponent": false,
     "name": "",
     "parents": []
    }
   },
   "outputs": [
    {
     "data": {
      "text/latex": [
       "$\\displaystyle x^{2} + 5 x + 6$"
      ],
      "text/plain": [
       "x**2 + 5*x + 6"
      ]
     },
     "execution_count": 50,
     "metadata": {},
     "output_type": "execute_result"
    }
   ],
   "source": [
    "# Creates a polynomial\n",
    "poly = x**2 + 5*x + 6\n",
    "poly"
   ]
  },
  {
   "cell_type": "code",
   "execution_count": 52,
   "id": "7c020244-2546-4fa2-a897-3508cfc0ebb3",
   "metadata": {
    "canvas": {
     "comments": [],
     "componentType": "CodeCell",
     "copiedOriginId": null,
     "diskcache": false,
     "headerColor": "none",
     "id": "7fc52b00-e014-4d00-b0b5-fd9a1ad108aa",
     "isComponent": false,
     "name": "",
     "parents": []
    }
   },
   "outputs": [
    {
     "data": {
      "text/latex": [
       "$\\displaystyle \\left(x + 2\\right) \\left(x + 3\\right)$"
      ],
      "text/plain": [
       "(x + 2)*(x + 3)"
      ]
     },
     "execution_count": 52,
     "metadata": {},
     "output_type": "execute_result"
    }
   ],
   "source": [
    "# Can factor polynomials\n",
    "poly = poly.factor()\n",
    "poly"
   ]
  },
  {
   "cell_type": "code",
   "execution_count": 53,
   "id": "ade3a925-352b-4826-93d1-10c74b57030e",
   "metadata": {
    "canvas": {
     "comments": [],
     "componentType": "CodeCell",
     "copiedOriginId": null,
     "diskcache": false,
     "headerColor": "none",
     "id": "2941db94-1cf0-4ad5-bf9d-8348a317eab5",
     "isComponent": false,
     "name": "",
     "parents": []
    }
   },
   "outputs": [
    {
     "data": {
      "text/latex": [
       "$\\displaystyle x^{2} + 5 x + 6$"
      ],
      "text/plain": [
       "x**2 + 5*x + 6"
      ]
     },
     "execution_count": 53,
     "metadata": {},
     "output_type": "execute_result"
    }
   ],
   "source": [
    "# Can expand them again\n",
    "poly.expand()"
   ]
  },
  {
   "cell_type": "markdown",
   "id": "22c885cb-3e5a-448b-b924-eafc0ec03cc4",
   "metadata": {
    "canvas": {
     "comments": [],
     "componentType": "CodeCell",
     "copiedOriginId": null,
     "diskcache": false,
     "headerColor": "none",
     "id": "ec939166-fe7c-4ce0-ac4c-ffa5ee40ff42",
     "isComponent": false,
     "name": "",
     "parents": []
    }
   },
   "source": [
    "### Expanding Other Expressions\n",
    "\n",
    "We can use the `expand()` method on other expressions than polynomials"
   ]
  },
  {
   "cell_type": "code",
   "execution_count": 54,
   "id": "798a8b51-147f-4445-ab83-6aeb5a7d7adb",
   "metadata": {
    "canvas": {
     "comments": [],
     "componentType": "CodeCell",
     "copiedOriginId": null,
     "diskcache": false,
     "headerColor": "none",
     "id": "5c317e5a-c429-46e4-ae21-72fb41718c2e",
     "isComponent": false,
     "name": "",
     "parents": []
    }
   },
   "outputs": [
    {
     "data": {
      "text/latex": [
       "$\\displaystyle e^{x} e^{y}$"
      ],
      "text/plain": [
       "exp(x)*exp(y)"
      ]
     },
     "execution_count": 54,
     "metadata": {},
     "output_type": "execute_result"
    }
   ],
   "source": [
    "# Expand exponential terms\n",
    "sp.exp(x + y).expand()"
   ]
  },
  {
   "cell_type": "code",
   "execution_count": 55,
   "id": "04de42a5-26eb-4828-9ecd-a61393079afe",
   "metadata": {
    "canvas": {
     "comments": [],
     "componentType": "CodeCell",
     "copiedOriginId": null,
     "diskcache": false,
     "headerColor": "none",
     "id": "9efaf53e-803d-4043-8e36-15f2a46c39fc",
     "isComponent": false,
     "name": "",
     "parents": []
    }
   },
   "outputs": [
    {
     "data": {
      "text/latex": [
       "$\\displaystyle \\left(\\sin{\\left(y \\right)} + \\cos{\\left(x \\right)}\\right)^{2} - \\cos^{2}{\\left(x \\right)}$"
      ],
      "text/plain": [
       "(sin(y) + cos(x))**2 - cos(x)**2"
      ]
     },
     "execution_count": 55,
     "metadata": {},
     "output_type": "execute_result"
    }
   ],
   "source": [
    "# Trigonometric expression\n",
    "trig = (sp.cos(x) + sp.sin(y))**2 - sp.cos(x)**2\n",
    "trig"
   ]
  },
  {
   "cell_type": "code",
   "execution_count": 56,
   "id": "83f56835-1f18-40d1-b3bc-bf153c77ba90",
   "metadata": {
    "canvas": {
     "comments": [],
     "componentType": "CodeCell",
     "copiedOriginId": null,
     "diskcache": false,
     "headerColor": "none",
     "id": "553af670-6645-4ac6-8fad-f131743e38cc",
     "isComponent": false,
     "name": "",
     "parents": []
    }
   },
   "outputs": [
    {
     "data": {
      "text/latex": [
       "$\\displaystyle \\sin^{2}{\\left(y \\right)} + 2 \\sin{\\left(y \\right)} \\cos{\\left(x \\right)}$"
      ],
      "text/plain": [
       "sin(y)**2 + 2*sin(y)*cos(x)"
      ]
     },
     "execution_count": 56,
     "metadata": {},
     "output_type": "execute_result"
    }
   ],
   "source": [
    "# Expand to simplify terms\n",
    "trig.expand()"
   ]
  },
  {
   "cell_type": "markdown",
   "id": "0fc0a2b6-6712-43b3-987a-b65a26698251",
   "metadata": {
    "canvas": {
     "comments": [],
     "componentType": "CodeCell",
     "copiedOriginId": null,
     "diskcache": false,
     "headerColor": "none",
     "id": "b6d68485-21e8-489a-879e-def468a0b633",
     "isComponent": false,
     "name": "",
     "parents": []
    }
   },
   "source": [
    "### Avoiding certain simplifications\n",
    "\n",
    "Sometimes, we only wish to simplify certain parts of an expression. This can be done with optional arguments in the `expand()` method"
   ]
  },
  {
   "cell_type": "code",
   "execution_count": 33,
   "id": "9ac79ab0-10f1-4c29-b0da-3d42fac32cbf",
   "metadata": {
    "canvas": {
     "comments": [],
     "componentType": "CodeCell",
     "copiedOriginId": null,
     "diskcache": false,
     "headerColor": "none",
     "id": "8dcb6742-4ee4-4d18-b464-258d113685fa",
     "isComponent": false,
     "name": "",
     "parents": []
    }
   },
   "outputs": [
    {
     "data": {
      "text/latex": [
       "$\\displaystyle \\left(\\sin{\\left(y \\right)} + \\cos{\\left(x \\right)}\\right)^{2} + e^{x + y} - \\cos^{2}{\\left(x \\right)}$"
      ],
      "text/plain": [
       "(sin(y) + cos(x))**2 + exp(x + y) - cos(x)**2"
      ]
     },
     "execution_count": 33,
     "metadata": {},
     "output_type": "execute_result"
    }
   ],
   "source": [
    "# Trigonometric and exponential expression\n",
    "trig_and_exp = sp.exp(x + y) + (sp.cos(x) + sp.sin(y))**2 - sp.cos(x)**2\n",
    "trig_and_exp"
   ]
  },
  {
   "cell_type": "code",
   "execution_count": 58,
   "id": "f15e4f96-91c6-45f5-ac44-4152653e501b",
   "metadata": {
    "canvas": {
     "comments": [],
     "componentType": "CodeCell",
     "copiedOriginId": null,
     "diskcache": false,
     "headerColor": "none",
     "id": "861846f0-13dd-4b92-ae20-c70a11e99f9a",
     "isComponent": false,
     "name": "",
     "parents": []
    }
   },
   "outputs": [
    {
     "data": {
      "text/latex": [
       "$\\displaystyle e^{x} e^{y} + \\sin^{2}{\\left(y \\right)} + 2 \\sin{\\left(y \\right)} \\cos{\\left(x \\right)}$"
      ],
      "text/plain": [
       "exp(x)*exp(y) + sin(y)**2 + 2*sin(y)*cos(x)"
      ]
     },
     "execution_count": 58,
     "metadata": {},
     "output_type": "execute_result"
    }
   ],
   "source": [
    "# Expanding everything\n",
    "trig_and_exp.expand()"
   ]
  },
  {
   "cell_type": "markdown",
   "id": "64e47114-19e4-4f5c-82d6-34148afa313b",
   "metadata": {
    "canvas": {
     "comments": [],
     "componentType": "CodeCell",
     "copiedOriginId": null,
     "diskcache": false,
     "headerColor": "none",
     "id": "8f538f2a-2b5a-4046-a76c-4332d3e941b5",
     "isComponent": false,
     "name": "",
     "parents": []
    }
   },
   "source": [
    "If we only want to factor trigonometric terms, then we can write:"
   ]
  },
  {
   "cell_type": "code",
   "execution_count": 59,
   "id": "5d6781a7-b738-4217-b06b-21e27b59cb2d",
   "metadata": {
    "canvas": {
     "comments": [],
     "componentType": "CodeCell",
     "copiedOriginId": null,
     "diskcache": false,
     "headerColor": "none",
     "id": "8eda17c4-5091-4f4b-a0e2-3eec4858aa3c",
     "isComponent": false,
     "name": "",
     "parents": []
    }
   },
   "outputs": [
    {
     "data": {
      "text/latex": [
       "$\\displaystyle e^{x + y} + \\sin^{2}{\\left(y \\right)} + 2 \\sin{\\left(y \\right)} \\cos{\\left(x \\right)}$"
      ],
      "text/plain": [
       "exp(x + y) + sin(y)**2 + 2*sin(y)*cos(x)"
      ]
     },
     "execution_count": 59,
     "metadata": {},
     "output_type": "execute_result"
    }
   ],
   "source": [
    "# Expanding only trigonometric functions\n",
    "trig_and_exp.expand(power_exp=False)"
   ]
  },
  {
   "cell_type": "markdown",
   "id": "4288e72a-131c-4d2f-b1cd-463efbeb1caa",
   "metadata": {
    "canvas": {
     "comments": [],
     "componentType": "CodeCell",
     "copiedOriginId": null,
     "diskcache": false,
     "headerColor": "none",
     "id": "949610de-1ebf-41f5-9509-75991dc44f32",
     "isComponent": false,
     "name": "",
     "parents": []
    }
   },
   "source": [
    "[Options for the expand method](https://docs.sympy.org/latest/modules/core.html?highlight=expand#sympy.core.expr.Expr.expand)"
   ]
  },
  {
   "cell_type": "markdown",
   "id": "dbdee656-aecd-4f95-8f32-cddea9bcbb2b",
   "metadata": {
    "canvas": {
     "comments": [],
     "componentType": "CodeCell",
     "copiedOriginId": null,
     "diskcache": false,
     "headerColor": "none",
     "id": "36a17443-8ced-4d71-8c50-e69c68acb842",
     "isComponent": false,
     "name": "",
     "parents": []
    }
   },
   "source": [
    "## Cancel and Apart\n",
    "\n",
    "The methods `cancel()` and `apart()` are both for simplifying **rational functions** - fractions with polynomials in the numerator and denominator.\n",
    "\n",
    "### The Cancel Method\n",
    "\n",
    "The cancel method will take any rational function on the form $\\frac{p(x)}{q(x)}$ and factor it so that the polynomials $p(x)$ and $q(x)$ have no common factors"
   ]
  },
  {
   "cell_type": "code",
   "execution_count": 60,
   "id": "68fb419c-cb87-41cf-b8c1-142b26a41deb",
   "metadata": {
    "canvas": {
     "comments": [],
     "componentType": "CodeCell",
     "copiedOriginId": null,
     "diskcache": false,
     "headerColor": "none",
     "id": "42fc7ddd-0f89-466d-b62b-0cebe4fb05e7",
     "isComponent": false,
     "name": "",
     "parents": []
    }
   },
   "outputs": [
    {
     "data": {
      "text/latex": [
       "$\\displaystyle \\frac{x^{3} + 10 x^{2} + 31 x + 30}{x^{2} + 12 x + 35}$"
      ],
      "text/plain": [
       "(x**3 + 10*x**2 + 31*x + 30)/(x**2 + 12*x + 35)"
      ]
     },
     "execution_count": 60,
     "metadata": {},
     "output_type": "execute_result"
    }
   ],
   "source": [
    "# Defining the polynomials\n",
    "p = x**3 + 10 * x**2 + 31 * x + 30\n",
    "q = x**2 + 12 * x + 35\n",
    "fraction = p / q\n",
    "fraction"
   ]
  },
  {
   "cell_type": "code",
   "execution_count": 63,
   "id": "7ec3556e-d790-4b40-963d-29a385864e4c",
   "metadata": {
    "canvas": {
     "comments": [],
     "componentType": "CodeCell",
     "copiedOriginId": null,
     "diskcache": false,
     "headerColor": "none",
     "id": "91ab58b0-5b33-4d05-9291-4cff5d819b40",
     "isComponent": false,
     "name": "",
     "parents": []
    }
   },
   "outputs": [
    {
     "data": {
      "text/latex": [
       "$\\displaystyle \\frac{x^{2} + 5 x + 6}{x + 7}$"
      ],
      "text/plain": [
       "(x**2 + 5*x + 6)/(x + 7)"
      ]
     },
     "execution_count": 63,
     "metadata": {},
     "output_type": "execute_result"
    }
   ],
   "source": [
    "# Factors the fraction into the canonical form\n",
    "fraction.cancel()\n",
    "# sp.cancel(fraction)"
   ]
  },
  {
   "cell_type": "markdown",
   "id": "c20acf46-4ba0-4750-9a13-dcd8856f5158",
   "metadata": {
    "canvas": {
     "comments": [],
     "componentType": "CodeCell",
     "copiedOriginId": null,
     "diskcache": false,
     "headerColor": "none",
     "id": "32f6f49d-6802-40da-a48f-ad59a3d024e0",
     "isComponent": false,
     "name": "",
     "parents": []
    }
   },
   "source": [
    "### Apart Method\n",
    "\n",
    "The `apart()` method will perform the **partial fraction decomposition** on a rational function. This is useful when integrating a function"
   ]
  },
  {
   "cell_type": "code",
   "execution_count": 65,
   "id": "9aa306c4-164e-4180-beee-a8ebbc31c0ec",
   "metadata": {
    "canvas": {
     "comments": [],
     "componentType": "CodeCell",
     "copiedOriginId": null,
     "diskcache": false,
     "headerColor": "none",
     "id": "fe5c74a2-7708-4cd1-91aa-9ce7a9a9e7c6",
     "isComponent": false,
     "name": "",
     "parents": []
    }
   },
   "outputs": [
    {
     "data": {
      "text/latex": [
       "$\\displaystyle \\frac{x^{3} + 10 x^{2} + 31 x + 30}{x^{2} + 12 x + 35}$"
      ],
      "text/plain": [
       "(x**3 + 10*x**2 + 31*x + 30)/(x**2 + 12*x + 35)"
      ]
     },
     "execution_count": 65,
     "metadata": {},
     "output_type": "execute_result"
    }
   ],
   "source": [
    "# Defining the polynomials\n",
    "p = x**3 + 10 * x**2 + 31 * x + 30\n",
    "q = x**2 + 12 * x + 35\n",
    "fraction = p / q\n",
    "fraction"
   ]
  },
  {
   "cell_type": "code",
   "execution_count": 66,
   "id": "ed2f08f2-e8e4-4040-9dc9-d83ed24c42d9",
   "metadata": {
    "canvas": {
     "comments": [],
     "componentType": "CodeCell",
     "copiedOriginId": null,
     "diskcache": false,
     "headerColor": "none",
     "id": "10f189c1-93d4-44a1-88a5-3e5ccb70fd1b",
     "isComponent": false,
     "name": "",
     "parents": []
    }
   },
   "outputs": [
    {
     "data": {
      "text/latex": [
       "$\\displaystyle x - 2 + \\frac{20}{x + 7}$"
      ],
      "text/plain": [
       "x - 2 + 20/(x + 7)"
      ]
     },
     "execution_count": 66,
     "metadata": {},
     "output_type": "execute_result"
    }
   ],
   "source": [
    "# Does a partial fraction decomposition of the rational fraction\n",
    "fraction.apart()"
   ]
  },
  {
   "cell_type": "markdown",
   "id": "1805379e-b649-4d86-a06c-f3a0bee8dbde",
   "metadata": {
    "canvas": {
     "comments": [],
     "componentType": "CodeCell",
     "copiedOriginId": null,
     "diskcache": false,
     "headerColor": "none",
     "id": "46f32e39-2d7a-49ef-afe1-26e1de8dacde",
     "isComponent": false,
     "name": "",
     "parents": []
    }
   },
   "source": [
    "### The General Simplify\n",
    "\n",
    "The `simplify()` method is the general purpose simplification method in SymPy. It is the most versatile, but also the slowest and most unspecific."
   ]
  },
  {
   "cell_type": "code",
   "execution_count": 67,
   "id": "17b54e50-88ae-4ea3-bc17-b23698b09979",
   "metadata": {
    "canvas": {
     "comments": [],
     "componentType": "CodeCell",
     "copiedOriginId": null,
     "diskcache": false,
     "headerColor": "none",
     "id": "2ac5c699-13c3-42c8-b001-f94fe4d4412e",
     "isComponent": false,
     "name": "",
     "parents": []
    }
   },
   "outputs": [
    {
     "data": {
      "text/latex": [
       "$\\displaystyle \\left(\\sin{\\left(x \\right)} + \\cos{\\left(x \\right)}\\right)^{2} - e^{x} + e^{x + y} - \\cos{\\left(x \\right)}$"
      ],
      "text/plain": [
       "(sin(x) + cos(x))**2 - exp(x) + exp(x + y) - cos(x)"
      ]
     },
     "execution_count": 67,
     "metadata": {},
     "output_type": "execute_result"
    }
   ],
   "source": [
    "# Define a massive expression\n",
    "expr = sp.exp(x+y) + (sp.cos(x) + sp.sin(x))**2 - sp.cos(x) - sp.exp(x)\n",
    "expr"
   ]
  },
  {
   "cell_type": "code",
   "execution_count": 68,
   "id": "9f87fd5a-8ac2-4925-9cc9-21cf3bb484f5",
   "metadata": {
    "canvas": {
     "comments": [],
     "componentType": "CodeCell",
     "copiedOriginId": null,
     "diskcache": false,
     "headerColor": "none",
     "id": "dfeed4aa-aa9b-4d0b-9681-33871543b357",
     "isComponent": false,
     "name": "",
     "parents": []
    }
   },
   "outputs": [
    {
     "data": {
      "text/latex": [
       "$\\displaystyle - e^{x} + e^{x + y} + \\sin{\\left(2 x \\right)} - \\cos{\\left(x \\right)} + 1$"
      ],
      "text/plain": [
       "-exp(x) + exp(x + y) + sin(2*x) - cos(x) + 1"
      ]
     },
     "execution_count": 68,
     "metadata": {},
     "output_type": "execute_result"
    }
   ],
   "source": [
    "# General simplification\n",
    "expr.simplify()"
   ]
  },
  {
   "cell_type": "markdown",
   "id": "020572c6-83b1-453a-b407-64795358b665",
   "metadata": {
    "canvas": {
     "comments": [],
     "componentType": "CodeCell",
     "copiedOriginId": null,
     "diskcache": false,
     "headerColor": "none",
     "id": "98328b36-7bd7-4563-a063-dd07e50d62a5",
     "isComponent": false,
     "name": "",
     "parents": []
    }
   },
   "source": [
    "If you just want a quick simplification, then try `simplify()`. If you need more fine tuning, then use a more specialized method"
   ]
  },
  {
   "cell_type": "markdown",
   "id": "3eb9cae7-f19e-4819-992c-d523551160b9",
   "metadata": {
    "canvas": {
     "comments": [],
     "componentType": "CodeCell",
     "copiedOriginId": null,
     "diskcache": false,
     "headerColor": "none",
     "id": "6d5c6314-7bf9-41db-bfd6-1a3851776900",
     "isComponent": false,
     "name": "",
     "parents": []
    }
   },
   "source": [
    "# Evaluating Expressions\n",
    "In [this](https://www.youtube.com/watch?v=i3EoTDYb3WY&list=PLSE7WKf_qqo1T5VV1nqXTj2iNiSpFk72T&index=6) lecture, we are going to learn how to evaluate expressions. We will also take a quick look at specifying that symbols are real, positive, or integers.\n",
    "\n",
    "** Functions and attributes in this lecture:**\n",
    "- `.subs()` - Substitute into an expression\n",
    "- `sp.N()` - Makes a symbolic number numeric"
   ]
  },
  {
   "cell_type": "code",
   "execution_count": 1,
   "id": "749364a7-343a-44d9-9e3e-225f978fb48d",
   "metadata": {
    "canvas": {
     "comments": [],
     "componentType": "CodeCell",
     "copiedOriginId": null,
     "diskcache": false,
     "headerColor": "none",
     "id": "c6f837c8-0185-48eb-a3d2-732de9fa6cc2",
     "isComponent": false,
     "name": "",
     "parents": []
    }
   },
   "outputs": [],
   "source": [
    "# Imports\n",
    "import sympy as sp"
   ]
  },
  {
   "cell_type": "markdown",
   "id": "d39dbd3f-8c34-48a2-8a5d-2290adf443d8",
   "metadata": {},
   "source": [
    "## Real, Positive, or Integer Symbols?\n",
    "\n",
    "All symbols in SymPy are by default complex. However some simplifications only work when the symbols are real, positive, integer etc. An example of this is $log(exp(x))=x$ which is only true for real numbers. Hence if you have more knowledge of your symbols you should specify it to SymPy"
   ]
  },
  {
   "cell_type": "code",
   "execution_count": 2,
   "id": "ee32af36-92ae-4d54-8331-27604bed08e6",
   "metadata": {},
   "outputs": [
    {
     "data": {
      "text/latex": [
       "$\\displaystyle \\log{\\left(e^{z} \\right)}$"
      ],
      "text/plain": [
       "log(exp(z))"
      ]
     },
     "execution_count": 2,
     "metadata": {},
     "output_type": "execute_result"
    }
   ],
   "source": [
    "z = sp.Symbol(\"z\")\n",
    "sp.log(sp.exp(z))"
   ]
  },
  {
   "cell_type": "code",
   "execution_count": 3,
   "id": "d18f194b-9a9a-4064-b575-d0bc77ef600e",
   "metadata": {},
   "outputs": [],
   "source": [
    "# Make three real symbols\n",
    "x0, x1, x2 = sp.symbols(\"x0:3\", real = True)"
   ]
  },
  {
   "cell_type": "code",
   "execution_count": 4,
   "id": "d9b64400-f2a9-43fe-acd5-4add5bf6f411",
   "metadata": {},
   "outputs": [
    {
     "data": {
      "text/latex": [
       "$\\displaystyle x_{0}$"
      ],
      "text/plain": [
       "x0"
      ]
     },
     "execution_count": 4,
     "metadata": {},
     "output_type": "execute_result"
    }
   ],
   "source": [
    "# Only works since x0 is real\n",
    "sp.log(sp.exp(x0))"
   ]
  },
  {
   "cell_type": "code",
   "execution_count": 5,
   "id": "1a5f9ba9-accf-4987-b055-3f4f4497ad72",
   "metadata": {},
   "outputs": [
    {
     "data": {
      "text/latex": [
       "$\\displaystyle \\left|{x_{0}}\\right|$"
      ],
      "text/plain": [
       "Abs(x0)"
      ]
     },
     "execution_count": 5,
     "metadata": {},
     "output_type": "execute_result"
    }
   ],
   "source": [
    "# Evaluates to the absolute value\n",
    "sp.sqrt(x0**2)"
   ]
  },
  {
   "cell_type": "code",
   "execution_count": 6,
   "id": "66c5e779-d02e-4232-a212-6f52872b2ccf",
   "metadata": {},
   "outputs": [],
   "source": [
    "# Make a positive symbol\n",
    "x = sp.Symbol(\"x\", positive=True)"
   ]
  },
  {
   "cell_type": "code",
   "execution_count": 7,
   "id": "0c49a0ea-83c6-4ce5-89e5-2234efd1dee1",
   "metadata": {},
   "outputs": [
    {
     "data": {
      "text/latex": [
       "$\\displaystyle \\left|{x_{0}}\\right|$"
      ],
      "text/plain": [
       "Abs(x0)"
      ]
     },
     "execution_count": 7,
     "metadata": {},
     "output_type": "execute_result"
    }
   ],
   "source": [
    "# Since x is positive the absolute value does nothing\n",
    "sp.sqrt(x0**2)"
   ]
  },
  {
   "cell_type": "code",
   "execution_count": 8,
   "id": "bc3b9744-343f-41b5-bd63-07488a74d6b2",
   "metadata": {},
   "outputs": [],
   "source": [
    "# Make an integer symbol\n",
    "n = sp.Symbol(\"n\", integer=True)"
   ]
  },
  {
   "cell_type": "code",
   "execution_count": 9,
   "id": "83016363-8d42-428a-baf6-4095773f1047",
   "metadata": {},
   "outputs": [
    {
     "data": {
      "text/latex": [
       "$\\displaystyle 1$"
      ],
      "text/plain": [
       "1"
      ]
     },
     "execution_count": 9,
     "metadata": {},
     "output_type": "execute_result"
    }
   ],
   "source": [
    "# This only works since n is an integer\n",
    "(-1)**(2*n)"
   ]
  },
  {
   "cell_type": "markdown",
   "id": "2d1f0aad-c144-433d-bfa3-0478361c73e5",
   "metadata": {},
   "source": [
    "## Point Evaluation of expressions\n",
    "In Sympy, we can evaluate expressions with the `subs() method`"
   ]
  },
  {
   "cell_type": "code",
   "execution_count": 10,
   "id": "a554a434-8a09-4058-b037-7c309e2cf8f1",
   "metadata": {},
   "outputs": [
    {
     "data": {
      "text/latex": [
       "$\\displaystyle x_{0}^{2} + 5$"
      ],
      "text/plain": [
       "x0**2 + 5"
      ]
     },
     "execution_count": 10,
     "metadata": {},
     "output_type": "execute_result"
    }
   ],
   "source": [
    "# Create an expression\n",
    "expr = x0**2 + 5\n",
    "expr"
   ]
  },
  {
   "cell_type": "code",
   "execution_count": 14,
   "id": "cc43e74a-b1ed-4846-924b-1c584194cc6f",
   "metadata": {},
   "outputs": [],
   "source": [
    "# Insert pi into expression\n",
    "num = expr.subs(x0, sp.pi)"
   ]
  },
  {
   "cell_type": "code",
   "execution_count": 12,
   "id": "07fbedc0-793c-430e-b387-209a289f6ff3",
   "metadata": {},
   "outputs": [
    {
     "data": {
      "text/latex": [
       "$\\displaystyle x_{0}^{2} + 5$"
      ],
      "text/plain": [
       "x0**2 + 5"
      ]
     },
     "execution_count": 12,
     "metadata": {},
     "output_type": "execute_result"
    }
   ],
   "source": [
    "# .subs does not change the expresion\n",
    "expr"
   ]
  },
  {
   "cell_type": "code",
   "execution_count": 13,
   "id": "1e97f8fb-cd7b-4277-ad26-689702a8277d",
   "metadata": {},
   "outputs": [
    {
     "data": {
      "text/latex": [
       "$\\displaystyle x_{1}^{4} + 5$"
      ],
      "text/plain": [
       "x1**4 + 5"
      ]
     },
     "execution_count": 13,
     "metadata": {},
     "output_type": "execute_result"
    }
   ],
   "source": [
    "# Insert another expression into an expression\n",
    "expr.subs(x0, x1**2)"
   ]
  },
  {
   "cell_type": "markdown",
   "id": "1766f7e5-671f-42b2-8985-ec61d4fe999d",
   "metadata": {},
   "source": [
    "## Going Numeric\n",
    "\n",
    "We can transform SymPy constants into decimals with the `sp.N()`function"
   ]
  },
  {
   "cell_type": "code",
   "execution_count": 15,
   "id": "0a20e304-1423-4881-b55c-483cfb985831",
   "metadata": {},
   "outputs": [
    {
     "data": {
      "text/latex": [
       "$\\displaystyle 14.8696044010894$"
      ],
      "text/plain": [
       "14.8696044010894"
      ]
     },
     "execution_count": 15,
     "metadata": {},
     "output_type": "execute_result"
    }
   ],
   "source": [
    "# Get out the numeric representation of numbers.\n",
    "# 15 decimals is the standard\n",
    "sp.N(num)"
   ]
  },
  {
   "cell_type": "code",
   "execution_count": 16,
   "id": "832c2e98-553c-4c5d-a77d-be6659e72589",
   "metadata": {},
   "outputs": [
    {
     "data": {
      "text/latex": [
       "$\\displaystyle 14.9$"
      ],
      "text/plain": [
       "14.9"
      ]
     },
     "execution_count": 16,
     "metadata": {},
     "output_type": "execute_result"
    }
   ],
   "source": [
    "# Can change the number of decimals\n",
    "sp.N(num, 3)"
   ]
  },
  {
   "cell_type": "code",
   "execution_count": 17,
   "id": "a1342485-0dc0-470d-9eaa-b51ec90b2dd5",
   "metadata": {},
   "outputs": [
    {
     "data": {
      "text/latex": [
       "$\\displaystyle x^{2} + \\pi$"
      ],
      "text/plain": [
       "x**2 + pi"
      ]
     },
     "execution_count": 17,
     "metadata": {},
     "output_type": "execute_result"
    }
   ],
   "source": [
    "# Can also make constants in expressions numeric\n",
    "expr = sp.pi + x ** 2\n",
    "expr"
   ]
  },
  {
   "cell_type": "code",
   "execution_count": 18,
   "id": "264dc1ae-bd24-45a3-991d-4b183745f54c",
   "metadata": {},
   "outputs": [
    {
     "data": {
      "text/latex": [
       "$\\displaystyle x^{2} + 3.14159265358979$"
      ],
      "text/plain": [
       "x**2 + 3.14159265358979"
      ]
     },
     "execution_count": 18,
     "metadata": {},
     "output_type": "execute_result"
    }
   ],
   "source": [
    "sp.N(expr)"
   ]
  },
  {
   "cell_type": "markdown",
   "id": "a8127ed0-99e1-4ea7-b220-dd68bff43f19",
   "metadata": {},
   "source": [
    "# Derivatives\n",
    "\n",
    "In [this](https://www.youtube.com/watch?v=ALg32BYwECM&list=PLSE7WKf_qqo1T5VV1nqXTj2iNiSpFk72T&index=7) lecture, we are going to work with derivatives. We will also see a function that lets us rewrite functions in a convenient way.\n",
    "\n",
    "**Functions and attributes in this lecture:**\n",
    "- `sp.diff()` - Computes the derivative of an expression\n",
    "- `.rewrite()` - Rewrites a function in terms of another function"
   ]
  },
  {
   "cell_type": "code",
   "execution_count": 35,
   "id": "0a0f669e-1e9e-4264-aa32-dee5101969b6",
   "metadata": {},
   "outputs": [],
   "source": [
    "# Imports and symbols\n",
    "import sympy as sp\n",
    "\n",
    "x, y = sp.symbols('x y')"
   ]
  },
  {
   "cell_type": "markdown",
   "id": "2438951f-9bfe-4923-bbec-31fc37bf5e27",
   "metadata": {},
   "source": [
    "## Basic Differentiation\n",
    "\n",
    "In SymPy we can differentiate functions and expressions. To do this, we use the `sp.diff()` function:"
   ]
  },
  {
   "cell_type": "code",
   "execution_count": 36,
   "id": "546bd6c2-c66c-4b48-a3ea-ae5796c9b964",
   "metadata": {},
   "outputs": [
    {
     "data": {
      "text/latex": [
       "$\\displaystyle e^{2 x} + \\sin{\\left(x \\right)}$"
      ],
      "text/plain": [
       "exp(2*x) + sin(x)"
      ]
     },
     "execution_count": 36,
     "metadata": {},
     "output_type": "execute_result"
    }
   ],
   "source": [
    "# Defining an expression\n",
    "expr = sp.exp(2*x) + sp.sin(x)\n",
    "expr"
   ]
  },
  {
   "cell_type": "code",
   "execution_count": 37,
   "id": "9bb7e218-099e-4bb2-a255-a68256b33e49",
   "metadata": {},
   "outputs": [
    {
     "data": {
      "text/latex": [
       "$\\displaystyle 2 e^{2 x} + \\cos{\\left(x \\right)}$"
      ],
      "text/plain": [
       "2*exp(2*x) + cos(x)"
      ]
     },
     "execution_count": 37,
     "metadata": {},
     "output_type": "execute_result"
    }
   ],
   "source": [
    "# Differentiating the expresion\n",
    "sp.diff(expr)"
   ]
  },
  {
   "cell_type": "code",
   "execution_count": 38,
   "id": "02af88ba-2146-40d6-bcf2-bbdf699839fc",
   "metadata": {},
   "outputs": [
    {
     "data": {
      "text/latex": [
       "$\\displaystyle 2 e^{2 x} + \\cos{\\left(x \\right)}$"
      ],
      "text/plain": [
       "2*exp(2*x) + cos(x)"
      ]
     },
     "execution_count": 38,
     "metadata": {},
     "output_type": "execute_result"
    }
   ],
   "source": [
    "# Can also specify the variable of differentiation\n",
    "sp.diff(expr, x)"
   ]
  },
  {
   "cell_type": "code",
   "execution_count": 39,
   "id": "0f64b74b-6321-44e5-b275-54d539f2e5b4",
   "metadata": {},
   "outputs": [
    {
     "data": {
      "text/latex": [
       "$\\displaystyle 4 e^{2 x} - \\sin{\\left(x \\right)}$"
      ],
      "text/plain": [
       "4*exp(2*x) - sin(x)"
      ]
     },
     "execution_count": 39,
     "metadata": {},
     "output_type": "execute_result"
    }
   ],
   "source": [
    "# We can differentiate multiple times\n",
    "# sp.diff(expr, x, x)\n",
    "sp.diff(sp.diff(expr))\n",
    "\n",
    "# This gives the same thing!\n",
    "sp.diff(expr, x, 2)"
   ]
  },
  {
   "cell_type": "markdown",
   "id": "cfe0555e-e0cf-43c4-bcba-387b573e4ca0",
   "metadata": {},
   "source": [
    "## Rewriting Functions\n",
    "\n",
    "In SymPy we can use the `.rewrite()` method to rewrite a function in terms of another function"
   ]
  },
  {
   "cell_type": "code",
   "execution_count": 40,
   "id": "6b975e63-bc94-487c-8d31-877a4252a233",
   "metadata": {},
   "outputs": [
    {
     "data": {
      "text/latex": [
       "$\\displaystyle e^{- \\frac{e^{x}}{2}} e^{\\sinh{\\left(x \\right)}}$"
      ],
      "text/plain": [
       "exp(-exp(x)/2)*exp(sinh(x))"
      ]
     },
     "execution_count": 40,
     "metadata": {},
     "output_type": "execute_result"
    }
   ],
   "source": [
    "# Our expression\n",
    "expr = sp.exp(sp.sinh(x)) / sp.exp(sp.exp(x) / 2)\n",
    "expr"
   ]
  },
  {
   "cell_type": "code",
   "execution_count": 42,
   "id": "5e3083b1-3ac4-4bef-976d-b8201a4faa12",
   "metadata": {},
   "outputs": [
    {
     "data": {
      "text/latex": [
       "$\\displaystyle e^{\\frac{e^{x}}{2} - \\frac{e^{- x}}{2}} e^{- \\frac{e^{x}}{2}}$"
      ],
      "text/plain": [
       "exp(exp(x)/2 - exp(-x)/2)*exp(-exp(x)/2)"
      ]
     },
     "execution_count": 42,
     "metadata": {},
     "output_type": "execute_result"
    }
   ],
   "source": [
    "# Rewrites the expression in terms of exponential functions\n",
    "expo = expr.rewrite(sp.exp)\n",
    "expo"
   ]
  },
  {
   "cell_type": "code",
   "execution_count": 43,
   "id": "e2ed28af-c615-4c18-aa00-82e558a0c4ad",
   "metadata": {},
   "outputs": [
    {
     "data": {
      "text/latex": [
       "$\\displaystyle e^{- \\frac{e^{- x}}{2}}$"
      ],
      "text/plain": [
       "exp(-exp(-x)/2)"
      ]
     },
     "execution_count": 43,
     "metadata": {},
     "output_type": "execute_result"
    }
   ],
   "source": [
    "# We can now simplify\n",
    "expo.simplify()"
   ]
  },
  {
   "cell_type": "code",
   "execution_count": 44,
   "id": "f3900fa8-d77f-40ed-b25c-875898edf08d",
   "metadata": {},
   "outputs": [
    {
     "data": {
      "text/latex": [
       "$\\displaystyle e^{- \\frac{e^{x}}{2} + \\sinh{\\left(x \\right)}}$"
      ],
      "text/plain": [
       "exp(-exp(x)/2 + sinh(x))"
      ]
     },
     "execution_count": 44,
     "metadata": {},
     "output_type": "execute_result"
    }
   ],
   "source": [
    "# We could not have simplified it right away!\n",
    "expr.simplify()"
   ]
  },
  {
   "cell_type": "markdown",
   "id": "2e378711-91f3-431e-8418-ea80d4da3972",
   "metadata": {},
   "source": [
    "## Rewriting and Partial Derivatives\n",
    "\n",
    "We can use the function `sp.diff()` to take partial derivatives. When doing this, the rewrite function is often helpful to get the partial derivative in a specified form"
   ]
  },
  {
   "cell_type": "code",
   "execution_count": 49,
   "id": "18477edf-1f35-423e-97f4-d9e16b08072d",
   "metadata": {},
   "outputs": [
    {
     "data": {
      "text/latex": [
       "$\\displaystyle \\cos{\\left(x \\right)} \\cot^{2}{\\left(2 y \\right)}$"
      ],
      "text/plain": [
       "cos(x)*cot(2*y)**2"
      ]
     },
     "execution_count": 49,
     "metadata": {},
     "output_type": "execute_result"
    }
   ],
   "source": [
    "# Defining a multivariable function\n",
    "two_variables = sp.cos(x) * sp.cot(2 * y ) ** 2\n",
    "two_variables"
   ]
  },
  {
   "cell_type": "code",
   "execution_count": 50,
   "id": "2269657c-006c-4f91-8993-90e40d2bbea3",
   "metadata": {},
   "outputs": [
    {
     "data": {
      "text/latex": [
       "$\\displaystyle \\left(- 4 \\cot^{2}{\\left(2 y \\right)} - 4\\right) \\cos{\\left(x \\right)} \\cot{\\left(2 y \\right)}$"
      ],
      "text/plain": [
       "(-4*cot(2*y)**2 - 4)*cos(x)*cot(2*y)"
      ]
     },
     "execution_count": 50,
     "metadata": {},
     "output_type": "execute_result"
    }
   ],
   "source": [
    "# Differentiating the function with respect to y\n",
    "partial_y = two_variables.diff(y)\n",
    "partial_y"
   ]
  },
  {
   "cell_type": "code",
   "execution_count": 52,
   "id": "748acf0f-db19-4a4a-b7fc-609ced539482",
   "metadata": {},
   "outputs": [
    {
     "data": {
      "text/latex": [
       "$\\displaystyle \\frac{\\left(-4 - \\frac{\\sin^{2}{\\left(4 y \\right)}}{\\sin^{4}{\\left(2 y \\right)}}\\right) \\sin{\\left(4 y \\right)} \\sin{\\left(x + \\frac{\\pi}{2} \\right)}}{2 \\sin^{2}{\\left(2 y \\right)}}$"
      ],
      "text/plain": [
       "(-4 - sin(4*y)**2/sin(2*y)**4)*sin(4*y)*sin(x + pi/2)/(2*sin(2*y)**2)"
      ]
     },
     "execution_count": 52,
     "metadata": {},
     "output_type": "execute_result"
    }
   ],
   "source": [
    "# Trying to get it on a simpler form\n",
    "partial_y.rewrite(sp.sin)"
   ]
  },
  {
   "cell_type": "code",
   "execution_count": 54,
   "id": "5f1814e0-da3a-4661-b2e4-20ac38030b1d",
   "metadata": {},
   "outputs": [
    {
     "data": {
      "text/latex": [
       "$\\displaystyle - \\frac{4 \\cos{\\left(x \\right)} \\cot{\\left(2 y \\right)}}{\\sin^{2}{\\left(2 y \\right)}}$"
      ],
      "text/plain": [
       "-4*cos(x)*cot(2*y)/sin(2*y)**2"
      ]
     },
     "execution_count": 54,
     "metadata": {},
     "output_type": "execute_result"
    }
   ],
   "source": [
    "# Let us first simplify it usually\n",
    "simplified_y = partial_y.simplify()\n",
    "simplified_y"
   ]
  },
  {
   "cell_type": "code",
   "execution_count": 55,
   "id": "68415f12-00ee-41ec-841a-58c522faabad",
   "metadata": {},
   "outputs": [
    {
     "data": {
      "text/latex": [
       "$\\displaystyle - \\frac{2 \\sin{\\left(4 y \\right)} \\sin{\\left(x + \\frac{\\pi}{2} \\right)}}{\\sin^{4}{\\left(2 y \\right)}}$"
      ],
      "text/plain": [
       "-2*sin(4*y)*sin(x + pi/2)/sin(2*y)**4"
      ]
     },
     "execution_count": 55,
     "metadata": {},
     "output_type": "execute_result"
    }
   ],
   "source": [
    "# Then let us finally use the rewrite function\n",
    "simplified_y.rewrite(sp.sin)"
   ]
  },
  {
   "cell_type": "code",
   "execution_count": 56,
   "id": "df1045b0-a917-4808-aefb-8309d6d35acc",
   "metadata": {},
   "outputs": [
    {
     "data": {
      "text/latex": [
       "$\\displaystyle 8 \\left(\\cot^{2}{\\left(2 y \\right)} + 1\\right) \\left(3 \\cot^{2}{\\left(2 y \\right)} + 1\\right) \\sin{\\left(x \\right)}$"
      ],
      "text/plain": [
       "8*(cot(2*y)**2 + 1)*(3*cot(2*y)**2 + 1)*sin(x)"
      ]
     },
     "execution_count": 56,
     "metadata": {},
     "output_type": "execute_result"
    }
   ],
   "source": [
    "# Taking the third derivative with respect to x and second with respect to y\n",
    "two_variables.diff(x, x, x, y, y)"
   ]
  },
  {
   "cell_type": "markdown",
   "id": "234657e1-6856-4c0b-92c6-e89b2a0c9d67",
   "metadata": {},
   "source": [
    "# Integrals\n",
    "\n",
    "In [this](https://www.youtube.com/watch?v=Rb5rjrUTdxg&list=PLSE7WKf_qqo1T5VV1nqXTj2iNiSpFk72T&index=8) lecture we are going to learn how to solve integrals using SymPy. Both definite and indefinite integrals will be covered. We will also learn how to do multivariable integrals.\n",
    "\n",
    "**Functions and attributes in this lecture:**\n",
    "- `sp.integrate()` - Integrates a function"
   ]
  },
  {
   "cell_type": "code",
   "execution_count": 68,
   "id": "1f6a622d-11a9-49f3-8835-cb756c102b3d",
   "metadata": {},
   "outputs": [],
   "source": [
    "# Imports\n",
    "import sympy as sp\n",
    "\n",
    "# Variables\n",
    "x, y, z = sp.symbols (\"x, y, z\", real=True)\n",
    "C = sp.Symbol(\"C\")"
   ]
  },
  {
   "cell_type": "markdown",
   "id": "5482dd55-0edc-4495-8c49-4dbfc84e2948",
   "metadata": {},
   "source": [
    "## Indefinite Integrals"
   ]
  },
  {
   "cell_type": "code",
   "execution_count": 69,
   "id": "f10b1a49-bfa6-4c39-8620-46389181f84a",
   "metadata": {},
   "outputs": [
    {
     "data": {
      "text/latex": [
       "$\\displaystyle \\sin{\\left(3 x \\right)} \\cos{\\left(2 x \\right)}$"
      ],
      "text/plain": [
       "sin(3*x)*cos(2*x)"
      ]
     },
     "execution_count": 69,
     "metadata": {},
     "output_type": "execute_result"
    }
   ],
   "source": [
    "# Define a function\n",
    "f = sp.cos(2*x)* sp.sin(3*x)\n",
    "f"
   ]
  },
  {
   "cell_type": "code",
   "execution_count": 70,
   "id": "802f7692-49b3-4354-8305-df24a63a93a0",
   "metadata": {},
   "outputs": [
    {
     "data": {
      "text/latex": [
       "$\\displaystyle \\sin{\\left(3 x \\right)} \\cos{\\left(2 x \\right)}$"
      ],
      "text/plain": [
       "sin(3*x)*cos(2*x)"
      ]
     },
     "execution_count": 70,
     "metadata": {},
     "output_type": "execute_result"
    }
   ],
   "source": [
    "# Integrate the function\n",
    "sp.integrate(f).diff()"
   ]
  },
  {
   "cell_type": "markdown",
   "id": "1991f7d2-ff03-4e89-abd7-9e456dbf92c6",
   "metadata": {},
   "source": [
    "You can see in the integral above that we have no $+C$ as one usually writes in calculus"
   ]
  },
  {
   "cell_type": "code",
   "execution_count": 71,
   "id": "bfbfe735-0a55-4e3b-a863-af358196e096",
   "metadata": {},
   "outputs": [
    {
     "data": {
      "text/latex": [
       "$\\displaystyle - \\frac{2 \\sin{\\left(2 x \\right)} \\sin{\\left(3 x \\right)}}{5} - \\frac{3 \\cos{\\left(2 x \\right)} \\cos{\\left(3 x \\right)}}{5}$"
      ],
      "text/plain": [
       "-2*sin(2*x)*sin(3*x)/5 - 3*cos(2*x)*cos(3*x)/5"
      ]
     },
     "execution_count": 71,
     "metadata": {},
     "output_type": "execute_result"
    }
   ],
   "source": [
    "# Can emphasize the variable x\n",
    "sp.integrate(f)"
   ]
  },
  {
   "cell_type": "code",
   "execution_count": 72,
   "id": "ca9d17a3-99a1-4ea2-ae1e-2506816bdfbd",
   "metadata": {},
   "outputs": [
    {
     "data": {
      "text/latex": [
       "$\\displaystyle x^{y}$"
      ],
      "text/plain": [
       "x**y"
      ]
     },
     "execution_count": 72,
     "metadata": {},
     "output_type": "execute_result"
    }
   ],
   "source": [
    "# Two dimensional function\n",
    "g = x ** y\n",
    "g"
   ]
  },
  {
   "cell_type": "code",
   "execution_count": 73,
   "id": "90d95ff3-c6c6-4743-8499-ac249cd369de",
   "metadata": {},
   "outputs": [
    {
     "data": {
      "text/latex": [
       "$\\displaystyle \\begin{cases} \\frac{x^{y + 1}}{y + 1} & \\text{for}\\: y \\neq -1 \\\\\\log{\\left(x \\right)} & \\text{otherwise} \\end{cases}$"
      ],
      "text/plain": [
       "Piecewise((x**(y + 1)/(y + 1), Ne(y, -1)), (log(x), True))"
      ]
     },
     "execution_count": 73,
     "metadata": {},
     "output_type": "execute_result"
    }
   ],
   "source": [
    "# Integrate the function with respect to x\n",
    "h = sp.integrate(g, x)\n",
    "h"
   ]
  },
  {
   "cell_type": "code",
   "execution_count": 74,
   "id": "7e8f66e0-3d0c-4fe9-8194-6146326bd143",
   "metadata": {},
   "outputs": [
    {
     "data": {
      "text/plain": [
       "Piecewise"
      ]
     },
     "execution_count": 74,
     "metadata": {},
     "output_type": "execute_result"
    }
   ],
   "source": [
    "# The type of the result\n",
    "type(h)"
   ]
  },
  {
   "cell_type": "code",
   "execution_count": 76,
   "id": "6365cdb9-9510-4add-9d2a-eb35478ed088",
   "metadata": {},
   "outputs": [
    {
     "data": {
      "text/latex": [
       "$\\displaystyle \\begin{cases} \\frac{x^{y + 1} \\sin{\\left(3 x \\right)} \\cos{\\left(2 x \\right)}}{y + 1} & \\text{for}\\: y > -1 \\vee y < -1 \\\\\\log{\\left(x \\right)} \\sin{\\left(3 x \\right)} \\cos{\\left(2 x \\right)} & \\text{otherwise} \\end{cases}$"
      ],
      "text/plain": [
       "Piecewise((x**(y + 1)*sin(3*x)*cos(2*x)/(y + 1), (y > -1) | (y < -1)), (log(x)*sin(3*x)*cos(2*x), True))"
      ]
     },
     "execution_count": 76,
     "metadata": {},
     "output_type": "execute_result"
    }
   ],
   "source": [
    "# The result works like you would think\n",
    "# h * f\n",
    "(h*f).simplify()"
   ]
  },
  {
   "cell_type": "markdown",
   "id": "948e4e6a-c119-484e-bd36-1cc8c12999e6",
   "metadata": {},
   "source": [
    "## Definite Integrals"
   ]
  },
  {
   "cell_type": "code",
   "execution_count": 77,
   "id": "9a261987-ba11-4bed-9bc1-1e3e6f90faa8",
   "metadata": {},
   "outputs": [
    {
     "data": {
      "text/latex": [
       "$\\displaystyle \\sin{\\left(3 x \\right)} \\cos{\\left(2 x \\right)}$"
      ],
      "text/plain": [
       "sin(3*x)*cos(2*x)"
      ]
     },
     "execution_count": 77,
     "metadata": {},
     "output_type": "execute_result"
    }
   ],
   "source": [
    "f"
   ]
  },
  {
   "cell_type": "code",
   "execution_count": 78,
   "id": "32991245-5d95-4897-b908-f808214ec3f3",
   "metadata": {},
   "outputs": [
    {
     "data": {
      "text/latex": [
       "$\\displaystyle \\frac{6}{5}$"
      ],
      "text/plain": [
       "6/5"
      ]
     },
     "execution_count": 78,
     "metadata": {},
     "output_type": "execute_result"
    }
   ],
   "source": [
    "# Specifying upper and lower limits of the integral\n",
    "sp.integrate(f, (x, 0, sp.pi))"
   ]
  },
  {
   "cell_type": "code",
   "execution_count": 79,
   "id": "e8160d7f-b255-43c9-8cbf-e30d134edd06",
   "metadata": {},
   "outputs": [
    {
     "data": {
      "text/latex": [
       "$\\displaystyle e^{- x}$"
      ],
      "text/plain": [
       "exp(-x)"
      ]
     },
     "execution_count": 79,
     "metadata": {},
     "output_type": "execute_result"
    }
   ],
   "source": [
    "# Define a function\n",
    "u = sp.exp(-x)\n",
    "u"
   ]
  },
  {
   "cell_type": "code",
   "execution_count": 80,
   "id": "e2be2e2c-adb2-4c0e-b229-cdc051d01e8a",
   "metadata": {},
   "outputs": [
    {
     "data": {
      "text/latex": [
       "$\\displaystyle 1$"
      ],
      "text/plain": [
       "1"
      ]
     },
     "execution_count": 80,
     "metadata": {},
     "output_type": "execute_result"
    }
   ],
   "source": [
    "# Integrate the function\n",
    "sp.integrate(u, (x, 0, sp.oo))"
   ]
  },
  {
   "cell_type": "code",
   "execution_count": 81,
   "id": "09f322bc-86b0-4625-8d9f-f4048264c5c9",
   "metadata": {},
   "outputs": [
    {
     "data": {
      "text/latex": [
       "$\\displaystyle x y z^{2}$"
      ],
      "text/plain": [
       "x*y*z**2"
      ]
     },
     "execution_count": 81,
     "metadata": {},
     "output_type": "execute_result"
    }
   ],
   "source": [
    "# Defining a function\n",
    "w = x * y * z ** 2\n",
    "w"
   ]
  },
  {
   "cell_type": "code",
   "execution_count": 82,
   "id": "86ea7e2d-9a64-4c89-a150-7fa8f739dec4",
   "metadata": {},
   "outputs": [
    {
     "data": {
      "text/latex": [
       "$\\displaystyle \\frac{x^{2} y^{2} z^{2}}{4}$"
      ],
      "text/plain": [
       "x**2*y**2*z**2/4"
      ]
     },
     "execution_count": 82,
     "metadata": {},
     "output_type": "execute_result"
    }
   ],
   "source": [
    "# Indefinite integral\n",
    "sp.integrate(w, x, y)"
   ]
  },
  {
   "cell_type": "code",
   "execution_count": 83,
   "id": "522c762d-c287-437d-a5c8-5dee7ee1c4ef",
   "metadata": {},
   "outputs": [
    {
     "data": {
      "text/latex": [
       "$\\displaystyle 54$"
      ],
      "text/plain": [
       "54"
      ]
     },
     "execution_count": 83,
     "metadata": {},
     "output_type": "execute_result"
    }
   ],
   "source": [
    "# Definite integral\n",
    "sp.integrate(w, (x, 0, 1), (y, 1, 5), (z, 0, 3))"
   ]
  },
  {
   "cell_type": "markdown",
   "id": "4d14a1fd-22b1-477f-a6f3-3eb2fe0a7de8",
   "metadata": {},
   "source": [
    "# Limits and Series\n",
    "\n",
    "In calculus, we are introduced to limits of a function $f(x)$ towards a point $p$. When a function is continuous we know that the limit corresponds to $f(p). However, sometimes the limit exists even though the function value does not. We denote the limit by \n",
    "\n",
    "$\\lim_{x \\rightarrow p}f(x)$"
   ]
  },
  {
   "cell_type": "code",
   "execution_count": 84,
   "id": "23ee8778-b88d-4d94-ae7a-becc1ca6fb0b",
   "metadata": {},
   "outputs": [],
   "source": [
    "# Create a symbol\n",
    "x = sp.Symbol (\"x\")"
   ]
  },
  {
   "cell_type": "code",
   "execution_count": 85,
   "id": "6876fbb9-4983-44f0-8fcc-91ed3235b77d",
   "metadata": {},
   "outputs": [
    {
     "data": {
      "text/latex": [
       "$\\displaystyle x^{2}$"
      ],
      "text/plain": [
       "x**2"
      ]
     },
     "execution_count": 85,
     "metadata": {},
     "output_type": "execute_result"
    }
   ],
   "source": [
    "# Create a function\n",
    "expr = x ** 2\n",
    "expr"
   ]
  },
  {
   "cell_type": "code",
   "execution_count": 86,
   "id": "0fa0f180-7ccc-4f3b-b0b3-56fd78bf03bf",
   "metadata": {},
   "outputs": [
    {
     "data": {
      "text/latex": [
       "$\\displaystyle 1$"
      ],
      "text/plain": [
       "1"
      ]
     },
     "execution_count": 86,
     "metadata": {},
     "output_type": "execute_result"
    }
   ],
   "source": [
    "# Take the limit\n",
    "sp.limit(expr, x, 1)"
   ]
  },
  {
   "cell_type": "code",
   "execution_count": 87,
   "id": "ecd0b457-6e84-4add-9117-e2ceb2ca3ab9",
   "metadata": {},
   "outputs": [
    {
     "data": {
      "text/latex": [
       "$\\displaystyle 1$"
      ],
      "text/plain": [
       "1"
      ]
     },
     "execution_count": 87,
     "metadata": {},
     "output_type": "execute_result"
    }
   ],
   "source": [
    "# Could have just substituted\n",
    "expr.subs(x, 1)"
   ]
  },
  {
   "cell_type": "markdown",
   "id": "8f0306a7-6efc-45ba-a063-97d6e15967b8",
   "metadata": {},
   "source": [
    "## A Limit at Infinity    "
   ]
  },
  {
   "cell_type": "code",
   "execution_count": 88,
   "id": "8210ae40-fd3b-41ed-b021-20cdb8cdf81a",
   "metadata": {},
   "outputs": [
    {
     "data": {
      "text/latex": [
       "$\\displaystyle x e^{- x}$"
      ],
      "text/plain": [
       "x*exp(-x)"
      ]
     },
     "execution_count": 88,
     "metadata": {},
     "output_type": "execute_result"
    }
   ],
   "source": [
    "# A rapidly decaying function\n",
    "exponential = x / sp.exp(x)\n",
    "exponential"
   ]
  },
  {
   "cell_type": "code",
   "execution_count": 89,
   "id": "2af5f87f-ab53-42a3-9398-7bbe2835d85c",
   "metadata": {},
   "outputs": [
    {
     "data": {
      "text/latex": [
       "$\\displaystyle 0$"
      ],
      "text/plain": [
       "0"
      ]
     },
     "execution_count": 89,
     "metadata": {},
     "output_type": "execute_result"
    }
   ],
   "source": [
    "# Taking the limit\n",
    "sp.limit(exponential, x, sp.oo)"
   ]
  },
  {
   "cell_type": "code",
   "execution_count": 90,
   "id": "23cc036c-86f0-431f-b879-d6a54b2792a2",
   "metadata": {},
   "outputs": [
    {
     "data": {
      "text/latex": [
       "$\\displaystyle \\text{NaN}$"
      ],
      "text/plain": [
       "nan"
      ]
     },
     "execution_count": 90,
     "metadata": {},
     "output_type": "execute_result"
    }
   ],
   "source": [
    "# Substitutioin does not work here!\n",
    "exponential.subs(x, sp.oo)"
   ]
  },
  {
   "cell_type": "markdown",
   "id": "7d52f3e6-ef38-4981-a245-c40236f0d1fc",
   "metadata": {},
   "source": [
    "### Watch Out! Limits are Taken From the Right    "
   ]
  },
  {
   "cell_type": "code",
   "execution_count": 91,
   "id": "f4031c01-b24f-4486-971f-ff25d3b433af",
   "metadata": {},
   "outputs": [
    {
     "data": {
      "text/latex": [
       "$\\displaystyle \\frac{1}{x}$"
      ],
      "text/plain": [
       "1/x"
      ]
     },
     "execution_count": 91,
     "metadata": {},
     "output_type": "execute_result"
    }
   ],
   "source": [
    "# A simple expression\n",
    "expr = 1 / x\n",
    "expr"
   ]
  },
  {
   "cell_type": "code",
   "execution_count": 92,
   "id": "a3c91a98-fb7d-4b5c-8086-aebea0b0ccd3",
   "metadata": {},
   "outputs": [
    {
     "data": {
      "text/latex": [
       "$\\displaystyle \\infty$"
      ],
      "text/plain": [
       "oo"
      ]
     },
     "execution_count": 92,
     "metadata": {},
     "output_type": "execute_result"
    }
   ],
   "source": [
    "# Limit is by default the right limits in SymPy\n",
    "sp.limit(expr, x, 0)"
   ]
  },
  {
   "cell_type": "code",
   "execution_count": 93,
   "id": "c8b46d37-4236-4941-8ab4-ffb019753b70",
   "metadata": {},
   "outputs": [
    {
     "data": {
      "text/latex": [
       "$\\displaystyle -\\infty$"
      ],
      "text/plain": [
       "-oo"
      ]
     },
     "execution_count": 93,
     "metadata": {},
     "output_type": "execute_result"
    }
   ],
   "source": [
    "# Getting the left limit\n",
    "sp.limit(expr, x, 0, '-')"
   ]
  },
  {
   "cell_type": "code",
   "execution_count": 94,
   "id": "2389ac4b-de68-4f04-bb07-0bfb2c8a9bfd",
   "metadata": {},
   "outputs": [
    {
     "data": {
      "text/latex": [
       "$\\displaystyle \\tilde{\\infty}$"
      ],
      "text/plain": [
       "zoo"
      ]
     },
     "execution_count": 94,
     "metadata": {},
     "output_type": "execute_result"
    }
   ],
   "source": [
    "# Getting both right and left limit\n",
    "sp.limit(expr, x, 0, '+-')"
   ]
  },
  {
   "cell_type": "markdown",
   "id": "430ea911-8a63-4092-bed6-94ec4a8192aa",
   "metadata": {},
   "source": [
    "## Series\n",
    "\n",
    "Polynomials are usually a lot easier to deal with than arbitrary functions. Luckily, we can expand any (nice) function locally into an infinite sum of polynomials. This is called Taylor Series"
   ]
  },
  {
   "cell_type": "code",
   "execution_count": 96,
   "id": "67c64db9-0640-458c-9abb-ff8e6dabf3ef",
   "metadata": {},
   "outputs": [
    {
     "data": {
      "text/latex": [
       "$\\displaystyle 1 - \\frac{\\left(x - \\frac{\\pi}{2}\\right)^{2}}{2} + \\frac{\\left(x - \\frac{\\pi}{2}\\right)^{4}}{24} + O\\left(\\left(x - \\frac{\\pi}{2}\\right)^{6}; x\\rightarrow \\frac{\\pi}{2}\\right)$"
      ],
      "text/plain": [
       "1 - (x - pi/2)**2/2 + (x - pi/2)**4/24 + O((x - pi/2)**6, (x, pi/2))"
      ]
     },
     "execution_count": 96,
     "metadata": {},
     "output_type": "execute_result"
    }
   ],
   "source": [
    "# Finding the Taylor series of sin(x) at x = pi/2\n",
    "sp.series(sp.sin(x), x, sp.pi/2)"
   ]
  },
  {
   "cell_type": "markdown",
   "id": "81888067-bf0c-4135-933c-3a35694c2ce8",
   "metadata": {},
   "source": [
    "### What we can do With Taylor Series"
   ]
  },
  {
   "cell_type": "code",
   "execution_count": 97,
   "id": "8aa1e2cb-b237-4250-a19a-0fd65acbe19f",
   "metadata": {},
   "outputs": [
    {
     "data": {
      "text/latex": [
       "$\\displaystyle e^{\\sin{\\left(x \\right)}}$"
      ],
      "text/plain": [
       "exp(sin(x))"
      ]
     },
     "execution_count": 97,
     "metadata": {},
     "output_type": "execute_result"
    }
   ],
   "source": [
    "# A simple expression\n",
    "expr = sp.exp(sp.sin(x))\n",
    "expr"
   ]
  },
  {
   "cell_type": "code",
   "execution_count": 99,
   "id": "2350f44a-dbfc-4d12-ae15-6b03ef2f40b3",
   "metadata": {},
   "outputs": [
    {
     "data": {
      "text/latex": [
       "$\\displaystyle 1 + x + \\frac{x^{2}}{2} - \\frac{x^{4}}{8} - \\frac{x^{5}}{15} - \\frac{x^{6}}{240} + \\frac{x^{7}}{90} + O\\left(x^{8}\\right)$"
      ],
      "text/plain": [
       "1 + x + x**2/2 - x**4/8 - x**5/15 - x**6/240 + x**7/90 + O(x**8)"
      ]
     },
     "execution_count": 99,
     "metadata": {},
     "output_type": "execute_result"
    }
   ],
   "source": [
    "# Get more terms\n",
    "sp.series(expr, x, 0, n=8)"
   ]
  },
  {
   "cell_type": "code",
   "execution_count": 100,
   "id": "e2d85725-5bcb-4ef5-94c3-16eccd1e9dc8",
   "metadata": {},
   "outputs": [
    {
     "data": {
      "text/latex": [
       "$\\displaystyle x + x^{2} + \\frac{x^{3}}{3} - \\frac{x^{4}}{6} - \\frac{x^{5}}{5} + O\\left(x^{6}\\right)$"
      ],
      "text/plain": [
       "x + x**2 + x**3/3 - x**4/6 - x**5/5 + O(x**6)"
      ]
     },
     "execution_count": 100,
     "metadata": {},
     "output_type": "execute_result"
    }
   ],
   "source": [
    "# We xan do arithmeti with Taylor expressions\n",
    "(sp.series(expr, x, 0, n=8) * sp.series(sp.sin(x), x, 0, n=6)).expand()"
   ]
  },
  {
   "cell_type": "code",
   "execution_count": 101,
   "id": "7a62e16a-d589-4d09-82ff-ab57a6392337",
   "metadata": {},
   "outputs": [
    {
     "data": {
      "text/latex": [
       "$\\displaystyle 1 + x - \\frac{x^{3}}{2} - \\frac{x^{4}}{3} - \\frac{x^{5}}{40} + \\frac{7 x^{6}}{90} + O\\left(x^{7}\\right)$"
      ],
      "text/plain": [
       "1 + x - x**3/2 - x**4/3 - x**5/40 + 7*x**6/90 + O(x**7)"
      ]
     },
     "execution_count": 101,
     "metadata": {},
     "output_type": "execute_result"
    }
   ],
   "source": [
    "# We can differentiate or integrate Taylor series\n",
    "sp.diff(sp.series(expr, x, 0, n=8))"
   ]
  },
  {
   "cell_type": "code",
   "execution_count": 103,
   "id": "5ca7928c-9e7f-4df0-9e81-9751dfdda8da",
   "metadata": {},
   "outputs": [
    {
     "data": {
      "text/latex": [
       "$\\displaystyle \\frac{x^{7}}{90} - \\frac{x^{6}}{240} - \\frac{x^{5}}{15} - \\frac{x^{4}}{8} + \\frac{x^{2}}{2} + x + 1$"
      ],
      "text/plain": [
       "x**7/90 - x**6/240 - x**5/15 - x**4/8 + x**2/2 + x + 1"
      ]
     },
     "execution_count": 103,
     "metadata": {},
     "output_type": "execute_result"
    }
   ],
   "source": [
    "# We can remove the \"Big O\" from the expression\n",
    "sp.series(expr, x, 0, n=8).removeO()"
   ]
  },
  {
   "cell_type": "markdown",
   "id": "c537b7bc-4ab0-4d0e-84a9-81f692cb8161",
   "metadata": {},
   "source": [
    "# Ordinary Differential Equations\n",
    "In [this](https://www.youtube.com/watch?v=Z2havWsxa-E&list=PLSE7WKf_qqo1T5VV1nqXTj2iNiSpFk72T&index=10) lecture we are going to learn how to solve ODE's in SymPy. We will also learn how to specify initial conditions when solving ODE's.\n",
    "\n",
    "**Functions and attributes in this lecture:\n",
    "- `.rhs` - Getting the right-hand side of an equation\n",
    "- `.lhs` - Getting the left-hand side of an equation\n",
    "- `sp.dsolve()` - Solving a differential equation\n",
    "- `sp.Function()` - Creating an unspecified function"
   ]
  },
  {
   "cell_type": "code",
   "execution_count": 104,
   "id": "218c6d57-6a8f-452b-bd71-184bb1ea2da3",
   "metadata": {},
   "outputs": [],
   "source": [
    "# Imports\n",
    "import sympy as sp\n",
    "\n",
    "# Creating the variable x\n",
    "x = sp.Symbol(\"x\")"
   ]
  },
  {
   "cell_type": "markdown",
   "id": "9737b2fe-01af-456b-837c-f024bce83768",
   "metadata": {},
   "source": [
    "## Goal of the Lecture\n",
    "The goal of the lecture is to solve the ODE\n",
    "$xf^{\\prime\\prime}(x) + f^\\prime(x) = x^3$\n",
    "with the initial conditions $f(1) = 0$ and $f^\\prime(2) = 1$"
   ]
  },
  {
   "cell_type": "markdown",
   "id": "89fcdea1-1e29-441f-b478-645b5335f190",
   "metadata": {},
   "source": [
    "## Creating an ODE\n",
    "\n",
    "Before solving ODE's, we first need to learn how to write ODE's in SymPy"
   ]
  },
  {
   "cell_type": "code",
   "execution_count": 105,
   "id": "170ee9ea-380b-42cb-a777-f44cfb8053d1",
   "metadata": {},
   "outputs": [
    {
     "data": {
      "text/latex": [
       "$\\displaystyle f{\\left(x \\right)}$"
      ],
      "text/plain": [
       "f(x)"
      ]
     },
     "execution_count": 105,
     "metadata": {},
     "output_type": "execute_result"
    }
   ],
   "source": [
    "# Creating a function object\n",
    "f = sp.Function(\"f\")(x)\n",
    "f"
   ]
  },
  {
   "cell_type": "code",
   "execution_count": 106,
   "id": "43547076-e7ac-4778-8bc8-b348f822be8a",
   "metadata": {},
   "outputs": [
    {
     "data": {
      "text/latex": [
       "$\\displaystyle \\frac{d}{d x} f{\\left(x \\right)}$"
      ],
      "text/plain": [
       "Derivative(f(x), x)"
      ]
     },
     "execution_count": 106,
     "metadata": {},
     "output_type": "execute_result"
    }
   ],
   "source": [
    "# Taking the derivative of the function\n",
    "f.diff()"
   ]
  },
  {
   "cell_type": "code",
   "execution_count": 107,
   "id": "96fe0161-dda5-45b6-8de4-813385a05828",
   "metadata": {},
   "outputs": [
    {
     "data": {
      "text/latex": [
       "$\\displaystyle x \\frac{d^{2}}{d x^{2}} f{\\left(x \\right)} + \\frac{d}{d x} f{\\left(x \\right)} = x^{3}$"
      ],
      "text/plain": [
       "Eq(x*Derivative(f(x), (x, 2)) + Derivative(f(x), x), x**3)"
      ]
     },
     "execution_count": 107,
     "metadata": {},
     "output_type": "execute_result"
    }
   ],
   "source": [
    "# Creating a differential equation\n",
    "diff_eq = sp.Eq(x*f.diff(x,x) + f.diff(x), x**3)\n",
    "diff_eq"
   ]
  },
  {
   "cell_type": "code",
   "execution_count": 108,
   "id": "2356ebe0-b96a-43ff-9e34-80443bca4868",
   "metadata": {},
   "outputs": [
    {
     "data": {
      "text/latex": [
       "$\\displaystyle x^{3}$"
      ],
      "text/plain": [
       "x**3"
      ]
     },
     "execution_count": 108,
     "metadata": {},
     "output_type": "execute_result"
    }
   ],
   "source": [
    "# getting the RHS\n",
    "diff_eq.rhs"
   ]
  },
  {
   "cell_type": "code",
   "execution_count": 109,
   "id": "30bef25c-bd2b-4fe9-963b-14b00c26e3c4",
   "metadata": {},
   "outputs": [
    {
     "data": {
      "text/latex": [
       "$\\displaystyle x \\frac{d^{2}}{d x^{2}} f{\\left(x \\right)} + \\frac{d}{d x} f{\\left(x \\right)}$"
      ],
      "text/plain": [
       "x*Derivative(f(x), (x, 2)) + Derivative(f(x), x)"
      ]
     },
     "execution_count": 109,
     "metadata": {},
     "output_type": "execute_result"
    }
   ],
   "source": [
    "# Getting the LHS\n",
    "diff_eq.lhs"
   ]
  },
  {
   "cell_type": "markdown",
   "id": "dd1bd34e-4e66-470d-b343-8c9b108c229e",
   "metadata": {},
   "source": [
    "## Solving the ODE\n",
    "\n",
    "We can now use SymPy to solve the ODE's. We do this with the `dsolve()` function"
   ]
  },
  {
   "cell_type": "code",
   "execution_count": 110,
   "id": "fabfdd22-13b9-4b8f-8e2d-90da38b88b30",
   "metadata": {},
   "outputs": [
    {
     "data": {
      "text/latex": [
       "$\\displaystyle f{\\left(x \\right)} = C_{1} + C_{2} \\log{\\left(x \\right)} + \\frac{x^{4}}{16}$"
      ],
      "text/plain": [
       "Eq(f(x), C1 + C2*log(x) + x**4/16)"
      ]
     },
     "execution_count": 110,
     "metadata": {},
     "output_type": "execute_result"
    }
   ],
   "source": [
    "# Solving the ODE\n",
    "sol = sp.dsolve(diff_eq, f)\n",
    "sol"
   ]
  },
  {
   "cell_type": "code",
   "execution_count": 111,
   "id": "8b9957f6-5256-4a42-93de-6c2b2b599138",
   "metadata": {},
   "outputs": [
    {
     "data": {
      "text/plain": [
       "sympy.core.relational.Equality"
      ]
     },
     "execution_count": 111,
     "metadata": {},
     "output_type": "execute_result"
    }
   ],
   "source": [
    "# The type of the solution\n",
    "type(sol)"
   ]
  },
  {
   "cell_type": "code",
   "execution_count": 112,
   "id": "c5dfdd8c-170a-4950-a20f-267ef2604241",
   "metadata": {},
   "outputs": [
    {
     "data": {
      "text/latex": [
       "$\\displaystyle C_{1} + C_{2} \\log{\\left(x \\right)} + \\frac{x^{4}}{16}$"
      ],
      "text/plain": [
       "C1 + C2*log(x) + x**4/16"
      ]
     },
     "execution_count": 112,
     "metadata": {},
     "output_type": "execute_result"
    }
   ],
   "source": [
    "# Getting the solution\n",
    "exp = sol.rhs\n",
    "exp"
   ]
  },
  {
   "cell_type": "code",
   "execution_count": 114,
   "id": "59fbd6a1-615b-41b3-8769-07b8fdaf9454",
   "metadata": {},
   "outputs": [
    {
     "data": {
      "text/latex": [
       "$\\displaystyle C_{2}$"
      ],
      "text/plain": [
       "C2"
      ]
     },
     "execution_count": 114,
     "metadata": {},
     "output_type": "execute_result"
    }
   ],
   "source": [
    "# Naming the constants C1 and C2\n",
    "C2, _, C1 = tuple(exp.free_symbols)\n",
    "C1"
   ]
  },
  {
   "cell_type": "code",
   "execution_count": 117,
   "id": "0cdb665c-965a-49e6-8e57-3ad09105abe9",
   "metadata": {},
   "outputs": [
    {
     "data": {
      "text/latex": [
       "$\\displaystyle \\frac{x^{4}}{16} + 1$"
      ],
      "text/plain": [
       "x**4/16 + 1"
      ]
     },
     "execution_count": 117,
     "metadata": {},
     "output_type": "execute_result"
    }
   ],
   "source": [
    "# Setting the values C1 = 0 and C2 = 1\n",
    "# exp.subs(C1, 0).subs(C2, 1)\n",
    "exp.subs({C1: 0, C2: 1})"
   ]
  },
  {
   "cell_type": "markdown",
   "id": "bee1465f-75c5-4fce-a630-f13ffb627de7",
   "metadata": {},
   "source": [
    "## Giving Initial Conditions\n",
    "\n",
    "We now solve the initial value problem\\\n",
    "$xf^{\\prime\\prime}(x) + f^\\prime(x) = x^3$\\\n",
    "with the initial conditions $f(1) = 0$ and $f^\\prime(2) =1$"
   ]
  },
  {
   "cell_type": "code",
   "execution_count": 118,
   "id": "54e572fb-454a-4beb-92f6-39022e06a6ba",
   "metadata": {},
   "outputs": [
    {
     "data": {
      "text/plain": [
       "{f(1): 0, Subs(Derivative(f(x), x), x, 2): 1}"
      ]
     },
     "execution_count": 118,
     "metadata": {},
     "output_type": "execute_result"
    }
   ],
   "source": [
    "# Writing a dictionary with the initial conditions\n",
    "ics = {f.subs(x, 1): 0, f.diff().subs(x, 2): 1}\n",
    "ics"
   ]
  },
  {
   "cell_type": "code",
   "execution_count": 123,
   "id": "d036a3c9-f6db-4125-a931-b7e13d42af20",
   "metadata": {},
   "outputs": [
    {
     "data": {
      "text/latex": [
       "$\\displaystyle \\frac{x^{4}}{16} - 2 \\log{\\left(x \\right)} - \\frac{1}{16}$"
      ],
      "text/plain": [
       "x**4/16 - 2*log(x) - 1/16"
      ]
     },
     "execution_count": 123,
     "metadata": {},
     "output_type": "execute_result"
    }
   ],
   "source": [
    "# Solving the initial value problem\n",
    "ivp = sp.dsolve(diff_eq, ics=ics).rhs\n",
    "ivp"
   ]
  },
  {
   "cell_type": "code",
   "execution_count": 124,
   "id": "79d2d3f9-1391-4c04-9f98-7ab7e0a4ee58",
   "metadata": {},
   "outputs": [
    {
     "data": {
      "text/latex": [
       "$\\displaystyle 0$"
      ],
      "text/plain": [
       "0"
      ]
     },
     "execution_count": 124,
     "metadata": {},
     "output_type": "execute_result"
    }
   ],
   "source": [
    "# Checking the first initial conditoin\n",
    "ivp.subs(x, 1)"
   ]
  },
  {
   "cell_type": "code",
   "execution_count": 125,
   "id": "6ac1e5cf-e455-40a8-93b2-ec36c8267aca",
   "metadata": {},
   "outputs": [
    {
     "data": {
      "text/latex": [
       "$\\displaystyle 1$"
      ],
      "text/plain": [
       "1"
      ]
     },
     "execution_count": 125,
     "metadata": {},
     "output_type": "execute_result"
    }
   ],
   "source": [
    "# Checking the second initial condition\n",
    "ivp.diff().subs(x, 2)"
   ]
  },
  {
   "cell_type": "code",
   "execution_count": 127,
   "id": "5252d9f0-73fb-4d78-983e-b392c3ce4a22",
   "metadata": {},
   "outputs": [
    {
     "data": {
      "text/latex": [
       "$\\displaystyle x^{3}$"
      ],
      "text/plain": [
       "x**3"
      ]
     },
     "execution_count": 127,
     "metadata": {},
     "output_type": "execute_result"
    }
   ],
   "source": [
    "# Checking that the solution satisfies the ODE\n",
    "(x * ivp.diff(x, x) + ivp.diff()).simplify()"
   ]
  },
  {
   "cell_type": "markdown",
   "id": "4b47f7b8-6b65-4a5a-8010-1490171c87d0",
   "metadata": {},
   "source": [
    "# Going Numerical\n",
    "\n",
    "In [this](https://www.youtube.com/watch?v=gv59b1C_nsU&list=PLSE7WKf_qqo1T5VV1nqXTj2iNiSpFk72T&index=11) final lecture, we are going to look at how to get numerical answers from SymPy. This allows us to create interactions between SymPy and other useful Python packages like NumPy and Matplotlib.\n",
    "\n",
    "**Functions and attributes in this lecture:**\n",
    "- `sp.evalf()` - Evaluates a SymPy numerival expression to a floating-point number\n",
    "- `sp.lambdify()` - Creates a \"lambdified function\" out of an expression"
   ]
  },
  {
   "cell_type": "code",
   "execution_count": 129,
   "id": "d3747e03-7f55-48c4-8bfa-87ead54d153a",
   "metadata": {},
   "outputs": [],
   "source": [
    "# Imports\n",
    "import sympy as sp\n",
    "\n",
    "# Defining the symbol x\n",
    "x = sp.Symbol(\"x\")"
   ]
  },
  {
   "cell_type": "markdown",
   "id": "f4d6ab8f-6d13-4159-9d2b-31b61b4b9c9d",
   "metadata": {},
   "source": [
    "## Floating-Point Numbers with Evalf\n",
    "\n",
    "We habve previously seen the `subs()` function for substituting values into an expression. However, to be able to get floating-point numbers, we will need the function `evalf()`:"
   ]
  },
  {
   "cell_type": "code",
   "execution_count": 130,
   "id": "3c8b2b0f-c9ab-4b70-b083-79334983631f",
   "metadata": {},
   "outputs": [
    {
     "data": {
      "text/latex": [
       "$\\displaystyle \\pi x^{2} + 5 x + e$"
      ],
      "text/plain": [
       "pi*x**2 + 5*x + E"
      ]
     },
     "execution_count": 130,
     "metadata": {},
     "output_type": "execute_result"
    }
   ],
   "source": [
    "# Creating an expression\n",
    "expr = sp.pi * x**2 + 5 * x + sp.E\n",
    "expr"
   ]
  },
  {
   "cell_type": "code",
   "execution_count": 132,
   "id": "1214d302-c24a-4d39-88d8-656acb28c059",
   "metadata": {},
   "outputs": [],
   "source": [
    "# Simple substitution\n",
    "value = expr.subs(x, 1)"
   ]
  },
  {
   "cell_type": "code",
   "execution_count": 133,
   "id": "f8765c0e-583f-44f4-9f65-e0aae609bf4a",
   "metadata": {},
   "outputs": [
    {
     "data": {
      "text/latex": [
       "$\\displaystyle 10.8598744820488$"
      ],
      "text/plain": [
       "10.8598744820488"
      ]
     },
     "execution_count": 133,
     "metadata": {},
     "output_type": "execute_result"
    }
   ],
   "source": [
    "# Getting the floating-point numnber (evalf for \"evaluate function\")\n",
    "value.evalf()"
   ]
  },
  {
   "cell_type": "code",
   "execution_count": 134,
   "id": "e77ad994-4116-4e0a-8911-73d5e44d9045",
   "metadata": {},
   "outputs": [
    {
     "data": {
      "text/latex": [
       "$\\displaystyle 10.859874$"
      ],
      "text/plain": [
       "10.859874"
      ]
     },
     "execution_count": 134,
     "metadata": {},
     "output_type": "execute_result"
    }
   ],
   "source": [
    "# Can specify precision\n",
    "value.evalf(8)"
   ]
  },
  {
   "cell_type": "code",
   "execution_count": 135,
   "id": "cb3c2665-1230-4e41-9051-6710c88b3327",
   "metadata": {},
   "outputs": [
    {
     "data": {
      "text/latex": [
       "$\\displaystyle 10.859874$"
      ],
      "text/plain": [
       "10.859874"
      ]
     },
     "execution_count": 135,
     "metadata": {},
     "output_type": "execute_result"
    }
   ],
   "source": [
    "# Alternative syntax (N for numerical)\n",
    "sp.N(value, 8)"
   ]
  },
  {
   "cell_type": "markdown",
   "id": "6b24abd1-39ad-4aad-aac8-abc844f2c8d5",
   "metadata": {},
   "source": [
    "## Going Numerical with Lambdify\n",
    "\n",
    "Unfortunately, using `evalf()` is very slow. So if you have many points that you want to evaluate an expression at (which we do when we plot something), then you should use `lambdify()` instead "
   ]
  },
  {
   "cell_type": "code",
   "execution_count": 136,
   "id": "f51b8ba5-42b9-4e93-a1eb-a75f64c25eeb",
   "metadata": {},
   "outputs": [
    {
     "data": {
      "text/plain": [
       "<function _lambdifygenerated(x)>"
      ]
     },
     "execution_count": 136,
     "metadata": {},
     "output_type": "execute_result"
    }
   ],
   "source": [
    "# \"Lambdifying\" the expression\n",
    "expr = sp.pi*x**2+3*x+sp.E\n",
    "lambdified_expression = sp.lambdify(x, expr)\n",
    "lambdified_expression"
   ]
  },
  {
   "cell_type": "code",
   "execution_count": 137,
   "id": "4f96772e-cb67-4e7b-87cc-fac21bdd5936",
   "metadata": {},
   "outputs": [
    {
     "data": {
      "text/plain": [
       "21.284652442818217"
      ]
     },
     "execution_count": 137,
     "metadata": {},
     "output_type": "execute_result"
    }
   ],
   "source": [
    "# Can easily evaluate points\n",
    "lambdified_expression(2)"
   ]
  },
  {
   "cell_type": "code",
   "execution_count": 142,
   "id": "b9dd1381-6d18-458c-aa71-ca02766b06d7",
   "metadata": {},
   "outputs": [],
   "source": [
    "# Can use NumPy to create many points at once\n",
    "import numpy as np\n",
    "points = np.linspace(-20, 20, 1000)"
   ]
  },
  {
   "cell_type": "code",
   "execution_count": 146,
   "id": "746dbf9e-691b-4c36-ab8a-a27f58e6239e",
   "metadata": {},
   "outputs": [
    {
     "data": {
      "text/plain": [
       "numpy.ndarray"
      ]
     },
     "execution_count": 146,
     "metadata": {},
     "output_type": "execute_result"
    }
   ],
   "source": [
    "# Can evaluate on all the points at once\n",
    "output = lambdified_expression(points)\n",
    "type(lambdified_expression(points))"
   ]
  },
  {
   "cell_type": "code",
   "execution_count": 147,
   "id": "6680ec79-1074-4812-b29a-94ad5f3ae448",
   "metadata": {},
   "outputs": [
    {
     "data": {
      "image/png": "[encoded data removed]",
      "text/plain": [
       "<Figure size 640x480 with 1 Axes>"
      ]
     },
     "metadata": {},
     "output_type": "display_data"
    }
   ],
   "source": [
    "# Can use Matplotlib to plot the values\n",
    "import matplotlib.pyplot as plt\n",
    "plt.plot(points, output)\n",
    "plt.title(\"Parabola\")\n",
    "plt.show()"
   ]
  },
  {
   "cell_type": "code",
   "execution_count": null,
   "id": "43952fd9-bb96-4e13-9ba5-e2707d6c5313",
   "metadata": {},
   "outputs": [],
   "source": []
  }
 ],
 "metadata": {
  "canvas": {
   "colorPalette": [
    "inherit",
    "inherit",
    "inherit",
    "inherit",
    "inherit",
    "inherit",
    "inherit",
    "inherit",
    "inherit",
    "inherit"
   ],
   "parameters": [],
   "version": "1.0"
  },
  "kernelspec": {
   "display_name": "Python 3 (ipykernel)",
   "language": "python",
   "name": "python3"
  },
  "language_info": {
   "codemirror_mode": {
    "name": "ipython",
    "version": 3
   },
   "file_extension": ".py",
   "mimetype": "text/x-python",
   "name": "python",
   "nbconvert_exporter": "python",
   "pygments_lexer": "ipython3",
   "version": "3.10.6"
  }
 },
 "nbformat": 4,
 "nbformat_minor": 5
}
