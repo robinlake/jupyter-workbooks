{
 "cells": [
  {
   "cell_type": "code",
   "execution_count": 21,
   "id": "436671ce-7488-4d6a-aace-5629711872f9",
   "metadata": {},
   "outputs": [],
   "source": [
    "import sympy as sp\n",
    "import functools\n",
    "import math"
   ]
  },
  {
   "cell_type": "code",
   "execution_count": 23,
   "id": "3bc382c3-aaab-4ae3-86bc-3e52b95d6d68",
   "metadata": {},
   "outputs": [],
   "source": [
    "population = [1,2,12,21,3,44,5,8,1,2,1]\n",
    "pop_sum = sum(population)\n",
    "pop_count = len(population)"
   ]
  },
  {
   "cell_type": "markdown",
   "id": "460170e6-74bc-4d7d-a1c1-5dedb52f7ea2",
   "metadata": {},
   "source": [
    "### Mean\n",
    "\n",
    "$\\overline{X} = \\frac{1}{n} \\displaystyle\\sum_{i=1}^{n} X_i$"
   ]
  },
  {
   "cell_type": "code",
   "execution_count": 24,
   "id": "216ccbdc-244d-43a5-af78-528ef50c5bb2",
   "metadata": {},
   "outputs": [],
   "source": [
    "# Mean\n",
    "\n",
    "pop_mean = pop_sum / pop_count\n"
   ]
  },
  {
   "cell_type": "code",
   "execution_count": 25,
   "id": "14028664-d037-4ac8-9e43-f0021ce141d4",
   "metadata": {},
   "outputs": [
    {
     "data": {
      "text/plain": [
       "100"
      ]
     },
     "execution_count": 25,
     "metadata": {},
     "output_type": "execute_result"
    }
   ],
   "source": [
    "pop_sum"
   ]
  },
  {
   "cell_type": "code",
   "execution_count": 26,
   "id": "d87dac68-1d4d-41ef-b517-05bec92e2d49",
   "metadata": {},
   "outputs": [
    {
     "data": {
      "text/plain": [
       "11"
      ]
     },
     "execution_count": 26,
     "metadata": {},
     "output_type": "execute_result"
    }
   ],
   "source": [
    "pop_count"
   ]
  },
  {
   "cell_type": "code",
   "execution_count": 27,
   "id": "830b9401-0bdb-44ea-a571-3fc92e5cc281",
   "metadata": {},
   "outputs": [
    {
     "data": {
      "text/plain": [
       "9.090909090909092"
      ]
     },
     "execution_count": 27,
     "metadata": {},
     "output_type": "execute_result"
    }
   ],
   "source": [
    "pop_mean"
   ]
  },
  {
   "cell_type": "markdown",
   "id": "d2319532-e8cc-494c-9368-1b060b7473e2",
   "metadata": {},
   "source": [
    "## Population Variance & Standard Deviation\n",
    "\n",
    "### Variance\n",
    "[biased sample variance](https://en.wikipedia.org/wiki/Variance#Sample_variance): to-do\n",
    "\n",
    "unbiased sample variance: to-do"
   ]
  },
  {
   "cell_type": "code",
   "execution_count": 37,
   "id": "5a1f5e31-e5a7-47c5-a4b5-c059bd71b2d4",
   "metadata": {},
   "outputs": [],
   "source": [
    "def squared_diff(value, mean):\n",
    "    return (value - mean)**2\n",
    "\n",
    "def variance(population):\n",
    "    mean = sum(population) / len(population)\n",
    "    squared_diffs = functools.reduce(lambda a, b: a + squared_diff(b, pop_mean), population)\n",
    "    variance = squared_diffs / len(population)\n",
    "    return variance\n",
    "\n",
    "def standard_deviation(population):\n",
    "    return math.sqrt(variance(population))\n"
   ]
  },
  {
   "cell_type": "code",
   "execution_count": 39,
   "id": "5bb89f6b-e263-498f-bd37-bee0028b6aa0",
   "metadata": {},
   "outputs": [
    {
     "data": {
      "text/plain": [
       "150.5860255447032"
      ]
     },
     "execution_count": 39,
     "metadata": {},
     "output_type": "execute_result"
    }
   ],
   "source": [
    "variance(population)"
   ]
  },
  {
   "cell_type": "code",
   "execution_count": 38,
   "id": "4e01d86c-21d1-40c3-8fc5-4ca8ac68f603",
   "metadata": {},
   "outputs": [
    {
     "data": {
      "text/plain": [
       "12.271349784954515"
      ]
     },
     "execution_count": 38,
     "metadata": {},
     "output_type": "execute_result"
    }
   ],
   "source": [
    "standard_deviation(population)"
   ]
  },
  {
   "cell_type": "markdown",
   "id": "a02be5a6-4cf3-42a9-9f48-e6e983d2c79d",
   "metadata": {},
   "source": [
    "### Mean Squared Error\n",
    "\n",
    "$MSE(\\overline{X}) = E\\bigl[ (\\overline{X} - \\mu)^2\\bigr] = \\bigl( \\frac{\\sigma}{\\sqrt{n}}\\bigr)^2 = \\frac{\\sigma^2}{n}$"
   ]
  },
  {
   "cell_type": "markdown",
   "id": "d0ef5db1-09ab-4b3f-831b-8f0f2ed56914",
   "metadata": {},
   "source": [
    "## Bias of an estimator\n",
    "\n",
    "[wikipedia](https://en.wikipedia.org/wiki/Bias_of_an_estimator)"
   ]
  },
  {
   "cell_type": "markdown",
   "id": "255a2363-1823-4d63-aa87-eff721d90ad6",
   "metadata": {},
   "source": [
    "## Expected Value\n",
    "\n",
    "[wikipedia](https://en.wikipedia.org/wiki/Expected_value)"
   ]
  },
  {
   "cell_type": "code",
   "execution_count": null,
   "id": "17b36ce5-0fa4-4078-a8c0-558f3ed66d41",
   "metadata": {},
   "outputs": [],
   "source": []
  }
 ],
 "metadata": {
  "kernelspec": {
   "display_name": "Python 3 (ipykernel)",
   "language": "python",
   "name": "python3"
  },
  "language_info": {
   "codemirror_mode": {
    "name": "ipython",
    "version": 3
   },
   "file_extension": ".py",
   "mimetype": "text/x-python",
   "name": "python",
   "nbconvert_exporter": "python",
   "pygments_lexer": "ipython3",
   "version": "3.10.6"
  }
 },
 "nbformat": 4,
 "nbformat_minor": 5
}
