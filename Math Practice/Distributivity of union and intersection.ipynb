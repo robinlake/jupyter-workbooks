{
 "cells": [
  {
   "cell_type": "code",
   "execution_count": 1,
   "id": "fe73c891",
   "metadata": {},
   "outputs": [],
   "source": [
    "import numpy as np\n",
    "import sympy as sp"
   ]
  },
  {
   "cell_type": "markdown",
   "id": "970da43e",
   "metadata": {},
   "source": [
    "Prove the following:\n",
    "- $A \\cap (B \\cup C) = (A \\cap B) \\cup (A \\cap C)$\n",
    "- $A \\cup (B \\cap C) = (A \\cup B) \\cap (A \\cup C)$"
   ]
  },
  {
   "cell_type": "markdown",
   "id": "312b4300",
   "metadata": {},
   "source": [
    "We will show:\n",
    "- $A \\cup (B \\cap C) \\subseteq (A \\cup B) \\cap (A \\cup C)$\n",
    "- and $(A \\cup B)\\cap(A\\cup C) \\subseteq A \\cup (B \\cap C)$\n",
    "- and so $A \\cup (B \\cap C) = (A \\cup B) \\cap (A \\cup C)$"
   ]
  },
  {
   "cell_type": "markdown",
   "id": "9517b9de",
   "metadata": {},
   "source": [
    "Proof:\n",
    "- Suppose $x \\in A \\cup (B \\cap C)$, then either... or ...\n",
    "\n",
    "- Now suppose $x \\in (A \\cup B) \\cap (A \\cup C)$, then... and ..."
   ]
  },
  {
   "cell_type": "code",
   "execution_count": null,
   "id": "c5191200",
   "metadata": {},
   "outputs": [],
   "source": []
  }
 ],
 "metadata": {
  "kernelspec": {
   "display_name": "Python 3 (ipykernel)",
   "language": "python",
   "name": "python3"
  },
  "language_info": {
   "codemirror_mode": {
    "name": "ipython",
    "version": 3
   },
   "file_extension": ".py",
   "mimetype": "text/x-python",
   "name": "python",
   "nbconvert_exporter": "python",
   "pygments_lexer": "ipython3",
   "version": "3.10.6"
  }
 },
 "nbformat": 4,
 "nbformat_minor": 5
}
