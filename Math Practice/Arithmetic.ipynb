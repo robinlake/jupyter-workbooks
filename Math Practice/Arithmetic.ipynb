{
 "cells": [
  {
   "cell_type": "code",
   "execution_count": 1,
   "id": "9e026859-8b58-4ae3-bc3a-cb629aecca79",
   "metadata": {},
   "outputs": [],
   "source": [
    "import sympy as sp\n",
    "import functools\n",
    "import math"
   ]
  },
  {
   "cell_type": "markdown",
   "id": "46450d80-7aef-4858-884f-9ede80be70fd",
   "metadata": {},
   "source": [
    "## Logarithms"
   ]
  },
  {
   "cell_type": "markdown",
   "id": "0b2f2cd5-3175-4027-9759-8f557932e393",
   "metadata": {},
   "source": [
    "### Logarithm Rules\n",
    "\n",
    "- Product: $log_b(xy) = log_b x + log_b y$\n",
    "- Quotient: $log_b\\frac{x}{y} = log_b x - log_b y$\n",
    "- Power: $log_b(x^p) = p\\space log_b x$\n",
    "- Root: $log_b\\sqrt[p]{x} = \\frac{log_b x}{p}$\n",
    "\n",
    "### Change of base\n",
    "$log_bx = \\frac{log_kx}{log_kb}$"
   ]
  },
  {
   "cell_type": "code",
   "execution_count": null,
   "id": "61857baa-3e5d-40c3-aa59-8950d652e946",
   "metadata": {},
   "outputs": [],
   "source": []
  }
 ],
 "metadata": {
  "kernelspec": {
   "display_name": "Python 3 (ipykernel)",
   "language": "python",
   "name": "python3"
  },
  "language_info": {
   "codemirror_mode": {
    "name": "ipython",
    "version": 3
   },
   "file_extension": ".py",
   "mimetype": "text/x-python",
   "name": "python",
   "nbconvert_exporter": "python",
   "pygments_lexer": "ipython3",
   "version": "3.10.6"
  }
 },
 "nbformat": 4,
 "nbformat_minor": 5
}
